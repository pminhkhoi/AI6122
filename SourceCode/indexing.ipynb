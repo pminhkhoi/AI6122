{
 "cells": [
  {
   "cell_type": "markdown",
   "metadata": {},
   "source": [
    "## Import libraries"
   ]
  },
  {
   "cell_type": "code",
   "execution_count": 2,
   "metadata": {},
   "outputs": [],
   "source": [
    "import os\n",
    "from whoosh.index import create_in, open_dir\n",
    "from whoosh.writing import BufferedWriter, AsyncWriter\n",
    "from whoosh.analysis import StandardAnalyzer, SimpleAnalyzer\n",
    "from whoosh.qparser import QueryParser\n",
    "from whoosh.fields import *\n",
    "import xml.etree.ElementTree as ET\n",
    "import numpy as np\n",
    "import time\n",
    "import concurrent"
   ]
  },
  {
   "cell_type": "markdown",
   "metadata": {},
   "source": [
    "## Defined model variables and settings"
   ]
  },
  {
   "cell_type": "code",
   "execution_count": 3,
   "metadata": {},
   "outputs": [],
   "source": [
    "doc_type = {k: 1 for k in ['inproceedings', 'incollection', 'book', 'proceedings', 'article']}\n",
    "features = {'title': ('title', 'booktitle'),\n",
    "            'year': ('year'),\n",
    "            'author': ('author', 'editor'),\n",
    "            'publication_venue': ('publisher', 'series', 'school', 'journal')}"
   ]
  },
  {
   "cell_type": "code",
   "execution_count": 4,
   "metadata": {},
   "outputs": [],
   "source": [
    "standard_analyzer = StandardAnalyzer()\n",
    "simple_analyzer = SimpleAnalyzer()"
   ]
  },
  {
   "cell_type": "code",
   "execution_count": 5,
   "metadata": {},
   "outputs": [],
   "source": [
    "# Define schema\n",
    "schema = Schema(\n",
    "    title=TEXT(analyzer=standard_analyzer, stored=True),\n",
    "    author=TEXT(analyzer=simple_analyzer, stored=True),\n",
    "    year=NUMERIC(stored=True),\n",
    "    publication_venue = TEXT(analyzer=standard_analyzer, stored=True)\n",
    ")"
   ]
  },
  {
   "cell_type": "code",
   "execution_count": 6,
   "metadata": {},
   "outputs": [],
   "source": [
    "# Create index directory if not exists\n",
    "if not os.path.exists(\"indexdir\"):\n",
    "    os.mkdir(\"indexdir\")"
   ]
  },
  {
   "cell_type": "markdown",
   "metadata": {},
   "source": [
    "## Indexing"
   ]
  },
  {
   "cell_type": "code",
   "execution_count": 7,
   "metadata": {},
   "outputs": [],
   "source": [
    "# Create an index\n",
    "ix = create_in(\"indexdir\", schema=schema, indexname=\"dblp\")\n",
    "class Parser():\n",
    "    def __init__(self):\n",
    "        self.idx = 0\n",
    "        # self.buffer = []\n",
    "        self.instance = {k: list() for k in features.keys()}\n",
    "        self.time = time.time()\n",
    "        self.timing = list([0])\n",
    "        self.percent = 0\n",
    "        self.flag = False\n",
    "\n",
    "    def parse(self, file = './dblp.xml', dtd = './dblp.dtd'):\n",
    "        for (event, element) in lxml.etree.iterparse(file, dtd_validation=True, events=['end'], load_dtd=dtd):\n",
    "            if self.idx == 0:\n",
    "                writer = AsyncWriter(ix, writerargs={'procs':6})\n",
    "            if element.tag in doc_type:\n",
    "                children = element.getchildren()\n",
    "                self.idx += 1\n",
    "                for child in children:\n",
    "                    if child.tag in features['title']:\n",
    "                        if child.text:\n",
    "                            self.instance['title'].append(child.text)\n",
    "                            self.flag = True\n",
    "                    elif child.tag in features['author']:\n",
    "                       if child.text:\n",
    "                            self.instance['author'].append(child.text)\n",
    "                            self.flag = True\n",
    "                    elif child.tag in features['year']:\n",
    "                        if child.text:\n",
    "                            self.instance['year'].append(child.text)\n",
    "                            self.flag = True\n",
    "                    elif child.tag in features['publication_venue']:\n",
    "                        if child.text:\n",
    "                            self.instance['publication_venue'].append(child.text)\n",
    "                            self.flag = True\n",
    "            if self.flag:\n",
    "                title = ', '.join(self.instance['title'])\n",
    "                author = ', '.join(self.instance['author'])\n",
    "                if self.instance['year'] == []:\n",
    "                    self.instance['year'] = ['0']\n",
    "                year = ', '.join(self.instance['year'])\n",
    "                publication_venue = ', '.join(self.instance['publication_venue'])\n",
    "\n",
    "                writer.add_document(title=title,\n",
    "                                author=author,\n",
    "                                year=year,\n",
    "                                publication_venue=publication_venue)\n",
    "                self.instance = {k: list() for k in features.keys()}\n",
    "                self.flag = False\n",
    "                if self.idx == 67867 or (element.tag == 'dblp' and event == 'end'):\n",
    "                    self.percent += 1\n",
    "                    self.timing.append(time.time() - self.time)\n",
    "                    print(f\"-- Finish indexing {self.percent}% of the corpus in {self.timing[-1]} seconds\")\n",
    "                    self.idx = 0\n",
    "                    writer.commit(optimize=True)\n",
    "        self.timing.append(time.time() - self.time)\n",
    "        print(f\"-- Finish indexing the corpus in {self.timing[-1]} seconds\")"
   ]
  },
  {
   "cell_type": "code",
   "execution_count": null,
   "metadata": {},
   "outputs": [],
   "source": [
    "timing = []\n",
    "parser = Parser()\n",
    "parser.parse()"
   ]
  }
 ],
 "metadata": {
  "kernelspec": {
   "display_name": "base",
   "language": "python",
   "name": "python3"
  },
  "language_info": {
   "codemirror_mode": {
    "name": "ipython",
    "version": 3
   },
   "file_extension": ".py",
   "mimetype": "text/x-python",
   "name": "python",
   "nbconvert_exporter": "python",
   "pygments_lexer": "ipython3",
   "version": "3.9.15"
  }
 },
 "nbformat": 4,
 "nbformat_minor": 2
}
