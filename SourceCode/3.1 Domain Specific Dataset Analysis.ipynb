{
 "cells": [
  {
   "cell_type": "code",
   "execution_count": 1,
   "metadata": {},
   "outputs": [],
   "source": [
    "import pandas as pd\n",
    "import nltk\n",
    "import os\n",
    "import re\n",
    "import matplotlib.pyplot as plt\n",
    "import statistics\n",
    "import PyPDF2 as pdf\n",
    "import seaborn as sns\n",
    "import random\n",
    "import string\n",
    "\n",
    "from nltk.tokenize import word_tokenize, sent_tokenize\n",
    "from nltk.stem import PorterStemmer\n",
    "from nltk import pos_tag\n",
    "from pprint import pprint\n",
    "\n",
    "pd.set_option('display.max_rows', None)\n",
    "\n",
    "data_path = '../Data'"
   ]
  },
  {
   "cell_type": "markdown",
   "metadata": {},
   "source": [
    "### Combining Data"
   ]
  },
  {
   "cell_type": "code",
   "execution_count": 2,
   "metadata": {},
   "outputs": [],
   "source": [
    "def dir_pdf_to_text(file_path, doc_read_counter = True):\n",
    "    '''\n",
    "    Uses PyPDF2\n",
    "    Function only takes in the directory of a folder anc converts all PDF files to text\n",
    "    '''\n",
    "    files = os.listdir(file_path)\n",
    "    pdf_ls = [i for i in files if i.endswith('.pdf')]\n",
    "\n",
    "    text_dic = {'No': [],\n",
    "                'PDF_title': [],\n",
    "                'Text': [],\n",
    "                'Page_length': [],\n",
    "                'Text_length': []\n",
    "               }\n",
    "\n",
    "    for idx, file in enumerate(pdf_ls):\n",
    "        max_files = len(pdf_ls)\n",
    "        with open(os.path.join(file_path, file), 'rb') as pdf_file:\n",
    "            # Create a PDF reader object\n",
    "            reader = pdf.PdfReader(pdf_file)\n",
    "\n",
    "            # Get the total number of pages in the PDF document\n",
    "            total_pages = len(reader.pages)\n",
    "\n",
    "            text = []\n",
    "            text_counter = 0\n",
    "            # Loop through all the pages and extract the text\n",
    "            for page_num in range(total_pages):\n",
    "                # Get the page object\n",
    "                page_obj = reader.pages[page_num]\n",
    "\n",
    "                # Extract the text from the page\n",
    "                page_text = page_obj.extract_text ()\n",
    "                text_counter +=len(page_text)\n",
    "                end_of_page = '=' * 30 + ' End of Page '+ str(page_num+1) + ' '+ '=' * 30\n",
    "\n",
    "                # Append pages of the same PDF together\n",
    "                text.append(page_text)\n",
    "                text.append(end_of_page)\n",
    "\n",
    "            if doc_read_counter:\n",
    "                print(f'# PDF read: {idx+1} | # PDF remaining: {max_files - idx - 1} | Total # PDF to be read: {max_files}')\n",
    "\n",
    "            # Append diff PDFs together\n",
    "            text_dic['No'].append(idx+1)\n",
    "            text_dic['PDF_title'].append(file)\n",
    "            text_dic['Text'].append('\\n\\n'.join(text))\n",
    "            text_dic['Page_length'].append(total_pages)\n",
    "            text_dic['Text_length'].append(text_counter)\n",
    "    return pd.DataFrame(text_dic)\n"
   ]
  },
  {
   "cell_type": "markdown",
   "metadata": {},
   "source": [
    "#### PDF"
   ]
  },
  {
   "cell_type": "code",
   "execution_count": 3,
   "metadata": {
    "scrolled": true
   },
   "outputs": [
    {
     "name": "stdout",
     "output_type": "stream",
     "text": [
      "# PDF read: 1 | # PDF remaining: 9 | Total # PDF to be read: 10\n",
      "# PDF read: 2 | # PDF remaining: 8 | Total # PDF to be read: 10\n",
      "# PDF read: 3 | # PDF remaining: 7 | Total # PDF to be read: 10\n",
      "# PDF read: 4 | # PDF remaining: 6 | Total # PDF to be read: 10\n",
      "# PDF read: 5 | # PDF remaining: 5 | Total # PDF to be read: 10\n",
      "# PDF read: 6 | # PDF remaining: 4 | Total # PDF to be read: 10\n",
      "# PDF read: 7 | # PDF remaining: 3 | Total # PDF to be read: 10\n",
      "# PDF read: 8 | # PDF remaining: 2 | Total # PDF to be read: 10\n",
      "# PDF read: 9 | # PDF remaining: 1 | Total # PDF to be read: 10\n",
      "# PDF read: 10 | # PDF remaining: 0 | Total # PDF to be read: 10\n"
     ]
    }
   ],
   "source": [
    "# Extract from PDF\n",
    "pdf_dir = os.path.join(data_path, 'AI Papers')\n",
    "\n",
    "pdf_df_raw = dir_pdf_to_text(pdf_dir)\n",
    "pdf_df_processed = pdf_df_raw.copy()\n",
    "\n",
    "# Remove redundant columns\n",
    "pdf_df_processed = pdf_df_processed[['PDF_title', 'Text']]\n",
    "pdf_df_processed.rename(columns={'PDF_title': 'Title', 'Text':'Contents'}, inplace = True)\n",
    "pdf_df_processed['Source'] = 'PDF'"
   ]
  },
  {
   "cell_type": "markdown",
   "metadata": {},
   "source": [
    "#### Google news"
   ]
  },
  {
   "cell_type": "code",
   "execution_count": 4,
   "metadata": {},
   "outputs": [],
   "source": [
    "google_news_df_raw = pd.read_excel(os.path.join(data_path, 'Google News Data.xlsx'))\n",
    "\n",
    "google_news_processed = google_news_df_raw.copy()\n",
    "\n",
    "# Remove redundant columns\n",
    "google_news_processed = google_news_processed[['Title', 'Article']]\n",
    "google_news_processed.rename(columns={ 'Article':'Contents'}, inplace = True)\n",
    "google_news_processed['Source'] = 'Google_News'"
   ]
  },
  {
   "cell_type": "markdown",
   "metadata": {},
   "source": [
    "#### Reddit"
   ]
  },
  {
   "cell_type": "code",
   "execution_count": 5,
   "metadata": {},
   "outputs": [],
   "source": [
    "reddit_df_raw = pd.read_excel(os.path.join(data_path, 'Reddit Data.xlsx'))\n",
    "\n",
    "reddit_df_processed = reddit_df_raw.copy()\n",
    "\n",
    "# Remove redundant columns\n",
    "reddit_df_processed = reddit_df_processed[['Title', 'Article']]\n",
    "reddit_df_processed.rename(columns={ 'Article':'Contents'}, inplace = True)\n",
    "reddit_df_processed['Source'] = 'Reddit'"
   ]
  },
  {
   "cell_type": "markdown",
   "metadata": {},
   "source": [
    "### Combining dataset from 3 different domains\n",
    "\n",
    "- Each document is defined as an article/PDF/reddit post"
   ]
  },
  {
   "cell_type": "code",
   "execution_count": 6,
   "metadata": {},
   "outputs": [],
   "source": [
    "df_raw = pd.concat([google_news_processed, reddit_df_processed, pdf_df_processed]).reset_index(drop=True)"
   ]
  },
  {
   "cell_type": "code",
   "execution_count": 9,
   "metadata": {},
   "outputs": [],
   "source": [
    "# df_raw.to_csv('df_raw.csv', index=False)"
   ]
  },
  {
   "cell_type": "markdown",
   "metadata": {},
   "source": [
    "# Run from here onwards"
   ]
  },
  {
   "cell_type": "code",
   "execution_count": 10,
   "metadata": {},
   "outputs": [],
   "source": [
    "# df_raw = pd.read_csv('df_raw.csv')"
   ]
  },
  {
   "cell_type": "markdown",
   "metadata": {},
   "source": [
    "### Tokenization\n",
    "\n",
    "Tokenize all documents in each domain using a selected library (e.g., NLTK) and observe the tokens obtained. Discuss your observations from the following perspectives. Has the tokenizer correctly recognized the domain specific tokens? Use examples to illustrate what the expected tokens are, and what are not, particularly on the domain specific terms.\n",
    "\n",
    "- NLKT tokenizer tokenizes words by a mixture of blank space and punctuations. This function uses the Punkt tokenizer for tokenizing words. Punkt is a pre-trained unsupervised machine learning model for tokenizing sentences. It comes with pre-trained models for some languages, including English.\n",
    "\n",
    "- Some of the words are wrongly tokenized\n",
    "    1. Google News\n",
    "        - Numbers with commas in the middle are correctly tokenized as the same word e.g. 3,700 -> '3,700'\n",
    "        - Words with - are tokenized correctly into single tokens. e.g. co-founder -> 'co-founder'\n",
    "        - Words with apostrophe should not be tokenized. E.g. sector's -> 'tech', 'sector', \"'s\"\n",
    "            - Words with ' should not be split\n",
    "        - Names should be tokenized as a single token E.g Web Summit -> 'Web', 'Summit', Paddy Cosgrave -> 'Paddy', 'Cosgrave'\n",
    "            - Consecutive words with first alphabets in caps, excluding those at the start of a sentence, should not be split\n",
    "        - Dates should not be tokenized e.g. Oct 7 -> 'Oct', '7'\n",
    "            - Up to 2 sets of numbers to left and right of each month (long and short form) should be group together\n",
    "    2. Reddit\n",
    "        -  Team names should be tokenized as a single token e.g.G2 Esports -> 'G2', 'Esports'\n",
    "    3. PDF\n",
    "        - Figure X should be tokenized together  \n",
    "            - Figure X, followed by a number (regardless of .) should be groupped together."
   ]
  },
  {
   "cell_type": "code",
   "execution_count": 7,
   "metadata": {
    "scrolled": true
   },
   "outputs": [],
   "source": [
    "# Tokenize\n",
    "df_raw['token_words'] = df_raw['Contents'].apply(word_tokenize)"
   ]
  },
  {
   "cell_type": "code",
   "execution_count": 8,
   "metadata": {},
   "outputs": [
    {
     "data": {
      "text/plain": [
       "array(['Google_News', 'Reddit', 'PDF'], dtype=object)"
      ]
     },
     "execution_count": 8,
     "metadata": {},
     "output_type": "execute_result"
    }
   ],
   "source": [
    "df_raw.Source.unique()"
   ]
  },
  {
   "cell_type": "code",
   "execution_count": 9,
   "metadata": {
    "scrolled": true
   },
   "outputs": [
    {
     "name": "stdout",
     "output_type": "stream",
     "text": [
      "Highlight Results\n",
      "\n",
      "The introduction of the Swiss stage gives Western teams a 33% relative increase in the estimated chance of winning Worlds versus a Swissless simulation (up from 1.5% to 2.1%), and a further relative improvement of a Western team making it to finals by approximately 50% (from 6.8% to 10.24%). We also observe that the Swiss stage has improved the chances of a Western team making it through to the knockout stage, with the odds of at least one Western team making it out improving from 84.5% to 96.7%.\n",
      "Introduction\n",
      "\n",
      "Hiya all, I began putting together a Stochastic Simulation to explore this, and slowly it developed into a full-fledged side-project that I worked on occasionally alongside my PhD. Started LoL in Season 2 and have been consuming some flavour of Lol Esports since around then (the first match I watched was the CLG-EU vs M5 70min). I have never posted on Reddit before, but I wanted to share my work properly (even if between moving home and getting internet it's now about 2 weeks late). irl name is Jordan, and the account was just made to contribute my project to the community. Github link to view the full notebook https://github.com/JordanJHood/StochasticSim-LeagueOfLegends-Worlds2023-WhatImpactWillSwissHave. Might put together a companion video explaining more and my thoughts as it's pretty hard to communicate everything here. I've linked the specific images where needed, and I will mark areas of cut content in brackets. An extra disclaimer before we start. The data isn't cleverly scraped, this project isn't perfect and the process is not as detailed as it could be. Even so, I am confident the method used provides a well-made stochastic simulation that meaningfully represents the format. I have done my utmost to outline my assumptions and justify my process below.\n",
      "Overview\n",
      "\n",
      "For the 2023 world championship, Riot updated their Groups stage from 4 groups of 4 teams with a double round robin within each group, to a Swiss stage. It is natural as a Western fan to ask what impact this might have for Western teams, as we typically perform better in volatile formats (such as the previous 'best of one' double round robin groups stage). We look to construct a stochastic simulation to investigate the new tournament system implemented by Riot.\n",
      "Previous Tournament(s) for data\n",
      "\n",
      "(Cut content explaining Major/Minor Regions) Throughout its history, League of Legends has had 4 primary international events. Worlds, the Mid-Season Invitational, Asian Games, and All-Stars. The All-Stars tournament is an off-season international tournament featuring fan-voted players, and was last seen in 2020 and will not be used in the data set. The Asian Games is an internationally recognised competition between countries that choose six players and coaching staff to send as their representatives. While League of Legends is used, it is not an exclusively Riot Games event. While it is a hyper-competitive event, players who play for one Region at Worlds or MSI may play for their home country's team in the Asian Games. Therefore as these teams do not represent those that would have had to fight through their regional league to be seeded into Worlds or MSI, and there are significant differences in how these teams are constructed, we will also be excluding the Asian Games from our data set. We therefore will only be considering the Mid-Season Invitational and Worlds matches as valid observations. The main issue we face is that as there are different numbers of representatives from different regions sent to each tournament, observations between the strongest seeds (Korea/China 1st seeds) and the weakest seeds (minor regions who struggle to make it to the main stage) are extremely limited / completely unobserved. As such, our first and most important assumption is that we will be measuring each Region's strength, rather than the strength of each region's seed individually (for example we will treat the 3rd seed of Europe the same as their 1st seed). In addition to increasing the pool of observations between different regions, this allows us a much simpler way to tackle changes in regions and regional construction throughout history.\n",
      "Blue-Team Advantage and Side Selection\n",
      "\n",
      "Blue has long been considered the stronger team and is chosen most often over the history of professional play. Typically the higher seed going into a match gets side selection in the first match (if the match is a best of 3 or 5), or teams will get to play once on both sides (in the double round robin mentioned above). The other way a team will have to choose a side is when they lose a match in a best of 3 or 5. We will calculate a global prior of Blue vs Red win chance, update the win chance for each region, and give whoever has side selection the choice of the better side for their region in the given circumstance.\n",
      "Data and League History\n",
      "\n",
      "(Cut content explaining that Metas changed, and explaining the different leagues). Some cut-off for the original seasons of League's history is required, as many of the institutions that now support teams in each region did not exist in the early years. I have chosen 2014 as the cut-off, so only data from season 5 (2015) and later will be considered. The precise cut-off does not have much justification, and there is an argument for formal analysis to see if there is a significant difference in the win rates of different teams around these years, however there is a lot of expert knowledge that would need to be provided to justify a specific cut-off date, and a rough estimate of 2015 seems satisfactory. The question is what to do with Oceania and Turkey? We can either re-classify their previous teams as they would appear in their new region, or we can remove them. Turkey is now a tier two region inside the LEC and as such none of their teams will be representing the LEC at Worlds. Further, the best performing Oceanian team placed 7/8th in the PCS, which implies the quality of Oceanian teams does not suitably represent the PCS, and as such both Regions should be excluded beyond calculating historic Blue advantage for our Prior.\n",
      "Assumptions\n",
      "\n",
      "    Regions have the same chance of winning regardless of the seed of the team from said region (see above)\n",
      "\n",
      "    Each region has a unique win probability vs each other region dependent on side selection (LEC vs LPL has different odds depending on if Europe is Blue or Red side)\n",
      "\n",
      "    The team with side selection will choose their best side vs the opposing region (we assume some prophetic perfect knowledge of the odds)\n",
      "\n",
      "    The Prior chosen will be a distribution for the Global win rate of Blue/Red side before observing any regional information\n",
      "\n",
      "    Matches between 2015-2023 (inclusive, so 8 and a half years of data) will be used, and that data further back doesn't accurately represent the current state of League of Legends in 2023.\n",
      "\n",
      "Outline\n",
      "\n",
      "The plan is as follows:\n",
      "\n",
      "\n",
      "    Collect every MSI and Worlds match since 2015 and store how many games each region won and against whom.\n",
      "\n",
      "    2) Construct a Prior distribution for the chance each side has to win before observing regional data which will be the average historical win-rates\n",
      "\n",
      "    3) Construct a Beta-Binomial Posterior distribution for the probability of each region winning on Blue against every other region.\n",
      "\n",
      "    4) Construct general functions we will require for the Simulations, sampling from each probability distribution based on who is playing.\n",
      "\n",
      "    5) Simulate a historical Worlds tournament\n",
      "\n",
      "    6) Simulate the new Swiss Structure at Worlds inside the new tournament structure\n",
      "\n",
      "    7) Repeat each simulation a substantial amount of times and observe how the West performs. How many times do we make it to the finals, etc.?\n",
      "\n",
      "Raw Match Information\n",
      "\n",
      "We collected every international match since the start of 2015 and broke them down into single-match observations. Below are the wins for each Region on Blue (First Column) by region:\n",
      "REGION\tCBL\tLCK\tLCS\tLEC\tLJL\tLLA\tLPL\tPCS\tVCS\tALL\n",
      "CBL\t0\t0\t2\t1\t8\t7\t1\t3\t2\t24\n",
      "LCK\t2\t28\t33\t49\t3\t3\t45\t18\t10\t191\n",
      "LCS\t4\t8\t2\t16\t4\t6\t9\t17\t10\t76\n",
      "LEC\t6\t12\t26\t2\t1\t5\t23\t17\t8\t100\n",
      "LJL\t3\t0\t3\t0\t0\t3\t0\t2\t2\t13\n",
      "LLA\t1\t0\t0\t0\t4\t1\t1\t2\t3\t12\n",
      "LPL\t2\t35\t30\t41\t5\t6\t14\t24\t11\t168\n",
      "PCS\t6\t8\t7\t9\t3\t6\t3\t1\t5\t48\n",
      "VCS\t0\t1\t1\t2\t2\t6\t2\t2\t0\t16\n",
      "ALL\t24\t92\t104\t120\t30\t43\t98\t86\t51\t648\n",
      "\n",
      "and the wins for each region on Red:\n",
      "REGION\tCBL\tLCK\tLCS\tLEC\tLJL\tLLA\tLPL\tPCS\tVCS\tALL\n",
      "CBL\t0\t0\t0\t0\t4\t3\t0\t0\t1\t8\n",
      "LCK\t3\t26\t27\t33\t3\t3\t35\t16\t12\t158\n",
      "LCS\t3\t3\t2\t9\t3\t1\t14\t14\t5\t54\n",
      "LEC\t2\t24\t13\t1\t1\t3\t16\t16\t9\t85\n",
      "LJL\t4\t0\t0\t1\t0\t3\t1\t2\t0\t11\n",
      "LLA\t0\t0\t0\t1\t2\t5\t1\t2\t3\t14\n",
      "LPL\t2\t32\t22\t28\t5\t4\t10\t18\t5\t126\n",
      "PCS\t4\t4\t8\t6\t2\t1\t5\t1\t6\t37\n",
      "VCS\t0\t0\t4\t7\t3\t7\t0\t3\t0\t24\n",
      "All\t18\t89\t76\t86\t23\t30\t82\t72\t41\t517\n",
      "Constructing Region Win Probabilities\n",
      "\n",
      "(I've done my best to get the little bit of stats across but I can't find a good way to put latex equations in a Reddit post :( ) As we can see from the data, there are some Regions which have NEVER won a match against another region. Obviously, they have some chance, even if the data we have observed doesn't include a win. As such, we're going to take a Bayesian approach and look to construct a posterior distribution for the probability a Region wins on blue. We can take the Maximum Posterior estimate probabilities as a win-chance for our simulation of the Swiss Stage. We could either model each game following the Bernoulli distribution, since whether a team wins or loses is a simple binary outcome, or we could model full matches following the Binomial Distribution. Since the Bernoulli distribution is a special case of the Binomial distribution, and therefore the Beta distribution can be used as a conjugate for both, there is minimal practical difference (as long as any side selection assumption is valid). Hence, as whoever wins each game determines side selection, it will be much simpler if we take the first approach. We assume that the probability a Region i wins a given match on Blue when against another Region j on Red is assumed to follow a Bernoulli distribution ω~Bern(p). Second, we need to construct our prior distribution for the chance any Region wins on Blue. We know that the win rate Blue should roughly be 56%, and that this is going to depend a lot on the quality of the team more so than this prior information. Therefore, we want a relatively flat Beta distribution with an expected value E[X] = 0.56. The expected value of the Beta distribution is given by E[x] = a/(a+b). As a Beta(1,1) is equivalent to a Uniform distribution over [0,1], and a Beta(2,2) is a parabola centred on 0.5, we choose a prior distribution of Beta(1.4,1.1) (https://github.com/JordanJHood/StochasticSim-LeagueOfLegends-Worlds2023-WhatImpactWillSwissHave/blob/main/Reddit%20Post/BetaDist.png). This gives a Posterior Probability for the chance a team wins vs any other region on both Blue and Red sides (See the Array here https://github.com/JordanJHood/StochasticSim-LeagueOfLegends-Worlds2023-WhatImpactWillSwissHave/blob/main/Reddit%20Post/Individual%20Win%20Odds.png).\n",
      "Prefered Side: Calculate the Best side for each Region.\n",
      "\n",
      "Now we have each team's Posterior win rate on Blue, we can work out what side they should choose if given the choice. Simply they need to choose whatever is greater: their Blue win odds, or their opponent's Blue loss odds.\n",
      "Previous Tournament Structure - Do our Probabilities and Assumptions hold up?\n",
      "\n",
      "(Removed description of previous groups format) We need to test a simulation with the old Format to check our method isn't absurd, which is a typical test to run when constructing a simulation for analysis. The issue is, that some of the regions no longer exist, some existed at different points, and the play-ins seeding is significantly different. Therefore, we're going to make some assumptions and run a test simulation of the old Groups. We want to construct some Pools that are historically accurate, and since I'm a Bias EU fan, let's pick the structure and teams from 2019, where the Pools were:\n",
      "\n",
      "\n",
      "    The Groups Pool 1 consisted of the four 1st Seeds from the LCK1, LPL1, LEC1 and LCS1\n",
      "\n",
      "    2) The Groups Pool 2 consisted of 8 teams. LCK2, LEC2, LCS2, LPL2, LPL3, VCS1, PCS1, PCS2\n",
      "\n",
      "    3) The Groups Pool 3 consisted of the 4 teams advancing from the previous PlayIns structure. As the strongest teams we have available to us on paper (Looking at you MAD Lions), we look to seed in LCK3, LEC3, LCS3 and VCS2 from the historical Play-Ins bracket. In tie-breaker matches, side selection was given to the team with the lower average victory time (https://www.esportsbets.com/league-of-legends/worlds/rules, note: I couldn't find a Riot source here), but as we don't simulate match time, we will decide side selection via a coin flip. This is not a perfect simulation as we are not tracking head-to-head results, which for certain tie-breaker scenarios would create more situations to track, and we're using a simplification here as Worlds is around the corner (29th September 2023) we're almost at the Main stage (17th October 2023). The logic we need to consider follows:\n",
      "\n",
      "    If there are two highest-scoring teams with unique scores, we select them accordingly\n",
      "\n",
      "    If there are two highest-scoring teams with non-unique scores, we need to play a tie-breaker match to determine 1st and 2nd seeds\n",
      "\n",
      "    If there is a highest scoring team with a unique score and two teams tied for runner-up, the runner-up teams must play a tie-breaker for 2nd seed\n",
      "\n",
      "    If there are three highest-scoring teams sharing the same score, they would be seeded into a tie-breaker bracket. The team with a buy would usually be the team with the lowest average game time in their victories, however as we do not simulate game time, the team with a buy will be selected at random and therefore will receive side selection in their match as they have been chosen to have the lowest average game time\n",
      "\n",
      "    If there is a highest scoring team with a unique score and the other three teams share the same lowest score, they would be seeded into a tie-breaker bracket for runner-up. The team with a buy would usually be the team with the lowest average game time in their victories, however as we do not simulate game time, the team with a buy will be selected at random and therefore will receive side selection in their match as they have been chosen to have the lowest average game time\n",
      "\n",
      "    If all 4 teams share the same scoreline, then they are seeded into a single elimination bracket with seeding decided by victory time. We will randomly seed the 4 teams into the single elimination bracket with 1st and 2nd Seeds awarded to the Winners and Runners-up of the bracket with side selection decided randomly The successful 8 teams are finally seeded into a single elimination best of 5 bracket, where the only stipulations are that a 1st Seed team must face off against a 2nd Seed team in the quarter-finals and that teams from the same group cannot be seeded into the same half of the bracket.\n",
      "\n",
      "Old Format - Results (Historic Results Images)\n",
      "What does our simulation say about the Winner of Worlds?\n",
      "\n",
      "The headline estimate figures under the simulation are that there is an approximate 3% chance any Western team happens to be the one to win Worlds under the previous format, which as over the 8 and a half years of data used no Western team has won Worlds holds up in line with reality. Of the 8 actual winners in the data set, 5 were from South Korea (62.5%) and 3 were from China (37.5%), with the simulation following a similar suit giving China 33.3% of all victories and South Korea 63.5%. Therefore, at least for the overall winner, the simulation appears to be a good historical reflection of reality. Plus, shout-out to the 6/10000 scenarios where the PCS won! (https://github.com/JordanJHood/StochasticSim-LeagueOfLegends-Worlds2023-WhatImpactWillSwissHave/blob/main/Reddit%20Post/Historic%20Win.png)\n",
      "How about the Runners Up?\n",
      "\n",
      "Collectively we have about a 12% chance of being eliminated as the Runners-up. Historically we've occupied 2/8 (25%) of the runner-up positions, which at first glance makes the simulation appear to be understating the West's ability to reach the Finals. However, considering that there are very few historical observations (only 8 observed runners-up), the simulated results are not an extreme divergence from history, and there is still a strong argument that the simulation is a fair representation of historic events. One could make the argument that one of these 2nd place positions was due to two Western teams meeting in the semi-finals (a very rare event, guaranteeing a Western top two position), and therefore the correct historic percentage should be the number of times a Western team has defeated an Eastern team in the semi-finals (G2 in 2019 is the only historical example, giving 12.5% observed vs 12% simulated estimate). This is not to make a comment on how strong Fnatic 2018 were in comparison to their peers at the time, as some considered them to potentially be the best Western team we had ever sent, and they finished their group as the 1st seed, winning against Invictus Gaming (the eventual winners) in their tie-breaker match. However, if we consider finals match occurrences, rather than winner or runners-up, the historic simulation looks even better justified.\n",
      "Finally (and most importantly), what about the number of scenarios where no one qualifies?\n",
      "\n",
      "Arguably more important is the number of simulated tournaments where no Western team makes it to groups. As the previous analysis looks at the proportion that a team appears in any randomly chosen position independent of other teams, we actually lose implicit information about those very teams. Worlds does not occur in a vacuum, and there are 16 teams all dependent on one another for positions. We see that under the conditions set out the chance no Western team made it to groups is approximately 1%. We also see how the chance of a Western team making it to the Semi-Finals and the Finals drops drastically as the Western teams now have to win a best of 5 (most likely against either China or Korea) to advance. While we appear in nearly 15% of finals (comparative to our 12.5% occupancy rate of total collective finals positions, where the difference occurs when the West has two teams in the Final), the final 3% chance to bring home the Worlds trophy still holds from the beginning of this analysis (https://github.com/JordanJHood/StochasticSim-LeagueOfLegends-Worlds2023-WhatImpactWillSwissHave/blob/main/Reddit%20Post/Historic%20Appearence%20Chance.png).\n",
      "Old Format Critique - Improved Resolution\n",
      "\n",
      "One significant criticism of the simulation for the historic format is that we no longer live in 2019, we live in 2023. While it is important to test assumptions by simulating the historic structure our data originates from, one cannot claim that the differences between a 2019 structure and the modern 2023 structure are only because of the introduction of the Swiss stage. Therefore we look to simulate a hyperthetical 2023 groups stage to evaluate the impact the introduction of Swiss has had on Western teams. Therefore we will label our previous simulation that looked at a historic format as the 'Historic' simulation, our comparison simulation with a hypothetical bracket 'Swissless', and the final 2023 simulation as \"Swiss\". The important difference between the Historic and Swissless formats is the inclusion of a 4th seeds from the most competitive regions, which as we have identified from the 2019 simulation, will likely have a hugely significant impact on the results as the difference between the proportional 30% of knockouts slots and 99% chance to not miss knockouts is likely to change drastically if there are enough LPL and LCK teams to fill all 8 knockout slots. Therefore, in order to simulate a Swissless Worlds 2023, we look to base the simulation heavily on the 2022 Worlds format, and while the draw rules were slightly different with 4 pools rather than 3 because we do not consider the strength of each seed, it has no impact on the simulation.\n",
      "'Swissless' 2023 Simulation (Swissless Results Images)\n",
      "\n",
      "Worlds 2022 saw 4 LPL teams, 4 LCK teams, 4 LEC teams, 3 LCS teams, 2 PCS, 2 VCS, 1 LLA, 1 LJL, 1 CBL, 1 LCO (Oceania) and 1 TCL (Turkey). For our Swissless simulation, we follow Worlds 2022 with 3 LCK, 3 LPL, 2 LEC, 2 LCS, 1 PCS and 1 VCS teams automatically seeded into the groups stage, and will further seed the 4th LCK and LPL seeds, 3rd LEC and LCS seeds (as those are the teams that passed the 2022 play-ins stage). We see that while we estimated the West to win about 3% of Worlds under the 2019 rules, under a hypothetical Swissless structure we only estimate a chance of 1.4% for a Western team to win the tournament (https://github.com/JordanJHood/StochasticSim-LeagueOfLegends-Worlds2023-WhatImpactWillSwissHave/blob/main/Reddit%20Post/Swissless%20Win.png). Further, we see how the probability of a Western team appearing at any stage in the knockouts has dropped significantly, with there now being a 10% chance no Western team makes knockouts, and only an approximate 6.8% chance of a Western team making a Finals appearance (https://github.com/JordanJHood/StochasticSim-LeagueOfLegends-Worlds2023-WhatImpactWillSwissHave/blob/main/Reddit%20Post/Swissless%20Appearence%20Chance.png). As expected China and Korea are effectively guaranteed to appear in the knockout stage, with approximate 91% and 99% odds to make it to semi-finals, and a further 89% and 64% odds respectively to have a team appear in the finals. Ultimately, when considering a deep run at Worlds as a team from the West making it to the finals, the addition of a 4th seed from the LPL and LEC more than halved the Western chance.\n",
      "The New Tournament Structure\n",
      "Play-Ins\n",
      "\n",
      "First, we need to find the final Western representative, which is simply achieved by running a Bo5 between LEC4 and LCS4. The Play-Ins feature 8 teams facing off in two double elimination Bo3 brackets that were drawn at random after the conclusion of the LEC finals on 10th September 2023, so the bracket order and placement of teams are known to us. However, we will sample the bracket randomly just as Riot has done in order to fully simulate a Worlds run under the current rules. The 8 teams are seeded via two pools into the 2 double elimination brackets where two teams will qualify for the Swiss stage. The Play-Ins conclude with the upper-bracket finalist from one bracket facing off against the lower-bracket finalist from the opposing bracket in a best of 5. Seeding rules that we seed all Pool 1 teams (upper tier), then all Pool 2 (lower tier), where any team from the same Region must be in different brackets, and any team from the same Pool cannot face each other in the first round.\n",
      "\n",
      "    Pool 1: PCS1 (PSG), PCS2 (CFO), VCS1 (GAM) & WQS Winner (LEC4 vs LCS4 in a Bo5)\n",
      "\n",
      "    Pool 2: VCS2 (TW), LJL1 (DFM), LLA1 (R7) & CBL1 (LLL)\n",
      "\n",
      "Swiss Stage\n",
      "\n",
      "Teams in the Swiss stage will always face an opponent with an equivalent scoreline throughout (potentially) 5 rounds. Teams play in a single Bo1 (which has massive implications for the impact of Blue advantage) unless playing in a qualification (to the knockouts) or elimination (lose and you're removed from the tournament) match where they play a Bo3 (https://lolesports.com/article/state-of-the-game-lol-esports-in-2023/blt5d3bca31d1b39e0c). Update 12th Sep 2023: Following the Primer, we now know how the teams are seeded into the Swiss bracket. Seeds 1 must fight a 4th Seed, and a 2nd Seed must fight a 3rd Seed, where seeds 1,2 and 3 are from their respective major regions, and 4th Seeds are LCK4, LPL4 and the two Play-In winners. We need to match the pairs and then randomly allocate these pairs to matches to suitably explore the full state space as a requirement for valid results for a Monte Carlo estimate. Further, throughout the Swiss bracket, side selection is not random as I had first coded up The most challenging part of this is that Riot Games is very tight on information on how the teams will be matched up throughout the bracket. For example, we don't know if a team that wins in round 3 from 1|1 to have a scoreline of 2|1 is equivalent to a team that lost the upper bracket to now be at 2|1. Are these teams treated the same or do we randomly match these teams up? If we do fix the Upper and Middle bracket teams in their own pools, then who gets the higher seed if they win? I've thought it best to randomly sample both the Upper and Lower brackets in round 4, and we will perform an extra random draw step going into the Knockout stage.\n",
      "Defining and Running the Worlds 2023 Simulation\n",
      "\n",
      "We're going to run for 10,000 tournaments. I would like to run more but this running on god knows what free Google Cloud machine. For an industrial simulation, 10,000 would not usually be sufficient, however as it is already the 15th of October, there is a limited state space with the model to explore, we're not learning any parameters and we're looking at unlikely but not extreme events, it's perfectly long enough. For any results, one could estimate a likely absolute error interval of about 0.5%-1% in the most extreme cases.\n",
      "Results - Winners (Swiss Results Images)\n",
      "\n",
      "The headline figure to highlight is that the odds of a Western team winning Worlds have shot up by approximately just over 33% relative to their estimated chances from the Swissless simulation, to a tournament-winning chance of about 2.1%. This gives the West a real-term odds increase of about 0.6% for Worlds 2023, where we see the odds of Korea or China ending up victorious only decline in real terms by about 0.5% each. However, we specifically see the biggest benefit for Europe, with them appearing in roughly 1.5 times the number of victories when compared to the Swissless simulation (https://github.com/JordanJHood/StochasticSim-LeagueOfLegends-Worlds2023-WhatImpactWillSwissHave/blob/main/Reddit%20Post/Swiss%20Win.png). For runner-up, we observe a similar change, where the Western chance of appearing here increases from approximately 5.4% to 8.3% (54% increase) at the expense of the Eastern teams under the new format. We further observe some impressive Minor region 2nd place finishes within our 10,000 simulated Worlds, implying there are better chances for a Minor region team making a deep run in the new format, although the simulation was not run long enough to make a reliable estimate for the exact percentage chance (https://github.com/JordanJHood/StochasticSim-LeagueOfLegends-Worlds2023-WhatImpactWillSwissHave/blob/main/Reddit%20Post/Swiss%20Runners%20Up.png). Finally, we observe how the Swiss changes have improved the chances of seeing a Western team make it through to the knockout stage, with the odds of at least one Western team making it out improving from 84.5% to 96.7%, with a further improvement of a Western team making it to finals increasing from 6.8% to 10.24% (approximately a 50% increase) (https://github.com/JordanJHood/StochasticSim-LeagueOfLegends-Worlds2023-WhatImpactWillSwissHave/blob/main/Reddit%20Post/Swiss%20Appearence%20Chance.png).\n",
      "Discussion\n",
      "\n",
      "While an extra 1/200 Worlds victories doesn't sound amazing, almost any team would jump at a chance to improve their odds of success by 33%! Meanwhile, while the Eastern teams do see their real-world chance of victory drop by about 0.2-0.5% each, this has only decreased their respective chances of winning Worlds by about 1% compared to their Swissless odds, which only goes to demonstrate the sheer dominance of the Eastern teams in this tournament. There is an interesting question to be answered as to why the Swiss format, which in theory should reward the superior regions (remember their win rate hasn't changed with the new format on a per-game basis) has resulted in a relatively considerable improvement for the Western teams' chances of making a meaningful run? I conjecture that the answer lies in how the Swiss stage is paired up. After the first round, where teams are drawn into matches based on their pools, the teams are then randomly paired with opponents of equal score. As there are likely to be some Korean vs Chinese matches in round 1, it simply takes some occurrence in certain rounds for an LCK or LPL team to be playing one another at both the 0|0, 1|0 and 0|1 scorelines, where the only block for a Western team is potentially to win a best of three. Further, with the West likely to fulfil slots 3 through 8, there will be multiple scenarios where say seed 4 and seed 7, as both Western teams, have the potential to be drawn together. While this is not likely, this scenario is more likely than a Western team in the Swissless structure drawn into say group A placing 1st Seed against both an LCK and LPL team, a Western team in any other group places 2nd seed beating out either their respective LCK or LPL team and both teams being drawn into a Quarter Finals match. I believe the reason for the improved Western odds this year is because as a part of the Swissless environment, with both 4 LCK and 4 LPL teams, every Western team is forced to overcome both a Korean and a Chinese team across 4 matches to obtain a beneficial Quarter-Finals match. This study shows that we can expect the West, which we model as objectively weaker than Chinese and Korean teams, to have a greater chance both to make it to the knockouts thereby eliminating one of those eight teams and making it all the way to the finals match, even winning the tournament. This certainly implies the Swiss format is far more volatile than the Groups system, and whether this is a worse format because of it is up for debate, as one could argue that increasing the possibility of engaging the entire Western fan base by enabling at least one Western team to make it to the Knockout stage is a good system. After all, everybody loves a good underdog storyline. Ultimately, Western fans should be quietly hopeful for one of our representatives to perform better than expected this year based on format changes alone. For anyone who has made it this far, thank you for taking the time to read this all. I'm very open to any and all feedback about this project. There is so much more that could be investigated! Ideas I have are:\n",
      "\n",
      "    Changes in the Number of Seeds (3 to 4 LPL and LCK seeds were MASSIVE)\n",
      "\n",
      "    Clear classification between China/Korea and Europe/North America (Major, Moderate and Minor Regions)\n",
      "\n",
      "    Strength of Seeds - some adjustment for 1st and 3/4th seeds\n",
      "\n",
      "    Warm-up and fatigue effects on different regions\n"
     ]
    }
   ],
   "source": [
    "print(df_raw.loc[df_raw.Source == 'Reddit'].reset_index(drop = True).Contents[4])"
   ]
  },
  {
   "cell_type": "code",
   "execution_count": 10,
   "metadata": {},
   "outputs": [
    {
     "data": {
      "text/plain": [
       "\"Highlight|Results|The|introduction|of|the|Swiss|stage|gives|Western|teams|a|33|%|relative|increase|in|the|estimated|chance|of|winning|Worlds|versus|a|Swissless|simulation|(|up|from|1.5|%|to|2.1|%|)|,|and|a|further|relative|improvement|of|a|Western|team|making|it|to|finals|by|approximately|50|%|(|from|6.8|%|to|10.24|%|)|.|We|also|observe|that|the|Swiss|stage|has|improved|the|chances|of|a|Western|team|making|it|through|to|the|knockout|stage|,|with|the|odds|of|at|least|one|Western|team|making|it|out|improving|from|84.5|%|to|96.7|%|.|Introduction|Hiya|all|,|I|began|putting|together|a|Stochastic|Simulation|to|explore|this|,|and|slowly|it|developed|into|a|full-fledged|side-project|that|I|worked|on|occasionally|alongside|my|PhD|.|Started|LoL|in|Season|2|and|have|been|consuming|some|flavour|of|Lol|Esports|since|around|then|(|the|first|match|I|watched|was|the|CLG-EU|vs|M5|70min|)|.|I|have|never|posted|on|Reddit|before|,|but|I|wanted|to|share|my|work|properly|(|even|if|between|moving|home|and|getting|internet|it|'s|now|about|2|weeks|late|)|.|irl|name|is|Jordan|,|and|the|account|was|just|made|to|contribute|my|project|to|the|community|.|Github|link|to|view|the|full|notebook|https|:|//github.com/JordanJHood/StochasticSim-LeagueOfLegends-Worlds2023-WhatImpactWillSwissHave|.|Might|put|together|a|companion|video|explaining|more|and|my|thoughts|as|it|'s|pretty|hard|to|communicate|everything|here|.|I|'ve|linked|the|specific|images|where|needed|,|and|I|will|mark|areas|of|cut|content|in|brackets|.|An|extra|disclaimer|before|we|start|.|The|data|is|n't|cleverly|scraped|,|this|project|is|n't|perfect|and|the|process|is|not|as|detailed|as|it|could|be|.|Even|so|,|I|am|confident|the|method|used|provides|a|well-made|stochastic|simulation|that|meaningfully|represents|the|format|.|I|have|done|my|utmost|to|outline|my|assumptions|and|justify|my|process|below|.|Overview|For|the|2023|world|championship|,|Riot|updated|their|Groups|stage|from|4|groups|of|4|teams|with|a|double|round|robin|within|each|group|,|to|a|Swiss|stage|.|It|is|natural|as|a|Western|fan|to|ask|what|impact|this|might|have|for|Western|teams|,|as|we|typically|perform|better|in|volatile|formats|(|such|as|the|previous|'best|of|one|'|double|round|robin|groups|stage|)|.|We|look|to|construct|a|stochastic|simulation|to|investigate|the|new|tournament|system|implemented|by|Riot|.|Previous|Tournament|(|s|)|for|data|(|Cut|content|explaining|Major/Minor|Regions|)|Throughout|its|history|,|League|of|Legends|has|had|4|primary|international|events|.|Worlds|,|the|Mid-Season|Invitational|,|Asian|Games|,|and|All-Stars|.|The|All-Stars|tournament|is|an|off-season|international|tournament|featuring|fan-voted|players|,|and|was|last|seen|in|2020|and|will|not|be|used|in|the|data|set|.|The|Asian|Games|is|an|internationally|recognised|competition|between|countries|that|choose|six|players|and|coaching|staff|to|send|as|their|representatives|.|While|League|of|Legends|is|used|,|it|is|not|an|exclusively|Riot|Games|event|.|While|it|is|a|hyper-competitive|event|,|players|who|play|for|one|Region|at|Worlds|or|MSI|may|play|for|their|home|country|'s|team|in|the|Asian|Games|.|Therefore|as|these|teams|do|not|represent|those|that|would|have|had|to|fight|through|their|regional|league|to|be|seeded|into|Worlds|or|MSI|,|and|there|are|significant|differences|in|how|these|teams|are|constructed|,|we|will|also|be|excluding|the|Asian|Games|from|our|data|set|.|We|therefore|will|only|be|considering|the|Mid-Season|Invitational|and|Worlds|matches|as|valid|observations|.|The|main|issue|we|face|is|that|as|there|are|different|numbers|of|representatives|from|different|regions|sent|to|each|tournament|,|observations|between|the|strongest|seeds|(|Korea/China|1st|seeds|)|and|the|weakest|seeds|(|minor|regions|who|struggle|to|make|it|to|the|main|stage|)|are|extremely|limited|/|completely|unobserved|.|As|such|,|our|first|and|most|important|assumption|is|that|we|will|be|measuring|each|Region|'s|strength|,|rather|than|the|strength|of|each|region|'s|seed|individually|(|for|example|we|will|treat|the|3rd|seed|of|Europe|the|same|as|their|1st|seed|)|.|In|addition|to|increasing|the|pool|of|observations|between|different|regions|,|this|allows|us|a|much|simpler|way|to|tackle|changes|in|regions|and|regional|construction|throughout|history|.|Blue-Team|Advantage|and|Side|Selection|Blue|has|long|been|considered|the|stronger|team|and|is|chosen|most|often|over|the|history|of|professional|play|.|Typically|the|higher|seed|going|into|a|match|gets|side|selection|in|the|first|match|(|if|the|match|is|a|best|of|3|or|5|)|,|or|teams|will|get|to|play|once|on|both|sides|(|in|the|double|round|robin|mentioned|above|)|.|The|other|way|a|team|will|have|to|choose|a|side|is|when|they|lose|a|match|in|a|best|of|3|or|5|.|We|will|calculate|a|global|prior|of|Blue|vs|Red|win|chance|,|update|the|win|chance|for|each|region|,|and|give|whoever|has|side|selection|the|choice|of|the|better|side|for|their|region|in|the|given|circumstance|.|Data|and|League|History|(|Cut|content|explaining|that|Metas|changed|,|and|explaining|the|different|leagues|)|.|Some|cut-off|for|the|original|seasons|of|League|'s|history|is|required|,|as|many|of|the|institutions|that|now|support|teams|in|each|region|did|not|exist|in|the|early|years|.|I|have|chosen|2014|as|the|cut-off|,|so|only|data|from|season|5|(|2015|)|and|later|will|be|considered|.|The|precise|cut-off|does|not|have|much|justification|,|and|there|is|an|argument|for|formal|analysis|to|see|if|there|is|a|significant|difference|in|the|win|rates|of|different|teams|around|these|years|,|however|there|is|a|lot|of|expert|knowledge|that|would|need|to|be|provided|to|justify|a|specific|cut-off|date|,|and|a|rough|estimate|of|2015|seems|satisfactory|.|The|question|is|what|to|do|with|Oceania|and|Turkey|?|We|can|either|re-classify|their|previous|teams|as|they|would|appear|in|their|new|region|,|or|we|can|remove|them|.|Turkey|is|now|a|tier|two|region|inside|the|LEC|and|as|such|none|of|their|teams|will|be|representing|the|LEC|at|Worlds|.|Further|,|the|best|performing|Oceanian|team|placed|7/8th|in|the|PCS|,|which|implies|the|quality|of|Oceanian|teams|does|not|suitably|represent|the|PCS|,|and|as|such|both|Regions|should|be|excluded|beyond|calculating|historic|Blue|advantage|for|our|Prior|.|Assumptions|Regions|have|the|same|chance|of|winning|regardless|of|the|seed|of|the|team|from|said|region|(|see|above|)|Each|region|has|a|unique|win|probability|vs|each|other|region|dependent|on|side|selection|(|LEC|vs|LPL|has|different|odds|depending|on|if|Europe|is|Blue|or|Red|side|)|The|team|with|side|selection|will|choose|their|best|side|vs|the|opposing|region|(|we|assume|some|prophetic|perfect|knowledge|of|the|odds|)|The|Prior|chosen|will|be|a|distribution|for|the|Global|win|rate|of|Blue/Red|side|before|observing|any|regional|information|Matches|between|2015-2023|(|inclusive|,|so|8|and|a|half|years|of|data|)|will|be|used|,|and|that|data|further|back|does|n't|accurately|represent|the|current|state|of|League|of|Legends|in|2023|.|Outline|The|plan|is|as|follows|:|Collect|every|MSI|and|Worlds|match|since|2015|and|store|how|many|games|each|region|won|and|against|whom|.|2|)|Construct|a|Prior|distribution|for|the|chance|each|side|has|to|win|before|observing|regional|data|which|will|be|the|average|historical|win-rates|3|)|Construct|a|Beta-Binomial|Posterior|distribution|for|the|probability|of|each|region|winning|on|Blue|against|every|other|region|.|4|)|Construct|general|functions|we|will|require|for|the|Simulations|,|sampling|from|each|probability|distribution|based|on|who|is|playing|.|5|)|Simulate|a|historical|Worlds|tournament|6|)|Simulate|the|new|Swiss|Structure|at|Worlds|inside|the|new|tournament|structure|7|)|Repeat|each|simulation|a|substantial|amount|of|times|and|observe|how|the|West|performs|.|How|many|times|do|we|make|it|to|the|finals|,|etc.|?|Raw|Match|Information|We|collected|every|international|match|since|the|start|of|2015|and|broke|them|down|into|single-match|observations|.|Below|are|the|wins|for|each|Region|on|Blue|(|First|Column|)|by|region|:|REGION|CBL|LCK|LCS|LEC|LJL|LLA|LPL|PCS|VCS|ALL|CBL|0|0|2|1|8|7|1|3|2|24|LCK|2|28|33|49|3|3|45|18|10|191|LCS|4|8|2|16|4|6|9|17|10|76|LEC|6|12|26|2|1|5|23|17|8|100|LJL|3|0|3|0|0|3|0|2|2|13|LLA|1|0|0|0|4|1|1|2|3|12|LPL|2|35|30|41|5|6|14|24|11|168|PCS|6|8|7|9|3|6|3|1|5|48|VCS|0|1|1|2|2|6|2|2|0|16|ALL|24|92|104|120|30|43|98|86|51|648|and|the|wins|for|each|region|on|Red|:|REGION|CBL|LCK|LCS|LEC|LJL|LLA|LPL|PCS|VCS|ALL|CBL|0|0|0|0|4|3|0|0|1|8|LCK|3|26|27|33|3|3|35|16|12|158|LCS|3|3|2|9|3|1|14|14|5|54|LEC|2|24|13|1|1|3|16|16|9|85|LJL|4|0|0|1|0|3|1|2|0|11|LLA|0|0|0|1|2|5|1|2|3|14|LPL|2|32|22|28|5|4|10|18|5|126|PCS|4|4|8|6|2|1|5|1|6|37|VCS|0|0|4|7|3|7|0|3|0|24|All|18|89|76|86|23|30|82|72|41|517|Constructing|Region|Win|Probabilities|(|I|'ve|done|my|best|to|get|the|little|bit|of|stats|across|but|I|ca|n't|find|a|good|way|to|put|latex|equations|in|a|Reddit|post|:|(|)|As|we|can|see|from|the|data|,|there|are|some|Regions|which|have|NEVER|won|a|match|against|another|region|.|Obviously|,|they|have|some|chance|,|even|if|the|data|we|have|observed|does|n't|include|a|win|.|As|such|,|we|'re|going|to|take|a|Bayesian|approach|and|look|to|construct|a|posterior|distribution|for|the|probability|a|Region|wins|on|blue|.|We|can|take|the|Maximum|Posterior|estimate|probabilities|as|a|win-chance|for|our|simulation|of|the|Swiss|Stage|.|We|could|either|model|each|game|following|the|Bernoulli|distribution|,|since|whether|a|team|wins|or|loses|is|a|simple|binary|outcome|,|or|we|could|model|full|matches|following|the|Binomial|Distribution|.|Since|the|Bernoulli|distribution|is|a|special|case|of|the|Binomial|distribution|,|and|therefore|the|Beta|distribution|can|be|used|as|a|conjugate|for|both|,|there|is|minimal|practical|difference|(|as|long|as|any|side|selection|assumption|is|valid|)|.|Hence|,|as|whoever|wins|each|game|determines|side|selection|,|it|will|be|much|simpler|if|we|take|the|first|approach|.|We|assume|that|the|probability|a|Region|i|wins|a|given|match|on|Blue|when|against|another|Region|j|on|Red|is|assumed|to|follow|a|Bernoulli|distribution|ω~Bern|(|p|)|.|Second|,|we|need|to|construct|our|prior|distribution|for|the|chance|any|Region|wins|on|Blue|.|We|know|that|the|win|rate|Blue|should|roughly|be|56|%|,|and|that|this|is|going|to|depend|a|lot|on|the|quality|of|the|team|more|so|than|this|prior|information|.|Therefore|,|we|want|a|relatively|flat|Beta|distribution|with|an|expected|value|E|[|X|]|=|0.56|.|The|expected|value|of|the|Beta|distribution|is|given|by|E|[|x|]|=|a/|(|a+b|)|.|As|a|Beta|(|1,1|)|is|equivalent|to|a|Uniform|distribution|over|[|0,1|]|,|and|a|Beta|(|2,2|)|is|a|parabola|centred|on|0.5|,|we|choose|a|prior|distribution|of|Beta|(|1.4,1.1|)|(|https|:|//github.com/JordanJHood/StochasticSim-LeagueOfLegends-Worlds2023-WhatImpactWillSwissHave/blob/main/Reddit|%|20Post/BetaDist.png|)|.|This|gives|a|Posterior|Probability|for|the|chance|a|team|wins|vs|any|other|region|on|both|Blue|and|Red|sides|(|See|the|Array|here|https|:|//github.com/JordanJHood/StochasticSim-LeagueOfLegends-Worlds2023-WhatImpactWillSwissHave/blob/main/Reddit|%|20Post/Individual|%|20Win|%|20Odds.png|)|.|Prefered|Side|:|Calculate|the|Best|side|for|each|Region|.|Now|we|have|each|team|'s|Posterior|win|rate|on|Blue|,|we|can|work|out|what|side|they|should|choose|if|given|the|choice|.|Simply|they|need|to|choose|whatever|is|greater|:|their|Blue|win|odds|,|or|their|opponent|'s|Blue|loss|odds|.|Previous|Tournament|Structure|-|Do|our|Probabilities|and|Assumptions|hold|up|?|(|Removed|description|of|previous|groups|format|)|We|need|to|test|a|simulation|with|the|old|Format|to|check|our|method|is|n't|absurd|,|which|is|a|typical|test|to|run|when|constructing|a|simulation|for|analysis|.|The|issue|is|,|that|some|of|the|regions|no|longer|exist|,|some|existed|at|different|points|,|and|the|play-ins|seeding|is|significantly|different|.|Therefore|,|we|'re|going|to|make|some|assumptions|and|run|a|test|simulation|of|the|old|Groups|.|We|want|to|construct|some|Pools|that|are|historically|accurate|,|and|since|I|'m|a|Bias|EU|fan|,|let|'s|pick|the|structure|and|teams|from|2019|,|where|the|Pools|were|:|The|Groups|Pool|1|consisted|of|the|four|1st|Seeds|from|the|LCK1|,|LPL1|,|LEC1|and|LCS1|2|)|The|Groups|Pool|2|consisted|of|8|teams|.|LCK2|,|LEC2|,|LCS2|,|LPL2|,|LPL3|,|VCS1|,|PCS1|,|PCS2|3|)|The|Groups|Pool|3|consisted|of|the|4|teams|advancing|from|the|previous|PlayIns|structure|.|As|the|strongest|teams|we|have|available|to|us|on|paper|(|Looking|at|you|MAD|Lions|)|,|we|look|to|seed|in|LCK3|,|LEC3|,|LCS3|and|VCS2|from|the|historical|Play-Ins|bracket|.|In|tie-breaker|matches|,|side|selection|was|given|to|the|team|with|the|lower|average|victory|time|(|https|:|//www.esportsbets.com/league-of-legends/worlds/rules|,|note|:|I|could|n't|find|a|Riot|source|here|)|,|but|as|we|do|n't|simulate|match|time|,|we|will|decide|side|selection|via|a|coin|flip|.|This|is|not|a|perfect|simulation|as|we|are|not|tracking|head-to-head|results|,|which|for|certain|tie-breaker|scenarios|would|create|more|situations|to|track|,|and|we|'re|using|a|simplification|here|as|Worlds|is|around|the|corner|(|29th|September|2023|)|we|'re|almost|at|the|Main|stage|(|17th|October|2023|)|.|The|logic|we|need|to|consider|follows|:|If|there|are|two|highest-scoring|teams|with|unique|scores|,|we|select|them|accordingly|If|there|are|two|highest-scoring|teams|with|non-unique|scores|,|we|need|to|play|a|tie-breaker|match|to|determine|1st|and|2nd|seeds|If|there|is|a|highest|scoring|team|with|a|unique|score|and|two|teams|tied|for|runner-up|,|the|runner-up|teams|must|play|a|tie-breaker|for|2nd|seed|If|there|are|three|highest-scoring|teams|sharing|the|same|score|,|they|would|be|seeded|into|a|tie-breaker|bracket|.|The|team|with|a|buy|would|usually|be|the|team|with|the|lowest|average|game|time|in|their|victories|,|however|as|we|do|not|simulate|game|time|,|the|team|with|a|buy|will|be|selected|at|random|and|therefore|will|receive|side|selection|in|their|match|as|they|have|been|chosen|to|have|the|lowest|average|game|time|If|there|is|a|highest|scoring|team|with|a|unique|score|and|the|other|three|teams|share|the|same|lowest|score|,|they|would|be|seeded|into|a|tie-breaker|bracket|for|runner-up|.|The|team|with|a|buy|would|usually|be|the|team|with|the|lowest|average|game|time|in|their|victories|,|however|as|we|do|not|simulate|game|time|,|the|team|with|a|buy|will|be|selected|at|random|and|therefore|will|receive|side|selection|in|their|match|as|they|have|been|chosen|to|have|the|lowest|average|game|time|If|all|4|teams|share|the|same|scoreline|,|then|they|are|seeded|into|a|single|elimination|bracket|with|seeding|decided|by|victory|time|.|We|will|randomly|seed|the|4|teams|into|the|single|elimination|bracket|with|1st|and|2nd|Seeds|awarded|to|the|Winners|and|Runners-up|of|the|bracket|with|side|selection|decided|randomly|The|successful|8|teams|are|finally|seeded|into|a|single|elimination|best|of|5|bracket|,|where|the|only|stipulations|are|that|a|1st|Seed|team|must|face|off|against|a|2nd|Seed|team|in|the|quarter-finals|and|that|teams|from|the|same|group|can|not|be|seeded|into|the|same|half|of|the|bracket|.|Old|Format|-|Results|(|Historic|Results|Images|)|What|does|our|simulation|say|about|the|Winner|of|Worlds|?|The|headline|estimate|figures|under|the|simulation|are|that|there|is|an|approximate|3|%|chance|any|Western|team|happens|to|be|the|one|to|win|Worlds|under|the|previous|format|,|which|as|over|the|8|and|a|half|years|of|data|used|no|Western|team|has|won|Worlds|holds|up|in|line|with|reality|.|Of|the|8|actual|winners|in|the|data|set|,|5|were|from|South|Korea|(|62.5|%|)|and|3|were|from|China|(|37.5|%|)|,|with|the|simulation|following|a|similar|suit|giving|China|33.3|%|of|all|victories|and|South|Korea|63.5|%|.|Therefore|,|at|least|for|the|overall|winner|,|the|simulation|appears|to|be|a|good|historical|reflection|of|reality|.|Plus|,|shout-out|to|the|6/10000|scenarios|where|the|PCS|won|!|(|https|:|//github.com/JordanJHood/StochasticSim-LeagueOfLegends-Worlds2023-WhatImpactWillSwissHave/blob/main/Reddit|%|20Post/Historic|%|20Win.png|)|How|about|the|Runners|Up|?|Collectively|we|have|about|a|12|%|chance|of|being|eliminated|as|the|Runners-up|.|Historically|we|'ve|occupied|2/8|(|25|%|)|of|the|runner-up|positions|,|which|at|first|glance|makes|the|simulation|appear|to|be|understating|the|West|'s|ability|to|reach|the|Finals|.|However|,|considering|that|there|are|very|few|historical|observations|(|only|8|observed|runners-up|)|,|the|simulated|results|are|not|an|extreme|divergence|from|history|,|and|there|is|still|a|strong|argument|that|the|simulation|is|a|fair|representation|of|historic|events|.|One|could|make|the|argument|that|one|of|these|2nd|place|positions|was|due|to|two|Western|teams|meeting|in|the|semi-finals|(|a|very|rare|event|,|guaranteeing|a|Western|top|two|position|)|,|and|therefore|the|correct|historic|percentage|should|be|the|number|of|times|a|Western|team|has|defeated|an|Eastern|team|in|the|semi-finals|(|G2|in|2019|is|the|only|historical|example|,|giving|12.5|%|observed|vs|12|%|simulated|estimate|)|.|This|is|not|to|make|a|comment|on|how|strong|Fnatic|2018|were|in|comparison|to|their|peers|at|the|time|,|as|some|considered|them|to|potentially|be|the|best|Western|team|we|had|ever|sent|,|and|they|finished|their|group|as|the|1st|seed|,|winning|against|Invictus|Gaming|(|the|eventual|winners|)|in|their|tie-breaker|match|.|However|,|if|we|consider|finals|match|occurrences|,|rather|than|winner|or|runners-up|,|the|historic|simulation|looks|even|better|justified|.|Finally|(|and|most|importantly|)|,|what|about|the|number|of|scenarios|where|no|one|qualifies|?|Arguably|more|important|is|the|number|of|simulated|tournaments|where|no|Western|team|makes|it|to|groups|.|As|the|previous|analysis|looks|at|the|proportion|that|a|team|appears|in|any|randomly|chosen|position|independent|of|other|teams|,|we|actually|lose|implicit|information|about|those|very|teams|.|Worlds|does|not|occur|in|a|vacuum|,|and|there|are|16|teams|all|dependent|on|one|another|for|positions|.|We|see|that|under|the|conditions|set|out|the|chance|no|Western|team|made|it|to|groups|is|approximately|1|%|.|We|also|see|how|the|chance|of|a|Western|team|making|it|to|the|Semi-Finals|and|the|Finals|drops|drastically|as|the|Western|teams|now|have|to|win|a|best|of|5|(|most|likely|against|either|China|or|Korea|)|to|advance|.|While|we|appear|in|nearly|15|%|of|finals|(|comparative|to|our|12.5|%|occupancy|rate|of|total|collective|finals|positions|,|where|the|difference|occurs|when|the|West|has|two|teams|in|the|Final|)|,|the|final|3|%|chance|to|bring|home|the|Worlds|trophy|still|holds|from|the|beginning|of|this|analysis|(|https|:|//github.com/JordanJHood/StochasticSim-LeagueOfLegends-Worlds2023-WhatImpactWillSwissHave/blob/main/Reddit|%|20Post/Historic|%|20Appearence|%|20Chance.png|)|.|Old|Format|Critique|-|Improved|Resolution|One|significant|criticism|of|the|simulation|for|the|historic|format|is|that|we|no|longer|live|in|2019|,|we|live|in|2023|.|While|it|is|important|to|test|assumptions|by|simulating|the|historic|structure|our|data|originates|from|,|one|can|not|claim|that|the|differences|between|a|2019|structure|and|the|modern|2023|structure|are|only|because|of|the|introduction|of|the|Swiss|stage|.|Therefore|we|look|to|simulate|a|hyperthetical|2023|groups|stage|to|evaluate|the|impact|the|introduction|of|Swiss|has|had|on|Western|teams|.|Therefore|we|will|label|our|previous|simulation|that|looked|at|a|historic|format|as|the|'Historic|'|simulation|,|our|comparison|simulation|with|a|hypothetical|bracket|'Swissless|'|,|and|the|final|2023|simulation|as|``|Swiss|''|.|The|important|difference|between|the|Historic|and|Swissless|formats|is|the|inclusion|of|a|4th|seeds|from|the|most|competitive|regions|,|which|as|we|have|identified|from|the|2019|simulation|,|will|likely|have|a|hugely|significant|impact|on|the|results|as|the|difference|between|the|proportional|30|%|of|knockouts|slots|and|99|%|chance|to|not|miss|knockouts|is|likely|to|change|drastically|if|there|are|enough|LPL|and|LCK|teams|to|fill|all|8|knockout|slots|.|Therefore|,|in|order|to|simulate|a|Swissless|Worlds|2023|,|we|look|to|base|the|simulation|heavily|on|the|2022|Worlds|format|,|and|while|the|draw|rules|were|slightly|different|with|4|pools|rather|than|3|because|we|do|not|consider|the|strength|of|each|seed|,|it|has|no|impact|on|the|simulation|.|'Swissless|'|2023|Simulation|(|Swissless|Results|Images|)|Worlds|2022|saw|4|LPL|teams|,|4|LCK|teams|,|4|LEC|teams|,|3|LCS|teams|,|2|PCS|,|2|VCS|,|1|LLA|,|1|LJL|,|1|CBL|,|1|LCO|(|Oceania|)|and|1|TCL|(|Turkey|)|.|For|our|Swissless|simulation|,|we|follow|Worlds|2022|with|3|LCK|,|3|LPL|,|2|LEC|,|2|LCS|,|1|PCS|and|1|VCS|teams|automatically|seeded|into|the|groups|stage|,|and|will|further|seed|the|4th|LCK|and|LPL|seeds|,|3rd|LEC|and|LCS|seeds|(|as|those|are|the|teams|that|passed|the|2022|play-ins|stage|)|.|We|see|that|while|we|estimated|the|West|to|win|about|3|%|of|Worlds|under|the|2019|rules|,|under|a|hypothetical|Swissless|structure|we|only|estimate|a|chance|of|1.4|%|for|a|Western|team|to|win|the|tournament|(|https|:|//github.com/JordanJHood/StochasticSim-LeagueOfLegends-Worlds2023-WhatImpactWillSwissHave/blob/main/Reddit|%|20Post/Swissless|%|20Win.png|)|.|Further|,|we|see|how|the|probability|of|a|Western|team|appearing|at|any|stage|in|the|knockouts|has|dropped|significantly|,|with|there|now|being|a|10|%|chance|no|Western|team|makes|knockouts|,|and|only|an|approximate|6.8|%|chance|of|a|Western|team|making|a|Finals|appearance|(|https|:|//github.com/JordanJHood/StochasticSim-LeagueOfLegends-Worlds2023-WhatImpactWillSwissHave/blob/main/Reddit|%|20Post/Swissless|%|20Appearence|%|20Chance.png|)|.|As|expected|China|and|Korea|are|effectively|guaranteed|to|appear|in|the|knockout|stage|,|with|approximate|91|%|and|99|%|odds|to|make|it|to|semi-finals|,|and|a|further|89|%|and|64|%|odds|respectively|to|have|a|team|appear|in|the|finals|.|Ultimately|,|when|considering|a|deep|run|at|Worlds|as|a|team|from|the|West|making|it|to|the|finals|,|the|addition|of|a|4th|seed|from|the|LPL|and|LEC|more|than|halved|the|Western|chance|.|The|New|Tournament|Structure|Play-Ins|First|,|we|need|to|find|the|final|Western|representative|,|which|is|simply|achieved|by|running|a|Bo5|between|LEC4|and|LCS4|.|The|Play-Ins|feature|8|teams|facing|off|in|two|double|elimination|Bo3|brackets|that|were|drawn|at|random|after|the|conclusion|of|the|LEC|finals|on|10th|September|2023|,|so|the|bracket|order|and|placement|of|teams|are|known|to|us|.|However|,|we|will|sample|the|bracket|randomly|just|as|Riot|has|done|in|order|to|fully|simulate|a|Worlds|run|under|the|current|rules|.|The|8|teams|are|seeded|via|two|pools|into|the|2|double|elimination|brackets|where|two|teams|will|qualify|for|the|Swiss|stage|.|The|Play-Ins|conclude|with|the|upper-bracket|finalist|from|one|bracket|facing|off|against|the|lower-bracket|finalist|from|the|opposing|bracket|in|a|best|of|5|.|Seeding|rules|that|we|seed|all|Pool|1|teams|(|upper|tier|)|,|then|all|Pool|2|(|lower|tier|)|,|where|any|team|from|the|same|Region|must|be|in|different|brackets|,|and|any|team|from|the|same|Pool|can|not|face|each|other|in|the|first|round|.|Pool|1|:|PCS1|(|PSG|)|,|PCS2|(|CFO|)|,|VCS1|(|GAM|)|&|WQS|Winner|(|LEC4|vs|LCS4|in|a|Bo5|)|Pool|2|:|VCS2|(|TW|)|,|LJL1|(|DFM|)|,|LLA1|(|R7|)|&|CBL1|(|LLL|)|Swiss|Stage|Teams|in|the|Swiss|stage|will|always|face|an|opponent|with|an|equivalent|scoreline|throughout|(|potentially|)|5|rounds|.|Teams|play|in|a|single|Bo1|(|which|has|massive|implications|for|the|impact|of|Blue|advantage|)|unless|playing|in|a|qualification|(|to|the|knockouts|)|or|elimination|(|lose|and|you|'re|removed|from|the|tournament|)|match|where|they|play|a|Bo3|(|https|:|//lolesports.com/article/state-of-the-game-lol-esports-in-2023/blt5d3bca31d1b39e0c|)|.|Update|12th|Sep|2023|:|Following|the|Primer|,|we|now|know|how|the|teams|are|seeded|into|the|Swiss|bracket|.|Seeds|1|must|fight|a|4th|Seed|,|and|a|2nd|Seed|must|fight|a|3rd|Seed|,|where|seeds|1,2|and|3|are|from|their|respective|major|regions|,|and|4th|Seeds|are|LCK4|,|LPL4|and|the|two|Play-In|winners|.|We|need|to|match|the|pairs|and|then|randomly|allocate|these|pairs|to|matches|to|suitably|explore|the|full|state|space|as|a|requirement|for|valid|results|for|a|Monte|Carlo|estimate|.|Further|,|throughout|the|Swiss|bracket|,|side|selection|is|not|random|as|I|had|first|coded|up|The|most|challenging|part|of|this|is|that|Riot|Games|is|very|tight|on|information|on|how|the|teams|will|be|matched|up|throughout|the|bracket|.|For|example|,|we|do|n't|know|if|a|team|that|wins|in|round|3|from|1|1|to|have|a|scoreline|of|2|1|is|equivalent|to|a|team|that|lost|the|upper|bracket|to|now|be|at|2|1|.|Are|these|teams|treated|the|same|or|do|we|randomly|match|these|teams|up|?|If|we|do|fix|the|Upper|and|Middle|bracket|teams|in|their|own|pools|,|then|who|gets|the|higher|seed|if|they|win|?|I|'ve|thought|it|best|to|randomly|sample|both|the|Upper|and|Lower|brackets|in|round|4|,|and|we|will|perform|an|extra|random|draw|step|going|into|the|Knockout|stage|.|Defining|and|Running|the|Worlds|2023|Simulation|We|'re|going|to|run|for|10,000|tournaments|.|I|would|like|to|run|more|but|this|running|on|god|knows|what|free|Google|Cloud|machine|.|For|an|industrial|simulation|,|10,000|would|not|usually|be|sufficient|,|however|as|it|is|already|the|15th|of|October|,|there|is|a|limited|state|space|with|the|model|to|explore|,|we|'re|not|learning|any|parameters|and|we|'re|looking|at|unlikely|but|not|extreme|events|,|it|'s|perfectly|long|enough|.|For|any|results|,|one|could|estimate|a|likely|absolute|error|interval|of|about|0.5|%|-1|%|in|the|most|extreme|cases|.|Results|-|Winners|(|Swiss|Results|Images|)|The|headline|figure|to|highlight|is|that|the|odds|of|a|Western|team|winning|Worlds|have|shot|up|by|approximately|just|over|33|%|relative|to|their|estimated|chances|from|the|Swissless|simulation|,|to|a|tournament-winning|chance|of|about|2.1|%|.|This|gives|the|West|a|real-term|odds|increase|of|about|0.6|%|for|Worlds|2023|,|where|we|see|the|odds|of|Korea|or|China|ending|up|victorious|only|decline|in|real|terms|by|about|0.5|%|each|.|However|,|we|specifically|see|the|biggest|benefit|for|Europe|,|with|them|appearing|in|roughly|1.5|times|the|number|of|victories|when|compared|to|the|Swissless|simulation|(|https|:|//github.com/JordanJHood/StochasticSim-LeagueOfLegends-Worlds2023-WhatImpactWillSwissHave/blob/main/Reddit|%|20Post/Swiss|%|20Win.png|)|.|For|runner-up|,|we|observe|a|similar|change|,|where|the|Western|chance|of|appearing|here|increases|from|approximately|5.4|%|to|8.3|%|(|54|%|increase|)|at|the|expense|of|the|Eastern|teams|under|the|new|format|.|We|further|observe|some|impressive|Minor|region|2nd|place|finishes|within|our|10,000|simulated|Worlds|,|implying|there|are|better|chances|for|a|Minor|region|team|making|a|deep|run|in|the|new|format|,|although|the|simulation|was|not|run|long|enough|to|make|a|reliable|estimate|for|the|exact|percentage|chance|(|https|:|//github.com/JordanJHood/StochasticSim-LeagueOfLegends-Worlds2023-WhatImpactWillSwissHave/blob/main/Reddit|%|20Post/Swiss|%|20Runners|%|20Up.png|)|.|Finally|,|we|observe|how|the|Swiss|changes|have|improved|the|chances|of|seeing|a|Western|team|make|it|through|to|the|knockout|stage|,|with|the|odds|of|at|least|one|Western|team|making|it|out|improving|from|84.5|%|to|96.7|%|,|with|a|further|improvement|of|a|Western|team|making|it|to|finals|increasing|from|6.8|%|to|10.24|%|(|approximately|a|50|%|increase|)|(|https|:|//github.com/JordanJHood/StochasticSim-LeagueOfLegends-Worlds2023-WhatImpactWillSwissHave/blob/main/Reddit|%|20Post/Swiss|%|20Appearence|%|20Chance.png|)|.|Discussion|While|an|extra|1/200|Worlds|victories|does|n't|sound|amazing|,|almost|any|team|would|jump|at|a|chance|to|improve|their|odds|of|success|by|33|%|!|Meanwhile|,|while|the|Eastern|teams|do|see|their|real-world|chance|of|victory|drop|by|about|0.2-0.5|%|each|,|this|has|only|decreased|their|respective|chances|of|winning|Worlds|by|about|1|%|compared|to|their|Swissless|odds|,|which|only|goes|to|demonstrate|the|sheer|dominance|of|the|Eastern|teams|in|this|tournament|.|There|is|an|interesting|question|to|be|answered|as|to|why|the|Swiss|format|,|which|in|theory|should|reward|the|superior|regions|(|remember|their|win|rate|has|n't|changed|with|the|new|format|on|a|per-game|basis|)|has|resulted|in|a|relatively|considerable|improvement|for|the|Western|teams|'|chances|of|making|a|meaningful|run|?|I|conjecture|that|the|answer|lies|in|how|the|Swiss|stage|is|paired|up|.|After|the|first|round|,|where|teams|are|drawn|into|matches|based|on|their|pools|,|the|teams|are|then|randomly|paired|with|opponents|of|equal|score|.|As|there|are|likely|to|be|some|Korean|vs|Chinese|matches|in|round|1|,|it|simply|takes|some|occurrence|in|certain|rounds|for|an|LCK|or|LPL|team|to|be|playing|one|another|at|both|the|0|0|,|1|0|and|0|1|scorelines|,|where|the|only|block|for|a|Western|team|is|potentially|to|win|a|best|of|three|.|Further|,|with|the|West|likely|to|fulfil|slots|3|through|8|,|there|will|be|multiple|scenarios|where|say|seed|4|and|seed|7|,|as|both|Western|teams|,|have|the|potential|to|be|drawn|together|.|While|this|is|not|likely|,|this|scenario|is|more|likely|than|a|Western|team|in|the|Swissless|structure|drawn|into|say|group|A|placing|1st|Seed|against|both|an|LCK|and|LPL|team|,|a|Western|team|in|any|other|group|places|2nd|seed|beating|out|either|their|respective|LCK|or|LPL|team|and|both|teams|being|drawn|into|a|Quarter|Finals|match|.|I|believe|the|reason|for|the|improved|Western|odds|this|year|is|because|as|a|part|of|the|Swissless|environment|,|with|both|4|LCK|and|4|LPL|teams|,|every|Western|team|is|forced|to|overcome|both|a|Korean|and|a|Chinese|team|across|4|matches|to|obtain|a|beneficial|Quarter-Finals|match|.|This|study|shows|that|we|can|expect|the|West|,|which|we|model|as|objectively|weaker|than|Chinese|and|Korean|teams|,|to|have|a|greater|chance|both|to|make|it|to|the|knockouts|thereby|eliminating|one|of|those|eight|teams|and|making|it|all|the|way|to|the|finals|match|,|even|winning|the|tournament|.|This|certainly|implies|the|Swiss|format|is|far|more|volatile|than|the|Groups|system|,|and|whether|this|is|a|worse|format|because|of|it|is|up|for|debate|,|as|one|could|argue|that|increasing|the|possibility|of|engaging|the|entire|Western|fan|base|by|enabling|at|least|one|Western|team|to|make|it|to|the|Knockout|stage|is|a|good|system|.|After|all|,|everybody|loves|a|good|underdog|storyline|.|Ultimately|,|Western|fans|should|be|quietly|hopeful|for|one|of|our|representatives|to|perform|better|than|expected|this|year|based|on|format|changes|alone|.|For|anyone|who|has|made|it|this|far|,|thank|you|for|taking|the|time|to|read|this|all|.|I|'m|very|open|to|any|and|all|feedback|about|this|project|.|There|is|so|much|more|that|could|be|investigated|!|Ideas|I|have|are|:|Changes|in|the|Number|of|Seeds|(|3|to|4|LPL|and|LCK|seeds|were|MASSIVE|)|Clear|classification|between|China/Korea|and|Europe/North|America|(|Major|,|Moderate|and|Minor|Regions|)|Strength|of|Seeds|-|some|adjustment|for|1st|and|3/4th|seeds|Warm-up|and|fatigue|effects|on|different|regions\""
      ]
     },
     "execution_count": 10,
     "metadata": {},
     "output_type": "execute_result"
    }
   ],
   "source": [
    "'|'.join(df_raw.loc[df_raw.Source == 'Reddit'].reset_index(drop = True).token_words[4])"
   ]
  },
  {
   "cell_type": "code",
   "execution_count": 11,
   "metadata": {
    "scrolled": true
   },
   "outputs": [
    {
     "name": "stdout",
     "output_type": "stream",
     "text": [
      "['Provided', 'proper', 'attribution', 'is', 'provided', ',', 'Google', 'hereby', 'grants', 'permission', 'to', 'reproduce', 'the', 'tables', 'and', 'figures', 'in', 'this', 'paper', 'solely', 'for', 'use', 'in', 'journalistic', 'or', 'scholarly', 'works', '.', 'Attention', 'Is', 'All', 'You', 'Need', 'Ashish', 'Vaswani∗', 'Google', 'Brain', 'avaswani', '@', 'google.comNoam', 'Shazeer∗', 'Google', 'Brain', 'noam', '@', 'google.comNiki', 'Parmar∗', 'Google', 'Research', 'nikip', '@', 'google.comJakob', 'Uszkoreit∗', 'Google', 'Research', 'usz', '@', 'google.com', 'Llion', 'Jones∗', 'Google', 'Research', 'llion', '@', 'google.comAidan', 'N.', 'Gomez∗', '†', 'University', 'of', 'Toronto', 'aidan', '@', 'cs.toronto.eduŁukasz', 'Kaiser∗', 'Google', 'Brain', 'lukaszkaiser', '@', 'google.com', 'Illia', 'Polosukhin∗', '‡', 'illia.polosukhin', '@', 'gmail.com', 'Abstract', 'The', 'dominant', 'sequence', 'transduction', 'models', 'are', 'based', 'on', 'complex', 'recurrent', 'or', 'convolutional', 'neural', 'networks', 'that', 'include', 'an', 'encoder', 'and', 'a', 'decoder', '.', 'The', 'best', 'performing', 'models', 'also', 'connect', 'the', 'encoder', 'and', 'decoder', 'through', 'an', 'attention', 'mechanism', '.', 'We', 'propose', 'a', 'new', 'simple', 'network', 'architecture', ',', 'the', 'Transformer', ',', 'based', 'solely', 'on', 'attention', 'mechanisms', ',', 'dispensing', 'with', 'recurrence', 'and', 'convolutions', 'entirely', '.', 'Experiments', 'on', 'two', 'machine', 'translation', 'tasks', 'show', 'these', 'models', 'to', 'be', 'superior', 'in', 'quality', 'while', 'being', 'more', 'parallelizable', 'and', 'requiring', 'significantly', 'less', 'time', 'to', 'train', '.', 'Our', 'model', 'achieves', '28.4', 'BLEU', 'on', 'the', 'WMT', '2014', 'English-', 'to-German', 'translation', 'task', ',', 'improving', 'over', 'the', 'existing', 'best', 'results', ',', 'including', 'ensembles', ',', 'by', 'over', '2', 'BLEU', '.', 'On', 'the', 'WMT', '2014', 'English-to-French', 'translation', 'task', ',', 'our', 'model', 'establishes', 'a', 'new', 'single-model', 'state-of-the-art', 'BLEU', 'score', 'of', '41.8', 'after', 'training', 'for', '3.5', 'days', 'on', 'eight', 'GPUs', ',', 'a', 'small', 'fraction', 'of', 'the', 'training', 'costs', 'of', 'the', 'best', 'models', 'from', 'the', 'literature', '.', 'We', 'show', 'that', 'the', 'Transformer', 'generalizes', 'well', 'to', 'other', 'tasks', 'by', 'applying', 'it', 'successfully', 'to', 'English', 'constituency', 'parsing', 'both', 'with', 'large', 'and', 'limited', 'training', 'data', '.', '∗Equal', 'contribution', '.', 'Listing', 'order', 'is', 'random', '.', 'Jakob', 'proposed', 'replacing', 'RNNs', 'with', 'self-attention', 'and', 'started', 'the', 'effort', 'to', 'evaluate', 'this', 'idea', '.', 'Ashish', ',', 'with', 'Illia', ',', 'designed', 'and', 'implemented', 'the', 'first', 'Transformer', 'models', 'and', 'has', 'been', 'crucially', 'involved', 'in', 'every', 'aspect', 'of', 'this', 'work', '.', 'Noam', 'proposed', 'scaled', 'dot-product', 'attention', ',', 'multi-head', 'attention', 'and', 'the', 'parameter-free', 'position', 'representation', 'and', 'became', 'the', 'other', 'person', 'involved', 'in', 'nearly', 'every', 'detail', '.', 'Niki', 'designed', ',', 'implemented', ',', 'tuned', 'and', 'evaluated', 'countless', 'model', 'variants', 'in', 'our', 'original', 'codebase', 'and', 'tensor2tensor', '.', 'Llion', 'also', 'experimented', 'with', 'novel', 'model', 'variants', ',', 'was', 'responsible', 'for', 'our', 'initial', 'codebase', ',', 'and', 'efficient', 'inference', 'and', 'visualizations', '.', 'Lukasz', 'and', 'Aidan', 'spent', 'countless', 'long', 'days', 'designing', 'various', 'parts', 'of', 'and', 'implementing', 'tensor2tensor', ',', 'replacing', 'our', 'earlier', 'codebase', ',', 'greatly', 'improving', 'results', 'and', 'massively', 'accelerating', 'our', 'research', '.', '†Work', 'performed', 'while', 'at', 'Google', 'Brain', '.', '‡Work', 'performed', 'while', 'at', 'Google', 'Research', '.', '31st', 'Conference', 'on', 'Neural', 'Information', 'Processing', 'Systems', '(', 'NIPS', '2017', ')', ',', 'Long', 'Beach', ',', 'CA', ',', 'USA.arXiv:1706.03762v7', '[', 'cs.CL', ']', '2', 'Aug', '2023', '==============================', 'End', 'of', 'Page', '1', '==============================', '1', 'Introduction', 'Recurrent', 'neural', 'networks', ',', 'long', 'short-term', 'memory', '[', '13', ']', 'and', 'gated', 'recurrent', '[', '7', ']', 'neural', 'networks', 'in', 'particular', ',', 'have', 'been', 'firmly', 'established', 'as', 'state', 'of', 'the', 'art', 'approaches', 'in', 'sequence', 'modeling', 'and', 'transduction', 'problems', 'such', 'as', 'language', 'modeling', 'and', 'machine', 'translation', '[', '35,2,5', ']', '.', 'Numerous', 'efforts', 'have', 'since', 'continued', 'to', 'push', 'the', 'boundaries', 'of', 'recurrent', 'language', 'models', 'and', 'encoder-decoder', 'architectures', '[', '38', ',', '24', ',', '15', ']', '.', 'Recurrent', 'models', 'typically', 'factor', 'computation', 'along', 'the', 'symbol', 'positions', 'of', 'the', 'input', 'and', 'output', 'sequences', '.', 'Aligning', 'the', 'positions', 'to', 'steps', 'in', 'computation', 'time', ',', 'they', 'generate', 'a', 'sequence', 'of', 'hidden', 'states', 'ht', ',', 'as', 'a', 'function', 'of', 'the', 'previous', 'hidden', 'state', 'ht−1and', 'the', 'input', 'for', 'position', 't.', 'This', 'inherently', 'sequential', 'nature', 'precludes', 'parallelization', 'within', 'training', 'examples', ',', 'which', 'becomes', 'critical', 'at', 'longer', 'sequence', 'lengths', ',', 'as', 'memory', 'constraints', 'limit', 'batching', 'across', 'examples', '.', 'Recent', 'work', 'has', 'achieved', 'significant', 'improvements', 'in', 'computational', 'efficiency', 'through', 'factorization', 'tricks', '[', '21', ']', 'and', 'conditional', 'computation', '[', '32', ']', ',', 'while', 'also', 'improving', 'model', 'performance', 'in', 'case', 'of', 'the', 'latter', '.', 'The', 'fundamental', 'constraint', 'of', 'sequential', 'computation', ',', 'however', ',', 'remains', '.', 'Attention', 'mechanisms', 'have', 'become', 'an', 'integral', 'part', 'of', 'compelling', 'sequence', 'modeling', 'and', 'transduc-', 'tion', 'models', 'in', 'various', 'tasks', ',', 'allowing', 'modeling', 'of', 'dependencies', 'without', 'regard', 'to', 'their', 'distance', 'in', 'the', 'input', 'or', 'output', 'sequences', '[', '2,19', ']', '.', 'In', 'all', 'but', 'a', 'few', 'cases', '[', '27', ']', ',', 'however', ',', 'such', 'attention', 'mechanisms', 'are', 'used', 'in', 'conjunction', 'with', 'a', 'recurrent', 'network', '.', 'In', 'this', 'work', 'we', 'propose', 'the', 'Transformer', ',', 'a', 'model', 'architecture', 'eschewing', 'recurrence', 'and', 'instead', 'relying', 'entirely', 'on', 'an', 'attention', 'mechanism', 'to', 'draw', 'global', 'dependencies', 'between', 'input', 'and', 'output', '.', 'The', 'Transformer', 'allows', 'for', 'significantly', 'more', 'parallelization', 'and', 'can', 'reach', 'a', 'new', 'state', 'of', 'the', 'art', 'in', 'translation', 'quality', 'after', 'being', 'trained', 'for', 'as', 'little', 'as', 'twelve', 'hours', 'on', 'eight', 'P100', 'GPUs', '.', '2', 'Background', 'The', 'goal', 'of', 'reducing', 'sequential', 'computation', 'also', 'forms', 'the', 'foundation', 'of', 'the', 'Extended', 'Neural', 'GPU', '[', '16', ']', ',', 'ByteNet', '[', '18', ']', 'and', 'ConvS2S', '[', '9', ']', ',', 'all', 'of', 'which', 'use', 'convolutional', 'neural', 'networks', 'as', 'basic', 'building', 'block', ',', 'computing', 'hidden', 'representations', 'in', 'parallel', 'for', 'all', 'input', 'and', 'output', 'positions', '.', 'In', 'these', 'models', ',', 'the', 'number', 'of', 'operations', 'required', 'to', 'relate', 'signals', 'from', 'two', 'arbitrary', 'input', 'or', 'output', 'positions', 'grows', 'in', 'the', 'distance', 'between', 'positions', ',', 'linearly', 'for', 'ConvS2S', 'and', 'logarithmically', 'for', 'ByteNet', '.', 'This', 'makes', 'it', 'more', 'difficult', 'to', 'learn', 'dependencies', 'between', 'distant', 'positions', '[', '12', ']', '.', 'In', 'the', 'Transformer', 'this', 'is', 'reduced', 'to', 'a', 'constant', 'number', 'of', 'operations', ',', 'albeit', 'at', 'the', 'cost', 'of', 'reduced', 'effective', 'resolution', 'due', 'to', 'averaging', 'attention-weighted', 'positions', ',', 'an', 'effect', 'we', 'counteract', 'with', 'Multi-Head', 'Attention', 'as', 'described', 'in', 'section', '3.2', '.', 'Self-attention', ',', 'sometimes', 'called', 'intra-attention', 'is', 'an', 'attention', 'mechanism', 'relating', 'different', 'positions', 'of', 'a', 'single', 'sequence', 'in', 'order', 'to', 'compute', 'a', 'representation', 'of', 'the', 'sequence', '.', 'Self-attention', 'has', 'been', 'used', 'successfully', 'in', 'a', 'variety', 'of', 'tasks', 'including', 'reading', 'comprehension', ',', 'abstractive', 'summarization', ',', 'textual', 'entailment', 'and', 'learning', 'task-independent', 'sentence', 'representations', '[', '4', ',', '27', ',', '28', ',', '22', ']', '.', 'End-to-end', 'memory', 'networks', 'are', 'based', 'on', 'a', 'recurrent', 'attention', 'mechanism', 'instead', 'of', 'sequence-', 'aligned', 'recurrence', 'and', 'have', 'been', 'shown', 'to', 'perform', 'well', 'on', 'simple-language', 'question', 'answering', 'and', 'language', 'modeling', 'tasks', '[', '34', ']', '.', 'To', 'the', 'best', 'of', 'our', 'knowledge', ',', 'however', ',', 'the', 'Transformer', 'is', 'the', 'first', 'transduction', 'model', 'relying', 'entirely', 'on', 'self-attention', 'to', 'compute', 'representations', 'of', 'its', 'input', 'and', 'output', 'without', 'using', 'sequence-', 'aligned', 'RNNs', 'or', 'convolution', '.', 'In', 'the', 'following', 'sections', ',', 'we', 'will', 'describe', 'the', 'Transformer', ',', 'motivate', 'self-attention', 'and', 'discuss', 'its', 'advantages', 'over', 'models', 'such', 'as', '[', '17', ',', '18', ']', 'and', '[', '9', ']', '.', '3', 'Model', 'Architecture', 'Most', 'competitive', 'neural', 'sequence', 'transduction', 'models', 'have', 'an', 'encoder-decoder', 'structure', '[', '5,2,35', ']', '.', 'Here', ',', 'the', 'encoder', 'maps', 'an', 'input', 'sequence', 'of', 'symbol', 'representations', '(', 'x1', ',', '...', ',', 'x', 'n', ')', 'to', 'a', 'sequence', 'of', 'continuous', 'representations', 'z=', '(', 'z1', ',', '...', ',', 'z', 'n', ')', '.', 'Given', 'z', ',', 'the', 'decoder', 'then', 'generates', 'an', 'output', 'sequence', '(', 'y1', ',', '...', ',', 'y', 'm', ')', 'of', 'symbols', 'one', 'element', 'at', 'a', 'time', '.', 'At', 'each', 'step', 'the', 'model', 'is', 'auto-regressive', '[', '10', ']', ',', 'consuming', 'the', 'previously', 'generated', 'symbols', 'as', 'additional', 'input', 'when', 'generating', 'the', 'next', '.', '2', '==============================', 'End', 'of', 'Page', '2', '==============================', 'Figure', '1', ':', 'The', 'Transformer', '-', 'model', 'architecture', '.', 'The', 'Transformer', 'follows', 'this', 'overall', 'architecture', 'using', 'stacked', 'self-attention', 'and', 'point-wise', ',', 'fully', 'connected', 'layers', 'for', 'both', 'the', 'encoder', 'and', 'decoder', ',', 'shown', 'in', 'the', 'left', 'and', 'right', 'halves', 'of', 'Figure', '1', ',', 'respectively', '.', '3.1', 'Encoder', 'and', 'Decoder', 'Stacks', 'Encoder', ':', 'The', 'encoder', 'is', 'composed', 'of', 'a', 'stack', 'of', 'N=', '6', 'identical', 'layers', '.', 'Each', 'layer', 'has', 'two', 'sub-layers', '.', 'The', 'first', 'is', 'a', 'multi-head', 'self-attention', 'mechanism', ',', 'and', 'the', 'second', 'is', 'a', 'simple', ',', 'position-', 'wise', 'fully', 'connected', 'feed-forward', 'network', '.', 'We', 'employ', 'a', 'residual', 'connection', '[', '11', ']', 'around', 'each', 'of', 'the', 'two', 'sub-layers', ',', 'followed', 'by', 'layer', 'normalization', '[', '1', ']', '.', 'That', 'is', ',', 'the', 'output', 'of', 'each', 'sub-layer', 'is', 'LayerNorm', '(', 'x+', 'Sublayer', '(', 'x', ')', ')', ',', 'where', 'Sublayer', '(', 'x', ')', 'is', 'the', 'function', 'implemented', 'by', 'the', 'sub-layer', 'itself', '.', 'To', 'facilitate', 'these', 'residual', 'connections', ',', 'all', 'sub-layers', 'in', 'the', 'model', ',', 'as', 'well', 'as', 'the', 'embedding', 'layers', ',', 'produce', 'outputs', 'of', 'dimension', 'dmodel', '=', '512', '.', 'Decoder', ':', 'The', 'decoder', 'is', 'also', 'composed', 'of', 'a', 'stack', 'of', 'N=', '6identical', 'layers', '.', 'In', 'addition', 'to', 'the', 'two', 'sub-layers', 'in', 'each', 'encoder', 'layer', ',', 'the', 'decoder', 'inserts', 'a', 'third', 'sub-layer', ',', 'which', 'performs', 'multi-head', 'attention', 'over', 'the', 'output', 'of', 'the', 'encoder', 'stack', '.', 'Similar', 'to', 'the', 'encoder', ',', 'we', 'employ', 'residual', 'connections', 'around', 'each', 'of', 'the', 'sub-layers', ',', 'followed', 'by', 'layer', 'normalization', '.', 'We', 'also', 'modify', 'the', 'self-attention', 'sub-layer', 'in', 'the', 'decoder', 'stack', 'to', 'prevent', 'positions', 'from', 'attending', 'to', 'subsequent', 'positions', '.', 'This', 'masking', ',', 'combined', 'with', 'fact', 'that', 'the', 'output', 'embeddings', 'are', 'offset', 'by', 'one', 'position', ',', 'ensures', 'that', 'the', 'predictions', 'for', 'position', 'ican', 'depend', 'only', 'on', 'the', 'known', 'outputs', 'at', 'positions', 'less', 'than', 'i', '.', '3.2', 'Attention', 'An', 'attention', 'function', 'can', 'be', 'described', 'as', 'mapping', 'a', 'query', 'and', 'a', 'set', 'of', 'key-value', 'pairs', 'to', 'an', 'output', ',', 'where', 'the', 'query', ',', 'keys', ',', 'values', ',', 'and', 'output', 'are', 'all', 'vectors', '.', 'The', 'output', 'is', 'computed', 'as', 'a', 'weighted', 'sum', '3', '==============================', 'End', 'of', 'Page', '3', '==============================', 'Scaled', 'Dot-Product', 'Attention', 'Multi-Head', 'Attention', 'Figure', '2', ':', '(', 'left', ')', 'Scaled', 'Dot-Product', 'Attention', '.', '(', 'right', ')', 'Multi-Head', 'Attention', 'consists', 'of', 'several', 'attention', 'layers', 'running', 'in', 'parallel', '.', 'of', 'the', 'values', ',', 'where', 'the', 'weight', 'assigned', 'to', 'each', 'value', 'is', 'computed', 'by', 'a', 'compatibility', 'function', 'of', 'the', 'query', 'with', 'the', 'corresponding', 'key', '.', '3.2.1', 'Scaled', 'Dot-Product', 'Attention', 'We', 'call', 'our', 'particular', 'attention', '``', 'Scaled', 'Dot-Product', 'Attention', \"''\", '(', 'Figure', '2', ')', '.', 'The', 'input', 'consists', 'of', 'queries', 'and', 'keys', 'of', 'dimension', 'dk', ',', 'and', 'values', 'of', 'dimension', 'dv', '.', 'We', 'compute', 'the', 'dot', 'products', 'of', 'the', 'query', 'with', 'all', 'keys', ',', 'divide', 'each', 'by√dk', ',', 'and', 'apply', 'a', 'softmax', 'function', 'to', 'obtain', 'the', 'weights', 'on', 'the', 'values', '.', 'In', 'practice', ',', 'we', 'compute', 'the', 'attention', 'function', 'on', 'a', 'set', 'of', 'queries', 'simultaneously', ',', 'packed', 'together', 'into', 'a', 'matrix', 'Q', '.', 'The', 'keys', 'and', 'values', 'are', 'also', 'packed', 'together', 'into', 'matrices', 'KandV', '.', 'We', 'compute', 'the', 'matrix', 'of', 'outputs', 'as', ':', 'Attention', '(', 'Q', ',', 'K', ',', 'V', ')', '=', 'softmax', '(', 'QKT', '√dk', ')', 'V', '(', '1', ')', 'The', 'two', 'most', 'commonly', 'used', 'attention', 'functions', 'are', 'additive', 'attention', '[', '2', ']', ',', 'and', 'dot-product', '(', 'multi-', 'plicative', ')', 'attention', '.', 'Dot-product', 'attention', 'is', 'identical', 'to', 'our', 'algorithm', ',', 'except', 'for', 'the', 'scaling', 'factor', 'of1√dk', '.', 'Additive', 'attention', 'computes', 'the', 'compatibility', 'function', 'using', 'a', 'feed-forward', 'network', 'with', 'a', 'single', 'hidden', 'layer', '.', 'While', 'the', 'two', 'are', 'similar', 'in', 'theoretical', 'complexity', ',', 'dot-product', 'attention', 'is', 'much', 'faster', 'and', 'more', 'space-efficient', 'in', 'practice', ',', 'since', 'it', 'can', 'be', 'implemented', 'using', 'highly', 'optimized', 'matrix', 'multiplication', 'code', '.', 'While', 'for', 'small', 'values', 'of', 'dkthe', 'two', 'mechanisms', 'perform', 'similarly', ',', 'additive', 'attention', 'outperforms', 'dot', 'product', 'attention', 'without', 'scaling', 'for', 'larger', 'values', 'of', 'dk', '[', '3', ']', '.', 'We', 'suspect', 'that', 'for', 'large', 'values', 'of', 'dk', ',', 'the', 'dot', 'products', 'grow', 'large', 'in', 'magnitude', ',', 'pushing', 'the', 'softmax', 'function', 'into', 'regions', 'where', 'it', 'has', 'extremely', 'small', 'gradients4', '.', 'To', 'counteract', 'this', 'effect', ',', 'we', 'scale', 'the', 'dot', 'products', 'by1√dk', '.', '3.2.2', 'Multi-Head', 'Attention', 'Instead', 'of', 'performing', 'a', 'single', 'attention', 'function', 'with', 'dmodel-dimensional', 'keys', ',', 'values', 'and', 'queries', ',', 'we', 'found', 'it', 'beneficial', 'to', 'linearly', 'project', 'the', 'queries', ',', 'keys', 'and', 'values', 'htimes', 'with', 'different', ',', 'learned', 'linear', 'projections', 'to', 'dk', ',', 'dkanddvdimensions', ',', 'respectively', '.', 'On', 'each', 'of', 'these', 'projected', 'versions', 'of', 'queries', ',', 'keys', 'and', 'values', 'we', 'then', 'perform', 'the', 'attention', 'function', 'in', 'parallel', ',', 'yielding', 'dv-dimensional', '4To', 'illustrate', 'why', 'the', 'dot', 'products', 'get', 'large', ',', 'assume', 'that', 'the', 'components', 'of', 'qandkare', 'independent', 'random', 'variables', 'with', 'mean', '0and', 'variance', '1', '.', 'Then', 'their', 'dot', 'product', ',', 'q·k=Pdk', 'i=1qiki', ',', 'has', 'mean', '0and', 'variance', 'dk', '.', '4', '==============================', 'End', 'of', 'Page', '4', '==============================', 'output', 'values', '.', 'These', 'are', 'concatenated', 'and', 'once', 'again', 'projected', ',', 'resulting', 'in', 'the', 'final', 'values', ',', 'as', 'depicted', 'in', 'Figure', '2', '.', 'Multi-head', 'attention', 'allows', 'the', 'model', 'to', 'jointly', 'attend', 'to', 'information', 'from', 'different', 'representation', 'subspaces', 'at', 'different', 'positions', '.', 'With', 'a', 'single', 'attention', 'head', ',', 'averaging', 'inhibits', 'this', '.', 'MultiHead', '(', 'Q', ',', 'K', ',', 'V', ')', '=', 'Concat', '(', 'head', '1', ',', '...', ',', 'head', 'h', ')', 'WO', 'where', 'head', 'i=', 'Attention', '(', 'QWQ', 'i', ',', 'KWK', 'i', ',', 'V', 'WV', 'i', ')', 'Where', 'the', 'projections', 'are', 'parameter', 'matrices', 'WQ', 'i∈Rdmodel×dk', ',', 'WK', 'i∈Rdmodel×dk', ',', 'WV', 'i∈Rdmodel×dv', 'andWO∈Rhdv×dmodel', '.', 'In', 'this', 'work', 'we', 'employ', 'h=', '8', 'parallel', 'attention', 'layers', ',', 'or', 'heads', '.', 'For', 'each', 'of', 'these', 'we', 'use', 'dk=dv=dmodel/h=', '64', '.', 'Due', 'to', 'the', 'reduced', 'dimension', 'of', 'each', 'head', ',', 'the', 'total', 'computational', 'cost', 'is', 'similar', 'to', 'that', 'of', 'single-head', 'attention', 'with', 'full', 'dimensionality', '.', '3.2.3', 'Applications', 'of', 'Attention', 'in', 'our', 'Model', 'The', 'Transformer', 'uses', 'multi-head', 'attention', 'in', 'three', 'different', 'ways', ':', '•In', '``', 'encoder-decoder', 'attention', \"''\", 'layers', ',', 'the', 'queries', 'come', 'from', 'the', 'previous', 'decoder', 'layer', ',', 'and', 'the', 'memory', 'keys', 'and', 'values', 'come', 'from', 'the', 'output', 'of', 'the', 'encoder', '.', 'This', 'allows', 'every', 'position', 'in', 'the', 'decoder', 'to', 'attend', 'over', 'all', 'positions', 'in', 'the', 'input', 'sequence', '.', 'This', 'mimics', 'the', 'typical', 'encoder-decoder', 'attention', 'mechanisms', 'in', 'sequence-to-sequence', 'models', 'such', 'as', '[', '38', ',', '2', ',', '9', ']', '.', '•The', 'encoder', 'contains', 'self-attention', 'layers', '.', 'In', 'a', 'self-attention', 'layer', 'all', 'of', 'the', 'keys', ',', 'values', 'and', 'queries', 'come', 'from', 'the', 'same', 'place', ',', 'in', 'this', 'case', ',', 'the', 'output', 'of', 'the', 'previous', 'layer', 'in', 'the', 'encoder', '.', 'Each', 'position', 'in', 'the', 'encoder', 'can', 'attend', 'to', 'all', 'positions', 'in', 'the', 'previous', 'layer', 'of', 'the', 'encoder', '.', '•Similarly', ',', 'self-attention', 'layers', 'in', 'the', 'decoder', 'allow', 'each', 'position', 'in', 'the', 'decoder', 'to', 'attend', 'to', 'all', 'positions', 'in', 'the', 'decoder', 'up', 'to', 'and', 'including', 'that', 'position', '.', 'We', 'need', 'to', 'prevent', 'leftward', 'information', 'flow', 'in', 'the', 'decoder', 'to', 'preserve', 'the', 'auto-regressive', 'property', '.', 'We', 'implement', 'this', 'inside', 'of', 'scaled', 'dot-product', 'attention', 'by', 'masking', 'out', '(', 'setting', 'to', '−∞', ')', 'all', 'values', 'in', 'the', 'input', 'of', 'the', 'softmax', 'which', 'correspond', 'to', 'illegal', 'connections', '.', 'See', 'Figure', '2', '.', '3.3', 'Position-wise', 'Feed-Forward', 'Networks', 'In', 'addition', 'to', 'attention', 'sub-layers', ',', 'each', 'of', 'the', 'layers', 'in', 'our', 'encoder', 'and', 'decoder', 'contains', 'a', 'fully', 'connected', 'feed-forward', 'network', ',', 'which', 'is', 'applied', 'to', 'each', 'position', 'separately', 'and', 'identically', '.', 'This', 'consists', 'of', 'two', 'linear', 'transformations', 'with', 'a', 'ReLU', 'activation', 'in', 'between', '.', 'FFN', '(', 'x', ')', '=', 'max', '(', '0', ',', 'xW', '1+b1', ')', 'W2+b2', '(', '2', ')', 'While', 'the', 'linear', 'transformations', 'are', 'the', 'same', 'across', 'different', 'positions', ',', 'they', 'use', 'different', 'parameters', 'from', 'layer', 'to', 'layer', '.', 'Another', 'way', 'of', 'describing', 'this', 'is', 'as', 'two', 'convolutions', 'with', 'kernel', 'size', '1', '.', 'The', 'dimensionality', 'of', 'input', 'and', 'output', 'is', 'dmodel', '=', '512', ',', 'and', 'the', 'inner-layer', 'has', 'dimensionality', 'dff=', '2048', '.', '3.4', 'Embeddings', 'and', 'Softmax', 'Similarly', 'to', 'other', 'sequence', 'transduction', 'models', ',', 'we', 'use', 'learned', 'embeddings', 'to', 'convert', 'the', 'input', 'tokens', 'and', 'output', 'tokens', 'to', 'vectors', 'of', 'dimension', 'dmodel', '.', 'We', 'also', 'use', 'the', 'usual', 'learned', 'linear', 'transfor-', 'mation', 'and', 'softmax', 'function', 'to', 'convert', 'the', 'decoder', 'output', 'to', 'predicted', 'next-token', 'probabilities', '.', 'In', 'our', 'model', ',', 'we', 'share', 'the', 'same', 'weight', 'matrix', 'between', 'the', 'two', 'embedding', 'layers', 'and', 'the', 'pre-softmax', 'linear', 'transformation', ',', 'similar', 'to', '[', '30', ']', '.', 'In', 'the', 'embedding', 'layers', ',', 'we', 'multiply', 'those', 'weights', 'by√dmodel', '.', '5', '==============================', 'End', 'of', 'Page', '5', '==============================', 'Table', '1', ':', 'Maximum', 'path', 'lengths', ',', 'per-layer', 'complexity', 'and', 'minimum', 'number', 'of', 'sequential', 'operations', 'for', 'different', 'layer', 'types', '.', 'nis', 'the', 'sequence', 'length', ',', 'dis', 'the', 'representation', 'dimension', ',', 'kis', 'the', 'kernel', 'size', 'of', 'convolutions', 'and', 'rthe', 'size', 'of', 'the', 'neighborhood', 'in', 'restricted', 'self-attention', '.', 'Layer', 'Type', 'Complexity', 'per', 'Layer', 'Sequential', 'Maximum', 'Path', 'Length', 'Operations', 'Self-Attention', 'O', '(', 'n2·d', ')', 'O', '(', '1', ')', 'O', '(', '1', ')', 'Recurrent', 'O', '(', 'n·d2', ')', 'O', '(', 'n', ')', 'O', '(', 'n', ')', 'Convolutional', 'O', '(', 'k·n·d2', ')', 'O', '(', '1', ')', 'O', '(', 'logk', '(', 'n', ')', ')', 'Self-Attention', '(', 'restricted', ')', 'O', '(', 'r·n·d', ')', 'O', '(', '1', ')', 'O', '(', 'n/r', ')', '3.5', 'Positional', 'Encoding', 'Since', 'our', 'model', 'contains', 'no', 'recurrence', 'and', 'no', 'convolution', ',', 'in', 'order', 'for', 'the', 'model', 'to', 'make', 'use', 'of', 'the', 'order', 'of', 'the', 'sequence', ',', 'we', 'must', 'inject', 'some', 'information', 'about', 'the', 'relative', 'or', 'absolute', 'position', 'of', 'the', 'tokens', 'in', 'the', 'sequence', '.', 'To', 'this', 'end', ',', 'we', 'add', '``', 'positional', 'encodings', \"''\", 'to', 'the', 'input', 'embeddings', 'at', 'the', 'bottoms', 'of', 'the', 'encoder', 'and', 'decoder', 'stacks', '.', 'The', 'positional', 'encodings', 'have', 'the', 'same', 'dimension', 'dmodel', 'as', 'the', 'embeddings', ',', 'so', 'that', 'the', 'two', 'can', 'be', 'summed', '.', 'There', 'are', 'many', 'choices', 'of', 'positional', 'encodings', ',', 'learned', 'and', 'fixed', '[', '9', ']', '.', 'In', 'this', 'work', ',', 'we', 'use', 'sine', 'and', 'cosine', 'functions', 'of', 'different', 'frequencies', ':', 'PE', '(', 'pos,2i', ')', '=sin', '(', 'pos/100002i/d', 'model', ')', 'PE', '(', 'pos,2i+1', ')', '=cos', '(', 'pos/100002i/d', 'model', ')', 'where', 'posis', 'the', 'position', 'and', 'iis', 'the', 'dimension', '.', 'That', 'is', ',', 'each', 'dimension', 'of', 'the', 'positional', 'encoding', 'corresponds', 'to', 'a', 'sinusoid', '.', 'The', 'wavelengths', 'form', 'a', 'geometric', 'progression', 'from', '2πto10000', '·2π', '.', 'We', 'chose', 'this', 'function', 'because', 'we', 'hypothesized', 'it', 'would', 'allow', 'the', 'model', 'to', 'easily', 'learn', 'to', 'attend', 'by', 'relative', 'positions', ',', 'since', 'for', 'any', 'fixed', 'offset', 'k', ',', 'PEpos+kcan', 'be', 'represented', 'as', 'a', 'linear', 'function', 'of', 'PEpos', '.', 'We', 'also', 'experimented', 'with', 'using', 'learned', 'positional', 'embeddings', '[', '9', ']', 'instead', ',', 'and', 'found', 'that', 'the', 'two', 'versions', 'produced', 'nearly', 'identical', 'results', '(', 'see', 'Table', '3', 'row', '(', 'E', ')', ')', '.', 'We', 'chose', 'the', 'sinusoidal', 'version', 'because', 'it', 'may', 'allow', 'the', 'model', 'to', 'extrapolate', 'to', 'sequence', 'lengths', 'longer', 'than', 'the', 'ones', 'encountered', 'during', 'training', '.', '4', 'Why', 'Self-Attention', 'In', 'this', 'section', 'we', 'compare', 'various', 'aspects', 'of', 'self-attention', 'layers', 'to', 'the', 'recurrent', 'and', 'convolu-', 'tional', 'layers', 'commonly', 'used', 'for', 'mapping', 'one', 'variable-length', 'sequence', 'of', 'symbol', 'representations', '(', 'x1', ',', '...', ',', 'x', 'n', ')', 'to', 'another', 'sequence', 'of', 'equal', 'length', '(', 'z1', ',', '...', ',', 'z', 'n', ')', ',', 'with', 'xi', ',', 'zi∈Rd', ',', 'such', 'as', 'a', 'hidden', 'layer', 'in', 'a', 'typical', 'sequence', 'transduction', 'encoder', 'or', 'decoder', '.', 'Motivating', 'our', 'use', 'of', 'self-attention', 'we', 'consider', 'three', 'desiderata', '.', 'One', 'is', 'the', 'total', 'computational', 'complexity', 'per', 'layer', '.', 'Another', 'is', 'the', 'amount', 'of', 'computation', 'that', 'can', 'be', 'parallelized', ',', 'as', 'measured', 'by', 'the', 'minimum', 'number', 'of', 'sequential', 'operations', 'required', '.', 'The', 'third', 'is', 'the', 'path', 'length', 'between', 'long-range', 'dependencies', 'in', 'the', 'network', '.', 'Learning', 'long-range', 'dependencies', 'is', 'a', 'key', 'challenge', 'in', 'many', 'sequence', 'transduction', 'tasks', '.', 'One', 'key', 'factor', 'affecting', 'the', 'ability', 'to', 'learn', 'such', 'dependencies', 'is', 'the', 'length', 'of', 'the', 'paths', 'forward', 'and', 'backward', 'signals', 'have', 'to', 'traverse', 'in', 'the', 'network', '.', 'The', 'shorter', 'these', 'paths', 'between', 'any', 'combination', 'of', 'positions', 'in', 'the', 'input', 'and', 'output', 'sequences', ',', 'the', 'easier', 'it', 'is', 'to', 'learn', 'long-range', 'dependencies', '[', '12', ']', '.', 'Hence', 'we', 'also', 'compare', 'the', 'maximum', 'path', 'length', 'between', 'any', 'two', 'input', 'and', 'output', 'positions', 'in', 'networks', 'composed', 'of', 'the', 'different', 'layer', 'types', '.', 'As', 'noted', 'in', 'Table', '1', ',', 'a', 'self-attention', 'layer', 'connects', 'all', 'positions', 'with', 'a', 'constant', 'number', 'of', 'sequentially', 'executed', 'operations', ',', 'whereas', 'a', 'recurrent', 'layer', 'requires', 'O', '(', 'n', ')', 'sequential', 'operations', '.', 'In', 'terms', 'of', 'computational', 'complexity', ',', 'self-attention', 'layers', 'are', 'faster', 'than', 'recurrent', 'layers', 'when', 'the', 'sequence', '6', '==============================', 'End', 'of', 'Page', '6', '==============================', 'length', 'nis', 'smaller', 'than', 'the', 'representation', 'dimensionality', 'd', ',', 'which', 'is', 'most', 'often', 'the', 'case', 'with', 'sentence', 'representations', 'used', 'by', 'state-of-the-art', 'models', 'in', 'machine', 'translations', ',', 'such', 'as', 'word-piece', '[', '38', ']', 'and', 'byte-pair', '[', '31', ']', 'representations', '.', 'To', 'improve', 'computational', 'performance', 'for', 'tasks', 'involving', 'very', 'long', 'sequences', ',', 'self-attention', 'could', 'be', 'restricted', 'to', 'considering', 'only', 'a', 'neighborhood', 'of', 'size', 'rin', 'the', 'input', 'sequence', 'centered', 'around', 'the', 'respective', 'output', 'position', '.', 'This', 'would', 'increase', 'the', 'maximum', 'path', 'length', 'to', 'O', '(', 'n/r', ')', '.', 'We', 'plan', 'to', 'investigate', 'this', 'approach', 'further', 'in', 'future', 'work', '.', 'A', 'single', 'convolutional', 'layer', 'with', 'kernel', 'width', 'k', '<', 'n', 'does', 'not', 'connect', 'all', 'pairs', 'of', 'input', 'and', 'output', 'positions', '.', 'Doing', 'so', 'requires', 'a', 'stack', 'of', 'O', '(', 'n/k', ')', 'convolutional', 'layers', 'in', 'the', 'case', 'of', 'contiguous', 'kernels', ',', 'orO', '(', 'logk', '(', 'n', ')', ')', 'in', 'the', 'case', 'of', 'dilated', 'convolutions', '[', '18', ']', ',', 'increasing', 'the', 'length', 'of', 'the', 'longest', 'paths', 'between', 'any', 'two', 'positions', 'in', 'the', 'network', '.', 'Convolutional', 'layers', 'are', 'generally', 'more', 'expensive', 'than', 'recurrent', 'layers', ',', 'by', 'a', 'factor', 'of', 'k.', 'Separable', 'convolutions', '[', '6', ']', ',', 'however', ',', 'decrease', 'the', 'complexity', 'considerably', ',', 'to', 'O', '(', 'k·n·d+n·d2', ')', '.', 'Even', 'with', 'k=n', ',', 'however', ',', 'the', 'complexity', 'of', 'a', 'separable', 'convolution', 'is', 'equal', 'to', 'the', 'combination', 'of', 'a', 'self-attention', 'layer', 'and', 'a', 'point-wise', 'feed-forward', 'layer', ',', 'the', 'approach', 'we', 'take', 'in', 'our', 'model', '.', 'As', 'side', 'benefit', ',', 'self-attention', 'could', 'yield', 'more', 'interpretable', 'models', '.', 'We', 'inspect', 'attention', 'distributions', 'from', 'our', 'models', 'and', 'present', 'and', 'discuss', 'examples', 'in', 'the', 'appendix', '.', 'Not', 'only', 'do', 'individual', 'attention', 'heads', 'clearly', 'learn', 'to', 'perform', 'different', 'tasks', ',', 'many', 'appear', 'to', 'exhibit', 'behavior', 'related', 'to', 'the', 'syntactic', 'and', 'semantic', 'structure', 'of', 'the', 'sentences', '.', '5', 'Training', 'This', 'section', 'describes', 'the', 'training', 'regime', 'for', 'our', 'models', '.', '5.1', 'Training', 'Data', 'and', 'Batching', 'We', 'trained', 'on', 'the', 'standard', 'WMT', '2014', 'English-German', 'dataset', 'consisting', 'of', 'about', '4.5', 'million', 'sentence', 'pairs', '.', 'Sentences', 'were', 'encoded', 'using', 'byte-pair', 'encoding', '[', '3', ']', ',', 'which', 'has', 'a', 'shared', 'source-', 'target', 'vocabulary', 'of', 'about', '37000', 'tokens', '.', 'For', 'English-French', ',', 'we', 'used', 'the', 'significantly', 'larger', 'WMT', '2014', 'English-French', 'dataset', 'consisting', 'of', '36M', 'sentences', 'and', 'split', 'tokens', 'into', 'a', '32000', 'word-piece', 'vocabulary', '[', '38', ']', '.', 'Sentence', 'pairs', 'were', 'batched', 'together', 'by', 'approximate', 'sequence', 'length', '.', 'Each', 'training', 'batch', 'contained', 'a', 'set', 'of', 'sentence', 'pairs', 'containing', 'approximately', '25000', 'source', 'tokens', 'and', '25000', 'target', 'tokens', '.', '5.2', 'Hardware', 'and', 'Schedule', 'We', 'trained', 'our', 'models', 'on', 'one', 'machine', 'with', '8', 'NVIDIA', 'P100', 'GPUs', '.', 'For', 'our', 'base', 'models', 'using', 'the', 'hyperparameters', 'described', 'throughout', 'the', 'paper', ',', 'each', 'training', 'step', 'took', 'about', '0.4', 'seconds', '.', 'We', 'trained', 'the', 'base', 'models', 'for', 'a', 'total', 'of', '100,000', 'steps', 'or', '12', 'hours', '.', 'For', 'our', 'big', 'models', ',', '(', 'described', 'on', 'the', 'bottom', 'line', 'of', 'table', '3', ')', ',', 'step', 'time', 'was', '1.0', 'seconds', '.', 'The', 'big', 'models', 'were', 'trained', 'for', '300,000', 'steps', '(', '3.5', 'days', ')', '.', '5.3', 'Optimizer', 'We', 'used', 'the', 'Adam', 'optimizer', '[', '20', ']', 'with', 'β1=', '0.9', ',', 'β2=', '0.98andϵ=', '10−9', '.', 'We', 'varied', 'the', 'learning', 'rate', 'over', 'the', 'course', 'of', 'training', ',', 'according', 'to', 'the', 'formula', ':', 'lrate', '=d−0.5', 'model·min', '(', 'step_num−0.5', ',', 'step', '_num·warmup', '_steps−1.5', ')', '(', '3', ')', 'This', 'corresponds', 'to', 'increasing', 'the', 'learning', 'rate', 'linearly', 'for', 'the', 'first', 'warmup', '_steps', 'training', 'steps', ',', 'and', 'decreasing', 'it', 'thereafter', 'proportionally', 'to', 'the', 'inverse', 'square', 'root', 'of', 'the', 'step', 'number', '.', 'We', 'used', 'warmup', '_steps', '=', '4000', '.', '5.4', 'Regularization', 'We', 'employ', 'three', 'types', 'of', 'regularization', 'during', 'training', ':', '7', '==============================', 'End', 'of', 'Page', '7', '==============================', 'Table', '2', ':', 'The', 'Transformer', 'achieves', 'better', 'BLEU', 'scores', 'than', 'previous', 'state-of-the-art', 'models', 'on', 'the', 'English-to-German', 'and', 'English-to-French', 'newstest2014', 'tests', 'at', 'a', 'fraction', 'of', 'the', 'training', 'cost', '.', 'ModelBLEU', 'Training', 'Cost', '(', 'FLOPs', ')', 'EN-DE', 'EN-FR', 'EN-DE', 'EN-FR', 'ByteNet', '[', '18', ']', '23.75', 'Deep-Att', '+', 'PosUnk', '[', '39', ']', '39.2', '1.0·1020', 'GNMT', '+', 'RL', '[', '38', ']', '24.6', '39.92', '2.3·10191.4·1020', 'ConvS2S', '[', '9', ']', '25.16', '40.46', '9.6·10181.5·1020', 'MoE', '[', '32', ']', '26.03', '40.56', '2.0·10191.2·1020', 'Deep-Att', '+', 'PosUnk', 'Ensemble', '[', '39', ']', '40.4', '8.0·1020', 'GNMT', '+', 'RL', 'Ensemble', '[', '38', ']', '26.30', '41.16', '1.8·10201.1·1021', 'ConvS2S', 'Ensemble', '[', '9', ']', '26.36', '41.29', '7.7·10191.2·1021', 'Transformer', '(', 'base', 'model', ')', '27.3', '38.1', '3.3·1018', 'Transformer', '(', 'big', ')', '28.4', '41.8', '2.3·1019', 'Residual', 'Dropout', 'We', 'apply', 'dropout', '[', '33', ']', 'to', 'the', 'output', 'of', 'each', 'sub-layer', ',', 'before', 'it', 'is', 'added', 'to', 'the', 'sub-layer', 'input', 'and', 'normalized', '.', 'In', 'addition', ',', 'we', 'apply', 'dropout', 'to', 'the', 'sums', 'of', 'the', 'embeddings', 'and', 'the', 'positional', 'encodings', 'in', 'both', 'the', 'encoder', 'and', 'decoder', 'stacks', '.', 'For', 'the', 'base', 'model', ',', 'we', 'use', 'a', 'rate', 'of', 'Pdrop=', '0.1', '.', 'Label', 'Smoothing', 'During', 'training', ',', 'we', 'employed', 'label', 'smoothing', 'of', 'value', 'ϵls=', '0.1', '[', '36', ']', '.', 'This', 'hurts', 'perplexity', ',', 'as', 'the', 'model', 'learns', 'to', 'be', 'more', 'unsure', ',', 'but', 'improves', 'accuracy', 'and', 'BLEU', 'score', '.', '6', 'Results', '6.1', 'Machine', 'Translation', 'On', 'the', 'WMT', '2014', 'English-to-German', 'translation', 'task', ',', 'the', 'big', 'transformer', 'model', '(', 'Transformer', '(', 'big', ')', 'in', 'Table', '2', ')', 'outperforms', 'the', 'best', 'previously', 'reported', 'models', '(', 'including', 'ensembles', ')', 'by', 'more', 'than', '2.0', 'BLEU', ',', 'establishing', 'a', 'new', 'state-of-the-art', 'BLEU', 'score', 'of', '28.4', '.', 'The', 'configuration', 'of', 'this', 'model', 'is', 'listed', 'in', 'the', 'bottom', 'line', 'of', 'Table', '3', '.', 'Training', 'took', '3.5days', 'on', '8P100', 'GPUs', '.', 'Even', 'our', 'base', 'model', 'surpasses', 'all', 'previously', 'published', 'models', 'and', 'ensembles', ',', 'at', 'a', 'fraction', 'of', 'the', 'training', 'cost', 'of', 'any', 'of', 'the', 'competitive', 'models', '.', 'On', 'the', 'WMT', '2014', 'English-to-French', 'translation', 'task', ',', 'our', 'big', 'model', 'achieves', 'a', 'BLEU', 'score', 'of', '41.0', ',', 'outperforming', 'all', 'of', 'the', 'previously', 'published', 'single', 'models', ',', 'at', 'less', 'than', '1/4the', 'training', 'cost', 'of', 'the', 'previous', 'state-of-the-art', 'model', '.', 'The', 'Transformer', '(', 'big', ')', 'model', 'trained', 'for', 'English-to-French', 'used', 'dropout', 'rate', 'Pdrop=', '0.1', ',', 'instead', 'of', '0.3', '.', 'For', 'the', 'base', 'models', ',', 'we', 'used', 'a', 'single', 'model', 'obtained', 'by', 'averaging', 'the', 'last', '5', 'checkpoints', ',', 'which', 'were', 'written', 'at', '10-minute', 'intervals', '.', 'For', 'the', 'big', 'models', ',', 'we', 'averaged', 'the', 'last', '20', 'checkpoints', '.', 'We', 'used', 'beam', 'search', 'with', 'a', 'beam', 'size', 'of', '4and', 'length', 'penalty', 'α=', '0.6', '[', '38', ']', '.', 'These', 'hyperparameters', 'were', 'chosen', 'after', 'experimentation', 'on', 'the', 'development', 'set', '.', 'We', 'set', 'the', 'maximum', 'output', 'length', 'during', 'inference', 'to', 'input', 'length', '+', '50', ',', 'but', 'terminate', 'early', 'when', 'possible', '[', '38', ']', '.', 'Table', '2', 'summarizes', 'our', 'results', 'and', 'compares', 'our', 'translation', 'quality', 'and', 'training', 'costs', 'to', 'other', 'model', 'architectures', 'from', 'the', 'literature', '.', 'We', 'estimate', 'the', 'number', 'of', 'floating', 'point', 'operations', 'used', 'to', 'train', 'a', 'model', 'by', 'multiplying', 'the', 'training', 'time', ',', 'the', 'number', 'of', 'GPUs', 'used', ',', 'and', 'an', 'estimate', 'of', 'the', 'sustained', 'single-precision', 'floating-point', 'capacity', 'of', 'each', 'GPU5', '.', '6.2', 'Model', 'Variations', 'To', 'evaluate', 'the', 'importance', 'of', 'different', 'components', 'of', 'the', 'Transformer', ',', 'we', 'varied', 'our', 'base', 'model', 'in', 'different', 'ways', ',', 'measuring', 'the', 'change', 'in', 'performance', 'on', 'English-to-German', 'translation', 'on', 'the', '5We', 'used', 'values', 'of', '2.8', ',', '3.7', ',', '6.0', 'and', '9.5', 'TFLOPS', 'for', 'K80', ',', 'K40', ',', 'M40', 'and', 'P100', ',', 'respectively', '.', '8', '==============================', 'End', 'of', 'Page', '8', '==============================', 'Table', '3', ':', 'Variations', 'on', 'the', 'Transformer', 'architecture', '.', 'Unlisted', 'values', 'are', 'identical', 'to', 'those', 'of', 'the', 'base', 'model', '.', 'All', 'metrics', 'are', 'on', 'the', 'English-to-German', 'translation', 'development', 'set', ',', 'newstest2013', '.', 'Listed', 'perplexities', 'are', 'per-wordpiece', ',', 'according', 'to', 'our', 'byte-pair', 'encoding', ',', 'and', 'should', 'not', 'be', 'compared', 'to', 'per-word', 'perplexities', '.', 'N', 'd', 'model', 'dff', 'h', 'd', 'k', 'dvPdrop', 'ϵlstrain', 'PPL', 'BLEU', 'params', 'steps', '(', 'dev', ')', '(', 'dev', ')', '×106', 'base', '6', '512', '2048', '8', '64', '64', '0.1', '0.1', '100K', '4.92', '25.8', '65', '(', 'A', ')', '1', '512', '512', '5.29', '24.9', '4', '128', '128', '5.00', '25.5', '16', '32', '32', '4.91', '25.8', '32', '16', '16', '5.01', '25.4', '(', 'B', ')', '16', '5.16', '25.1', '58', '32', '5.01', '25.4', '60', '(', 'C', ')', '2', '6.11', '23.7', '36', '4', '5.19', '25.3', '50', '8', '4.88', '25.5', '80', '256', '32', '32', '5.75', '24.5', '28', '1024', '128', '128', '4.66', '26.0', '168', '1024', '5.12', '25.4', '53', '4096', '4.75', '26.2', '90', '(', 'D', ')', '0.0', '5.77', '24.6', '0.2', '4.95', '25.5', '0.0', '4.67', '25.3', '0.2', '5.47', '25.7', '(', 'E', ')', 'positional', 'embedding', 'instead', 'of', 'sinusoids', '4.92', '25.7', 'big', '6', '1024', '4096', '16', '0.3', '300K', '4.33', '26.4', '213', 'development', 'set', ',', 'newstest2013', '.', 'We', 'used', 'beam', 'search', 'as', 'described', 'in', 'the', 'previous', 'section', ',', 'but', 'no', 'checkpoint', 'averaging', '.', 'We', 'present', 'these', 'results', 'in', 'Table', '3', '.', 'In', 'Table', '3', 'rows', '(', 'A', ')', ',', 'we', 'vary', 'the', 'number', 'of', 'attention', 'heads', 'and', 'the', 'attention', 'key', 'and', 'value', 'dimensions', ',', 'keeping', 'the', 'amount', 'of', 'computation', 'constant', ',', 'as', 'described', 'in', 'Section', '3.2.2', '.', 'While', 'single-head', 'attention', 'is', '0.9', 'BLEU', 'worse', 'than', 'the', 'best', 'setting', ',', 'quality', 'also', 'drops', 'off', 'with', 'too', 'many', 'heads', '.', 'In', 'Table', '3', 'rows', '(', 'B', ')', ',', 'we', 'observe', 'that', 'reducing', 'the', 'attention', 'key', 'size', 'dkhurts', 'model', 'quality', '.', 'This', 'suggests', 'that', 'determining', 'compatibility', 'is', 'not', 'easy', 'and', 'that', 'a', 'more', 'sophisticated', 'compatibility', 'function', 'than', 'dot', 'product', 'may', 'be', 'beneficial', '.', 'We', 'further', 'observe', 'in', 'rows', '(', 'C', ')', 'and', '(', 'D', ')', 'that', ',', 'as', 'expected', ',', 'bigger', 'models', 'are', 'better', ',', 'and', 'dropout', 'is', 'very', 'helpful', 'in', 'avoiding', 'over-fitting', '.', 'In', 'row', '(', 'E', ')', 'we', 'replace', 'our', 'sinusoidal', 'positional', 'encoding', 'with', 'learned', 'positional', 'embeddings', '[', '9', ']', ',', 'and', 'observe', 'nearly', 'identical', 'results', 'to', 'the', 'base', 'model', '.', '6.3', 'English', 'Constituency', 'Parsing', 'To', 'evaluate', 'if', 'the', 'Transformer', 'can', 'generalize', 'to', 'other', 'tasks', 'we', 'performed', 'experiments', 'on', 'English', 'constituency', 'parsing', '.', 'This', 'task', 'presents', 'specific', 'challenges', ':', 'the', 'output', 'is', 'subject', 'to', 'strong', 'structural', 'constraints', 'and', 'is', 'significantly', 'longer', 'than', 'the', 'input', '.', 'Furthermore', ',', 'RNN', 'sequence-to-sequence', 'models', 'have', 'not', 'been', 'able', 'to', 'attain', 'state-of-the-art', 'results', 'in', 'small-data', 'regimes', '[', '37', ']', '.', 'We', 'trained', 'a', '4-layer', 'transformer', 'with', 'dmodel', '=', '1024', 'on', 'the', 'Wall', 'Street', 'Journal', '(', 'WSJ', ')', 'portion', 'of', 'the', 'Penn', 'Treebank', '[', '25', ']', ',', 'about', '40K', 'training', 'sentences', '.', 'We', 'also', 'trained', 'it', 'in', 'a', 'semi-supervised', 'setting', ',', 'using', 'the', 'larger', 'high-confidence', 'and', 'BerkleyParser', 'corpora', 'from', 'with', 'approximately', '17M', 'sentences', '[', '37', ']', '.', 'We', 'used', 'a', 'vocabulary', 'of', '16K', 'tokens', 'for', 'the', 'WSJ', 'only', 'setting', 'and', 'a', 'vocabulary', 'of', '32K', 'tokens', 'for', 'the', 'semi-supervised', 'setting', '.', 'We', 'performed', 'only', 'a', 'small', 'number', 'of', 'experiments', 'to', 'select', 'the', 'dropout', ',', 'both', 'attention', 'and', 'residual', '(', 'section', '5.4', ')', ',', 'learning', 'rates', 'and', 'beam', 'size', 'on', 'the', 'Section', '22', 'development', 'set', ',', 'all', 'other', 'parameters', 'remained', 'unchanged', 'from', 'the', 'English-to-German', 'base', 'translation', 'model', '.', 'During', 'inference', ',', 'we', '9', '==============================', 'End', 'of', 'Page', '9', '==============================', 'Table', '4', ':', 'The', 'Transformer', 'generalizes', 'well', 'to', 'English', 'constituency', 'parsing', '(', 'Results', 'are', 'on', 'Section', '23', 'of', 'WSJ', ')', 'Parser', 'Training', 'WSJ', '23', 'F1', 'Vinyals', '&', 'Kaiser', 'el', 'al', '.', '(', '2014', ')', '[', '37', ']', 'WSJ', 'only', ',', 'discriminative', '88.3', 'Petrov', 'et', 'al', '.', '(', '2006', ')', '[', '29', ']', 'WSJ', 'only', ',', 'discriminative', '90.4', 'Zhu', 'et', 'al', '.', '(', '2013', ')', '[', '40', ']', 'WSJ', 'only', ',', 'discriminative', '90.4', 'Dyer', 'et', 'al', '.', '(', '2016', ')', '[', '8', ']', 'WSJ', 'only', ',', 'discriminative', '91.7', 'Transformer', '(', '4', 'layers', ')', 'WSJ', 'only', ',', 'discriminative', '91.3', 'Zhu', 'et', 'al', '.', '(', '2013', ')', '[', '40', ']', 'semi-supervised', '91.3', 'Huang', '&', 'Harper', '(', '2009', ')', '[', '14', ']', 'semi-supervised', '91.3', 'McClosky', 'et', 'al', '.', '(', '2006', ')', '[', '26', ']', 'semi-supervised', '92.1', 'Vinyals', '&', 'Kaiser', 'el', 'al', '.', '(', '2014', ')', '[', '37', ']', 'semi-supervised', '92.1', 'Transformer', '(', '4', 'layers', ')', 'semi-supervised', '92.7', 'Luong', 'et', 'al', '.', '(', '2015', ')', '[', '23', ']', 'multi-task', '93.0', 'Dyer', 'et', 'al', '.', '(', '2016', ')', '[', '8', ']', 'generative', '93.3', 'increased', 'the', 'maximum', 'output', 'length', 'to', 'input', 'length', '+', '300', '.', 'We', 'used', 'a', 'beam', 'size', 'of', '21andα=', '0.3', 'for', 'both', 'WSJ', 'only', 'and', 'the', 'semi-supervised', 'setting', '.', 'Our', 'results', 'in', 'Table', '4', 'show', 'that', 'despite', 'the', 'lack', 'of', 'task-specific', 'tuning', 'our', 'model', 'performs', 'sur-', 'prisingly', 'well', ',', 'yielding', 'better', 'results', 'than', 'all', 'previously', 'reported', 'models', 'with', 'the', 'exception', 'of', 'the', 'Recurrent', 'Neural', 'Network', 'Grammar', '[', '8', ']', '.', 'In', 'contrast', 'to', 'RNN', 'sequence-to-sequence', 'models', '[', '37', ']', ',', 'the', 'Transformer', 'outperforms', 'the', 'Berkeley-', 'Parser', '[', '29', ']', 'even', 'when', 'training', 'only', 'on', 'the', 'WSJ', 'training', 'set', 'of', '40K', 'sentences', '.', '7', 'Conclusion', 'In', 'this', 'work', ',', 'we', 'presented', 'the', 'Transformer', ',', 'the', 'first', 'sequence', 'transduction', 'model', 'based', 'entirely', 'on', 'attention', ',', 'replacing', 'the', 'recurrent', 'layers', 'most', 'commonly', 'used', 'in', 'encoder-decoder', 'architectures', 'with', 'multi-headed', 'self-attention', '.', 'For', 'translation', 'tasks', ',', 'the', 'Transformer', 'can', 'be', 'trained', 'significantly', 'faster', 'than', 'architectures', 'based', 'on', 'recurrent', 'or', 'convolutional', 'layers', '.', 'On', 'both', 'WMT', '2014', 'English-to-German', 'and', 'WMT', '2014', 'English-to-French', 'translation', 'tasks', ',', 'we', 'achieve', 'a', 'new', 'state', 'of', 'the', 'art', '.', 'In', 'the', 'former', 'task', 'our', 'best', 'model', 'outperforms', 'even', 'all', 'previously', 'reported', 'ensembles', '.', 'We', 'are', 'excited', 'about', 'the', 'future', 'of', 'attention-based', 'models', 'and', 'plan', 'to', 'apply', 'them', 'to', 'other', 'tasks', '.', 'We', 'plan', 'to', 'extend', 'the', 'Transformer', 'to', 'problems', 'involving', 'input', 'and', 'output', 'modalities', 'other', 'than', 'text', 'and', 'to', 'investigate', 'local', ',', 'restricted', 'attention', 'mechanisms', 'to', 'efficiently', 'handle', 'large', 'inputs', 'and', 'outputs', 'such', 'as', 'images', ',', 'audio', 'and', 'video', '.', 'Making', 'generation', 'less', 'sequential', 'is', 'another', 'research', 'goals', 'of', 'ours', '.', 'The', 'code', 'we', 'used', 'to', 'train', 'and', 'evaluate', 'our', 'models', 'is', 'available', 'at', 'https', ':', '//github.com/', 'tensorflow/tensor2tensor', '.', 'Acknowledgements', 'We', 'are', 'grateful', 'to', 'Nal', 'Kalchbrenner', 'and', 'Stephan', 'Gouws', 'for', 'their', 'fruitful', 'comments', ',', 'corrections', 'and', 'inspiration', '.', 'References', '[', '1', ']', 'Jimmy', 'Lei', 'Ba', ',', 'Jamie', 'Ryan', 'Kiros', ',', 'and', 'Geoffrey', 'E', 'Hinton', '.', 'Layer', 'normalization', '.', 'arXiv', 'preprint', 'arXiv:1607.06450', ',', '2016', '.', '[', '2', ']', 'Dzmitry', 'Bahdanau', ',', 'Kyunghyun', 'Cho', ',', 'and', 'Yoshua', 'Bengio', '.', 'Neural', 'machine', 'translation', 'by', 'jointly', 'learning', 'to', 'align', 'and', 'translate', '.', 'CoRR', ',', 'abs/1409.0473', ',', '2014', '.', '[', '3', ']', 'Denny', 'Britz', ',', 'Anna', 'Goldie', ',', 'Minh-Thang', 'Luong', ',', 'and', 'Quoc', 'V', '.', 'Le', '.', 'Massive', 'exploration', 'of', 'neural', 'machine', 'translation', 'architectures', '.', 'CoRR', ',', 'abs/1703.03906', ',', '2017', '.', '[', '4', ']', 'Jianpeng', 'Cheng', ',', 'Li', 'Dong', ',', 'and', 'Mirella', 'Lapata', '.', 'Long', 'short-term', 'memory-networks', 'for', 'machine', 'reading', '.', 'arXiv', 'preprint', 'arXiv:1601.06733', ',', '2016', '.', '10', '==============================', 'End', 'of', 'Page', '10', '==============================', '[', '5', ']', 'Kyunghyun', 'Cho', ',', 'Bart', 'van', 'Merrienboer', ',', 'Caglar', 'Gulcehre', ',', 'Fethi', 'Bougares', ',', 'Holger', 'Schwenk', ',', 'and', 'Yoshua', 'Bengio', '.', 'Learning', 'phrase', 'representations', 'using', 'rnn', 'encoder-decoder', 'for', 'statistical', 'machine', 'translation', '.', 'CoRR', ',', 'abs/1406.1078', ',', '2014', '.', '[', '6', ']', 'Francois', 'Chollet', '.', 'Xception', ':', 'Deep', 'learning', 'with', 'depthwise', 'separable', 'convolutions', '.', 'arXiv', 'preprint', 'arXiv:1610.02357', ',', '2016', '.', '[', '7', ']', 'Junyoung', 'Chung', ',', 'Çaglar', 'Gülçehre', ',', 'Kyunghyun', 'Cho', ',', 'and', 'Yoshua', 'Bengio', '.', 'Empirical', 'evaluation', 'of', 'gated', 'recurrent', 'neural', 'networks', 'on', 'sequence', 'modeling', '.', 'CoRR', ',', 'abs/1412.3555', ',', '2014', '.', '[', '8', ']', 'Chris', 'Dyer', ',', 'Adhiguna', 'Kuncoro', ',', 'Miguel', 'Ballesteros', ',', 'and', 'Noah', 'A.', 'Smith', '.', 'Recurrent', 'neural', 'network', 'grammars', '.', 'In', 'Proc', '.', 'of', 'NAACL', ',', '2016', '.', '[', '9', ']', 'Jonas', 'Gehring', ',', 'Michael', 'Auli', ',', 'David', 'Grangier', ',', 'Denis', 'Yarats', ',', 'and', 'Yann', 'N.', 'Dauphin', '.', 'Convolu-', 'tional', 'sequence', 'to', 'sequence', 'learning', '.', 'arXiv', 'preprint', 'arXiv:1705.03122v2', ',', '2017', '.', '[', '10', ']', 'Alex', 'Graves', '.', 'Generating', 'sequences', 'with', 'recurrent', 'neural', 'networks', '.', 'arXiv', 'preprint', 'arXiv:1308.0850', ',', '2013', '.', '[', '11', ']', 'Kaiming', 'He', ',', 'Xiangyu', 'Zhang', ',', 'Shaoqing', 'Ren', ',', 'and', 'Jian', 'Sun', '.', 'Deep', 'residual', 'learning', 'for', 'im-', 'age', 'recognition', '.', 'In', 'Proceedings', 'of', 'the', 'IEEE', 'Conference', 'on', 'Computer', 'Vision', 'and', 'Pattern', 'Recognition', ',', 'pages', '770–778', ',', '2016', '.', '[', '12', ']', 'Sepp', 'Hochreiter', ',', 'Yoshua', 'Bengio', ',', 'Paolo', 'Frasconi', ',', 'and', 'Jürgen', 'Schmidhuber', '.', 'Gradient', 'flow', 'in', 'recurrent', 'nets', ':', 'the', 'difficulty', 'of', 'learning', 'long-term', 'dependencies', ',', '2001', '.', '[', '13', ']', 'Sepp', 'Hochreiter', 'and', 'Jürgen', 'Schmidhuber', '.', 'Long', 'short-term', 'memory', '.', 'Neural', 'computation', ',', '9', '(', '8', ')', ':1735–1780', ',', '1997', '.', '[', '14', ']', 'Zhongqiang', 'Huang', 'and', 'Mary', 'Harper', '.', 'Self-training', 'PCFG', 'grammars', 'with', 'latent', 'annotations', 'across', 'languages', '.', 'In', 'Proceedings', 'of', 'the', '2009', 'Conference', 'on', 'Empirical', 'Methods', 'in', 'Natural', 'Language', 'Processing', ',', 'pages', '832–841', '.', 'ACL', ',', 'August', '2009', '.', '[', '15', ']', 'Rafal', 'Jozefowicz', ',', 'Oriol', 'Vinyals', ',', 'Mike', 'Schuster', ',', 'Noam', 'Shazeer', ',', 'and', 'Yonghui', 'Wu', '.', 'Exploring', 'the', 'limits', 'of', 'language', 'modeling', '.', 'arXiv', 'preprint', 'arXiv:1602.02410', ',', '2016', '.', '[', '16', ']', 'Łukasz', 'Kaiser', 'and', 'Samy', 'Bengio', '.', 'Can', 'active', 'memory', 'replace', 'attention', '?', 'In', 'Advances', 'in', 'Neural', 'Information', 'Processing', 'Systems', ',', '(', 'NIPS', ')', ',', '2016', '.', '[', '17', ']', 'Łukasz', 'Kaiser', 'and', 'Ilya', 'Sutskever', '.', 'Neural', 'GPUs', 'learn', 'algorithms', '.', 'In', 'International', 'Conference', 'on', 'Learning', 'Representations', '(', 'ICLR', ')', ',', '2016', '.', '[', '18', ']', 'Nal', 'Kalchbrenner', ',', 'Lasse', 'Espeholt', ',', 'Karen', 'Simonyan', ',', 'Aaron', 'van', 'den', 'Oord', ',', 'Alex', 'Graves', ',', 'and', 'Ko-', 'ray', 'Kavukcuoglu', '.', 'Neural', 'machine', 'translation', 'in', 'linear', 'time', '.', 'arXiv', 'preprint', 'arXiv:1610.10099v2', ',', '2017', '.', '[', '19', ']', 'Yoon', 'Kim', ',', 'Carl', 'Denton', ',', 'Luong', 'Hoang', ',', 'and', 'Alexander', 'M.', 'Rush', '.', 'Structured', 'attention', 'networks', '.', 'InInternational', 'Conference', 'on', 'Learning', 'Representations', ',', '2017', '.', '[', '20', ']', 'Diederik', 'Kingma', 'and', 'Jimmy', 'Ba', '.', 'Adam', ':', 'A', 'method', 'for', 'stochastic', 'optimization', '.', 'In', 'ICLR', ',', '2015', '.', '[', '21', ']', 'Oleksii', 'Kuchaiev', 'and', 'Boris', 'Ginsburg', '.', 'Factorization', 'tricks', 'for', 'LSTM', 'networks', '.', 'arXiv', 'preprint', 'arXiv:1703.10722', ',', '2017', '.', '[', '22', ']', 'Zhouhan', 'Lin', ',', 'Minwei', 'Feng', ',', 'Cicero', 'Nogueira', 'dos', 'Santos', ',', 'Mo', 'Yu', ',', 'Bing', 'Xiang', ',', 'Bowen', 'Zhou', ',', 'and', 'Yoshua', 'Bengio', '.', 'A', 'structured', 'self-attentive', 'sentence', 'embedding', '.', 'arXiv', 'preprint', 'arXiv:1703.03130', ',', '2017', '.', '[', '23', ']', 'Minh-Thang', 'Luong', ',', 'Quoc', 'V', '.', 'Le', ',', 'Ilya', 'Sutskever', ',', 'Oriol', 'Vinyals', ',', 'and', 'Lukasz', 'Kaiser', '.', 'Multi-task', 'sequence', 'to', 'sequence', 'learning', '.', 'arXiv', 'preprint', 'arXiv:1511.06114', ',', '2015', '.', '[', '24', ']', 'Minh-Thang', 'Luong', ',', 'Hieu', 'Pham', ',', 'and', 'Christopher', 'D', 'Manning', '.', 'Effective', 'approaches', 'to', 'attention-', 'based', 'neural', 'machine', 'translation', '.', 'arXiv', 'preprint', 'arXiv:1508.04025', ',', '2015', '.', '11', '==============================', 'End', 'of', 'Page', '11', '==============================', '[', '25', ']', 'Mitchell', 'P', 'Marcus', ',', 'Mary', 'Ann', 'Marcinkiewicz', ',', 'and', 'Beatrice', 'Santorini', '.', 'Building', 'a', 'large', 'annotated', 'corpus', 'of', 'english', ':', 'The', 'penn', 'treebank', '.', 'Computational', 'linguistics', ',', '19', '(', '2', ')', ':313–330', ',', '1993', '.', '[', '26', ']', 'David', 'McClosky', ',', 'Eugene', 'Charniak', ',', 'and', 'Mark', 'Johnson', '.', 'Effective', 'self-training', 'for', 'parsing', '.', 'In', 'Proceedings', 'of', 'the', 'Human', 'Language', 'Technology', 'Conference', 'of', 'the', 'NAACL', ',', 'Main', 'Conference', ',', 'pages', '152–159', '.', 'ACL', ',', 'June', '2006', '.', '[', '27', ']', 'Ankur', 'Parikh', ',', 'Oscar', 'Täckström', ',', 'Dipanjan', 'Das', ',', 'and', 'Jakob', 'Uszkoreit', '.', 'A', 'decomposable', 'attention', 'model', '.', 'In', 'Empirical', 'Methods', 'in', 'Natural', 'Language', 'Processing', ',', '2016', '.', '[', '28', ']', 'Romain', 'Paulus', ',', 'Caiming', 'Xiong', ',', 'and', 'Richard', 'Socher', '.', 'A', 'deep', 'reinforced', 'model', 'for', 'abstractive', 'summarization', '.', 'arXiv', 'preprint', 'arXiv:1705.04304', ',', '2017', '.', '[', '29', ']', 'Slav', 'Petrov', ',', 'Leon', 'Barrett', ',', 'Romain', 'Thibaux', ',', 'and', 'Dan', 'Klein', '.', 'Learning', 'accurate', ',', 'compact', ',', 'and', 'interpretable', 'tree', 'annotation', '.', 'In', 'Proceedings', 'of', 'the', '21st', 'International', 'Conference', 'on', 'Computational', 'Linguistics', 'and', '44th', 'Annual', 'Meeting', 'of', 'the', 'ACL', ',', 'pages', '433–440', '.', 'ACL', ',', 'July', '2006', '.', '[', '30', ']', 'Ofir', 'Press', 'and', 'Lior', 'Wolf', '.', 'Using', 'the', 'output', 'embedding', 'to', 'improve', 'language', 'models', '.', 'arXiv', 'preprint', 'arXiv:1608.05859', ',', '2016', '.', '[', '31', ']', 'Rico', 'Sennrich', ',', 'Barry', 'Haddow', ',', 'and', 'Alexandra', 'Birch', '.', 'Neural', 'machine', 'translation', 'of', 'rare', 'words', 'with', 'subword', 'units', '.', 'arXiv', 'preprint', 'arXiv:1508.07909', ',', '2015', '.', '[', '32', ']', 'Noam', 'Shazeer', ',', 'Azalia', 'Mirhoseini', ',', 'Krzysztof', 'Maziarz', ',', 'Andy', 'Davis', ',', 'Quoc', 'Le', ',', 'Geoffrey', 'Hinton', ',', 'and', 'Jeff', 'Dean', '.', 'Outrageously', 'large', 'neural', 'networks', ':', 'The', 'sparsely-gated', 'mixture-of-experts', 'layer', '.', 'arXiv', 'preprint', 'arXiv:1701.06538', ',', '2017', '.', '[', '33', ']', 'Nitish', 'Srivastava', ',', 'Geoffrey', 'E', 'Hinton', ',', 'Alex', 'Krizhevsky', ',', 'Ilya', 'Sutskever', ',', 'and', 'Ruslan', 'Salakhutdi-', 'nov', '.', 'Dropout', ':', 'a', 'simple', 'way', 'to', 'prevent', 'neural', 'networks', 'from', 'overfitting', '.', 'Journal', 'of', 'Machine', 'Learning', 'Research', ',', '15', '(', '1', ')', ':1929–1958', ',', '2014', '.', '[', '34', ']', 'Sainbayar', 'Sukhbaatar', ',', 'Arthur', 'Szlam', ',', 'Jason', 'Weston', ',', 'and', 'Rob', 'Fergus', '.', 'End-to-end', 'memory', 'networks', '.', 'In', 'C.', 'Cortes', ',', 'N.', 'D.', 'Lawrence', ',', 'D.', 'D.', 'Lee', ',', 'M.', 'Sugiyama', ',', 'and', 'R.', 'Garnett', ',', 'editors', ',', 'Advances', 'in', 'Neural', 'Information', 'Processing', 'Systems', '28', ',', 'pages', '2440–2448', '.', 'Curran', 'Associates', ',', 'Inc.', ',', '2015', '.', '[', '35', ']', 'Ilya', 'Sutskever', ',', 'Oriol', 'Vinyals', ',', 'and', 'Quoc', 'VV', 'Le', '.', 'Sequence', 'to', 'sequence', 'learning', 'with', 'neural', 'networks', '.', 'In', 'Advances', 'in', 'Neural', 'Information', 'Processing', 'Systems', ',', 'pages', '3104–3112', ',', '2014', '.', '[', '36', ']', 'Christian', 'Szegedy', ',', 'Vincent', 'Vanhoucke', ',', 'Sergey', 'Ioffe', ',', 'Jonathon', 'Shlens', ',', 'and', 'Zbigniew', 'Wojna', '.', 'Rethinking', 'the', 'inception', 'architecture', 'for', 'computer', 'vision', '.', 'CoRR', ',', 'abs/1512.00567', ',', '2015', '.', '[', '37', ']', 'Vinyals', '&', 'Kaiser', ',', 'Koo', ',', 'Petrov', ',', 'Sutskever', ',', 'and', 'Hinton', '.', 'Grammar', 'as', 'a', 'foreign', 'language', '.', 'In', 'Advances', 'in', 'Neural', 'Information', 'Processing', 'Systems', ',', '2015', '.', '[', '38', ']', 'Yonghui', 'Wu', ',', 'Mike', 'Schuster', ',', 'Zhifeng', 'Chen', ',', 'Quoc', 'V', 'Le', ',', 'Mohammad', 'Norouzi', ',', 'Wolfgang', 'Macherey', ',', 'Maxim', 'Krikun', ',', 'Yuan', 'Cao', ',', 'Qin', 'Gao', ',', 'Klaus', 'Macherey', ',', 'et', 'al', '.', 'Google', '’', 's', 'neural', 'machine', 'translation', 'system', ':', 'Bridging', 'the', 'gap', 'between', 'human', 'and', 'machine', 'translation', '.', 'arXiv', 'preprint', 'arXiv:1609.08144', ',', '2016', '.', '[', '39', ']', 'Jie', 'Zhou', ',', 'Ying', 'Cao', ',', 'Xuguang', 'Wang', ',', 'Peng', 'Li', ',', 'and', 'Wei', 'Xu', '.', 'Deep', 'recurrent', 'models', 'with', 'fast-forward', 'connections', 'for', 'neural', 'machine', 'translation', '.', 'CoRR', ',', 'abs/1606.04199', ',', '2016', '.', '[', '40', ']', 'Muhua', 'Zhu', ',', 'Yue', 'Zhang', ',', 'Wenliang', 'Chen', ',', 'Min', 'Zhang', ',', 'and', 'Jingbo', 'Zhu', '.', 'Fast', 'and', 'accurate', 'shift-reduce', 'constituent', 'parsing', '.', 'In', 'Proceedings', 'of', 'the', '51st', 'Annual', 'Meeting', 'of', 'the', 'ACL', '(', 'Volume', '1', ':', 'Long', 'Papers', ')', ',', 'pages', '434–443', '.', 'ACL', ',', 'August', '2013', '.', '12', '==============================', 'End', 'of', 'Page', '12', '==============================', 'Attention', 'Visualizations', 'Input-Input', 'Layer5', 'It', 'is', 'in', 'this', 'spirit', 'that', 'a', 'majority', 'of', 'American', 'governments', 'have', 'passed', 'new', 'laws', 'since', '2009', 'making', 'the', 'registration', 'or', 'voting', 'process', 'more', 'difficult', '.', '<', 'EOS', '>', '<', 'pad', '>', '<', 'pad', '>', '<', 'pad', '>', '<', 'pad', '>', '<', 'pad', '>', '<', 'pad', '>', 'It', 'is', 'in', 'this', 'spirit', 'that', 'a', 'majority', 'of', 'American', 'governments', 'have', 'passed', 'new', 'laws', 'since', '2009', 'making', 'the', 'registration', 'or', 'voting', 'process', 'more', 'difficult', '.', '<', 'EOS', '>', '<', 'pad', '>', '<', 'pad', '>', '<', 'pad', '>', '<', 'pad', '>', '<', 'pad', '>', '<', 'pad', '>', 'Figure', '3', ':', 'An', 'example', 'of', 'the', 'attention', 'mechanism', 'following', 'long-distance', 'dependencies', 'in', 'the', 'encoder', 'self-attention', 'in', 'layer', '5', 'of', '6', '.', 'Many', 'of', 'the', 'attention', 'heads', 'attend', 'to', 'a', 'distant', 'dependency', 'of', 'the', 'verb', '‘', 'making', '’', ',', 'completing', 'the', 'phrase', '‘', 'making', '...', 'more', 'difficult', '’', '.', 'Attentions', 'here', 'shown', 'only', 'for', 'the', 'word', '‘', 'making', '’', '.', 'Different', 'colors', 'represent', 'different', 'heads', '.', 'Best', 'viewed', 'in', 'color', '.', '13', '==============================', 'End', 'of', 'Page', '13', '==============================', 'Input-Input', 'Layer5', 'The', 'Law', 'will', 'never', 'be', 'perfect', ',', 'but', 'its', 'application', 'should', 'be', 'just', '-', 'this', 'is', 'what', 'we', 'are', 'missing', ',', 'in', 'my', 'opinion', '.', '<', 'EOS', '>', '<', 'pad', '>', 'The', 'Law', 'will', 'never', 'be', 'perfect', ',', 'but', 'its', 'application', 'should', 'be', 'just', '-', 'this', 'is', 'what', 'we', 'are', 'missing', ',', 'in', 'my', 'opinion', '.', '<', 'EOS', '>', '<', 'pad', '>', 'Input-Input', 'Layer5', 'The', 'Law', 'will', 'never', 'be', 'perfect', ',', 'but', 'its', 'application', 'should', 'be', 'just', '-', 'this', 'is', 'what', 'we', 'are', 'missing', ',', 'in', 'my', 'opinion', '.', '<', 'EOS', '>', '<', 'pad', '>', 'The', 'Law', 'will', 'never', 'be', 'perfect', ',', 'but', 'its', 'application', 'should', 'be', 'just', '-', 'this', 'is', 'what', 'we', 'are', 'missing', ',', 'in', 'my', 'opinion', '.', '<', 'EOS', '>', '<', 'pad', '>', 'Figure', '4', ':', 'Two', 'attention', 'heads', ',', 'also', 'in', 'layer', '5', 'of', '6', ',', 'apparently', 'involved', 'in', 'anaphora', 'resolution', '.', 'Top', ':', 'Full', 'attentions', 'for', 'head', '5', '.', 'Bottom', ':', 'Isolated', 'attentions', 'from', 'just', 'the', 'word', '‘', 'its', '’', 'for', 'attention', 'heads', '5', 'and', '6', '.', 'Note', 'that', 'the', 'attentions', 'are', 'very', 'sharp', 'for', 'this', 'word', '.', '14', '==============================', 'End', 'of', 'Page', '14', '==============================', 'Input-Input', 'Layer5', 'The', 'Law', 'will', 'never', 'be', 'perfect', ',', 'but', 'its', 'application', 'should', 'be', 'just', '-', 'this', 'is', 'what', 'we', 'are', 'missing', ',', 'in', 'my', 'opinion', '.', '<', 'EOS', '>', '<', 'pad', '>', 'The', 'Law', 'will', 'never', 'be', 'perfect', ',', 'but', 'its', 'application', 'should', 'be', 'just', '-', 'this', 'is', 'what', 'we', 'are', 'missing', ',', 'in', 'my', 'opinion', '.', '<', 'EOS', '>', '<', 'pad', '>', 'Input-Input', 'Layer5', 'The', 'Law', 'will', 'never', 'be', 'perfect', ',', 'but', 'its', 'application', 'should', 'be', 'just', '-', 'this', 'is', 'what', 'we', 'are', 'missing', ',', 'in', 'my', 'opinion', '.', '<', 'EOS', '>', '<', 'pad', '>', 'The', 'Law', 'will', 'never', 'be', 'perfect', ',', 'but', 'its', 'application', 'should', 'be', 'just', '-', 'this', 'is', 'what', 'we', 'are', 'missing', ',', 'in', 'my', 'opinion', '.', '<', 'EOS', '>', '<', 'pad', '>', 'Figure', '5', ':', 'Many', 'of', 'the', 'attention', 'heads', 'exhibit', 'behaviour', 'that', 'seems', 'related', 'to', 'the', 'structure', 'of', 'the', 'sentence', '.', 'We', 'give', 'two', 'such', 'examples', 'above', ',', 'from', 'two', 'different', 'heads', 'from', 'the', 'encoder', 'self-attention', 'at', 'layer', '5', 'of', '6', '.', 'The', 'heads', 'clearly', 'learned', 'to', 'perform', 'different', 'tasks', '.', '15', '==============================', 'End', 'of', 'Page', '15', '==============================']\n"
     ]
    }
   ],
   "source": [
    "print(df_raw.loc[df_raw.Source == 'PDF'].reset_index(drop = True).token_words[0])"
   ]
  },
  {
   "cell_type": "markdown",
   "metadata": {},
   "source": [
    "### Stemming\n",
    "\n",
    "Perform stemming and compare the token distributions before and after the stemming (you may choose any stemming algorithm implemented in any toolkit).\n",
    "\n",
    "You may compare:\n",
    "    - The number of distinct tokens\n",
    "    - The length distribution of the token (The length distribution can be compared in a plot: the x-axis is the length of a token in number of characters, and the y-axis is the number of tokens of each length)\n",
    "    \n",
    "Discuss your findings\n",
    "    - Number of distinct tokens significantly reduced from 16,856 to 12,855 (~24% reduction)\n",
    "    - Words between the length of 10 to 15 experience the highest number of frequency reduction (refer to table)\n",
    "        - Most of the more common words lie between this length\n",
    "        - Words > length of 20 tend to be rare words/dirty data which should be removed during data cleaning phase"
   ]
  },
  {
   "cell_type": "code",
   "execution_count": 12,
   "metadata": {
    "scrolled": true
   },
   "outputs": [],
   "source": [
    "# Remove tokens with only punctuations\n",
    "def no_punc(tokens):\n",
    "    punctuation_set = set(string.punctuation)\n",
    "    filtered_tokens = [token for token in tokens if not all(char in punctuation_set for char in token)]\n",
    "    return filtered_tokens\n",
    "\n",
    "df_raw['no_punc'] = df_raw.token_words.apply(no_punc)"
   ]
  },
  {
   "cell_type": "code",
   "execution_count": 13,
   "metadata": {},
   "outputs": [],
   "source": [
    "# Stemming\n",
    "stemmer = PorterStemmer()\n",
    "df_raw['stemmed_text'] = df_raw.no_punc.apply(lambda x: [stemmer.stem(token) for token in x])"
   ]
  },
  {
   "cell_type": "code",
   "execution_count": 14,
   "metadata": {
    "scrolled": true
   },
   "outputs": [],
   "source": [
    "# Comparing before and after stemming:\n",
    "before_stemming_col = 'no_punc'\n",
    "\n",
    "stem_comparison = pd.DataFrame({'before_stem': [item for sublist in df_raw[before_stemming_col] for item in sublist]})\n",
    "stem_comparison['after_stem'] = stem_comparison.before_stem.apply(stemmer.stem)\n",
    "stem_comparison.drop_duplicates(inplace = True)"
   ]
  },
  {
   "cell_type": "markdown",
   "metadata": {},
   "source": [
    "#### Distinct tokens before and after stemming "
   ]
  },
  {
   "cell_type": "code",
   "execution_count": 15,
   "metadata": {},
   "outputs": [
    {
     "name": "stdout",
     "output_type": "stream",
     "text": [
      " Number of distinct token before stemming: 16856\n",
      " Number of distinct token after stemming: 12855\n"
     ]
    }
   ],
   "source": [
    "# Multiple words are stemmed into the same word\n",
    "print(f' Number of distinct token before stemming: {stem_comparison.before_stem.nunique()}')\n",
    "print(f' Number of distinct token after stemming: {stem_comparison.after_stem.nunique()}')"
   ]
  },
  {
   "cell_type": "code",
   "execution_count": null,
   "metadata": {},
   "outputs": [],
   "source": []
  },
  {
   "cell_type": "markdown",
   "metadata": {},
   "source": [
    "#### Plotting word distribution"
   ]
  },
  {
   "cell_type": "code",
   "execution_count": 16,
   "metadata": {},
   "outputs": [],
   "source": [
    "stem_comparison['len_before_stem'] = stem_comparison.before_stem.apply(len)\n",
    "stem_comparison['len_after_stem'] = stem_comparison.after_stem.apply(len)"
   ]
  },
  {
   "cell_type": "code",
   "execution_count": 17,
   "metadata": {
    "scrolled": true
   },
   "outputs": [
    {
     "data": {
      "text/html": [
       "<div>\n",
       "<style scoped>\n",
       "    .dataframe tbody tr th:only-of-type {\n",
       "        vertical-align: middle;\n",
       "    }\n",
       "\n",
       "    .dataframe tbody tr th {\n",
       "        vertical-align: top;\n",
       "    }\n",
       "\n",
       "    .dataframe thead th {\n",
       "        text-align: right;\n",
       "    }\n",
       "</style>\n",
       "<table border=\"1\" class=\"dataframe\">\n",
       "  <thead>\n",
       "    <tr style=\"text-align: right;\">\n",
       "      <th></th>\n",
       "      <th>before_stem</th>\n",
       "      <th>after_stem</th>\n",
       "      <th>len_before_stem</th>\n",
       "      <th>len_after_stem</th>\n",
       "    </tr>\n",
       "  </thead>\n",
       "  <tbody>\n",
       "    <tr>\n",
       "      <th>86016</th>\n",
       "      <td>//aclanthology.org/2022.wmt-1.2</td>\n",
       "      <td>//aclanthology.org/2022.wmt-1.2</td>\n",
       "      <td>31</td>\n",
       "      <td>31</td>\n",
       "    </tr>\n",
       "    <tr>\n",
       "      <th>104688</th>\n",
       "      <td>training2530354045505560ImageNet</td>\n",
       "      <td>training2530354045505560imagenet</td>\n",
       "      <td>32</td>\n",
       "      <td>32</td>\n",
       "    </tr>\n",
       "    <tr>\n",
       "      <th>53540</th>\n",
       "      <td>Re-computationStreamingLLMMemory</td>\n",
       "      <td>re-computationstreamingllmmemori</td>\n",
       "      <td>32</td>\n",
       "      <td>32</td>\n",
       "    </tr>\n",
       "    <tr>\n",
       "      <th>53527</th>\n",
       "      <td>040080012001600256512102420484096</td>\n",
       "      <td>040080012001600256512102420484096</td>\n",
       "      <td>33</td>\n",
       "      <td>33</td>\n",
       "    </tr>\n",
       "    <tr>\n",
       "      <th>93714</th>\n",
       "      <td>Length50100150200250300Throughput</td>\n",
       "      <td>length50100150200250300throughput</td>\n",
       "      <td>33</td>\n",
       "      <td>33</td>\n",
       "    </tr>\n",
       "  </tbody>\n",
       "</table>\n",
       "</div>"
      ],
      "text/plain": [
       "                              before_stem                         after_stem  \\\n",
       "86016     //aclanthology.org/2022.wmt-1.2    //aclanthology.org/2022.wmt-1.2   \n",
       "104688   training2530354045505560ImageNet   training2530354045505560imagenet   \n",
       "53540    Re-computationStreamingLLMMemory   re-computationstreamingllmmemori   \n",
       "53527   040080012001600256512102420484096  040080012001600256512102420484096   \n",
       "93714   Length50100150200250300Throughput  length50100150200250300throughput   \n",
       "\n",
       "        len_before_stem  len_after_stem  \n",
       "86016                31              31  \n",
       "104688               32              32  \n",
       "53540                32              32  \n",
       "53527                33              33  \n",
       "93714                33              33  "
      ]
     },
     "execution_count": 17,
     "metadata": {},
     "output_type": "execute_result"
    }
   ],
   "source": [
    "stem_comparison.loc[stem_comparison.len_after_stem>30].sort_values(['len_before_stem']).head()"
   ]
  },
  {
   "cell_type": "code",
   "execution_count": 18,
   "metadata": {},
   "outputs": [
    {
     "data": {
      "text/plain": [
       "<matplotlib.legend.Legend at 0x2888ebc1948>"
      ]
     },
     "execution_count": 18,
     "metadata": {},
     "output_type": "execute_result"
    },
    {
     "data": {
      "image/png": "[encoded data removed]",
      "text/plain": [
       "<Figure size 576x432 with 1 Axes>"
      ]
     },
     "metadata": {
      "needs_background": "light"
     },
     "output_type": "display_data"
    }
   ],
   "source": [
    "before_stemmming = stem_comparison[['before_stem','len_before_stem']].drop_duplicates()\n",
    "after_stemmming = stem_comparison[['after_stem','len_after_stem']].drop_duplicates()\n",
    "\n",
    "plt.figure(figsize=(8, 6))\n",
    "\n",
    "plt.hist(before_stemmming['len_before_stem']\n",
    "         , bins=range(min(before_stemmming['len_before_stem']), 30, 1)\n",
    "         , edgecolor='black'\n",
    "         , alpha = 0.3\n",
    "         , label = 'Before Stemming')\n",
    "\n",
    "plt.hist(after_stemmming['len_after_stem']\n",
    "         , bins=range(min(after_stemmming['len_after_stem']), 30, 1)\n",
    "         , edgecolor='black'\n",
    "         , alpha = 0.3\n",
    "         , label = 'After Stemming')\n",
    "\n",
    "plt.xlabel('Token Length in number of characters')\n",
    "plt.ylabel('Frequency')\n",
    "plt.title('Distribution of Word Lengths')\n",
    "plt.legend()"
   ]
  },
  {
   "cell_type": "code",
   "execution_count": 19,
   "metadata": {
    "scrolled": true
   },
   "outputs": [],
   "source": [
    "# Check % reduction of words by character length\n",
    "\n",
    "len_after_stem_df = pd.DataFrame(after_stemmming.len_after_stem.value_counts())\\\n",
    "    .reset_index().rename(columns={'index': 'Token_len', 'len_after_stem': 'Count_after_stem'})\n",
    "\n",
    "len_before_stem_df = pd.DataFrame(before_stemmming.len_before_stem.value_counts())\\\n",
    "    .reset_index().rename(columns={'index': 'Token_len', 'len_before_stem': 'Count_before_stem'})\n",
    "\n",
    "len_comparison_df = pd.merge(len_before_stem_df, len_after_stem_df, how = 'left', on = 'Token_len')\n",
    "len_comparison_df.sort_values('Token_len', inplace = True)\n",
    "\n",
    "len_comparison_df['change'] = (len_comparison_df.Count_before_stem - len_comparison_df.Count_after_stem)\n",
    "\n",
    "len_comparison_df['per_change'] = (len_comparison_df.Count_before_stem - len_comparison_df.Count_after_stem)\\\n",
    "    /len_comparison_df.Count_before_stem * 100"
   ]
  },
  {
   "cell_type": "code",
   "execution_count": 20,
   "metadata": {},
   "outputs": [
    {
     "data": {
      "text/html": [
       "<div>\n",
       "<style scoped>\n",
       "    .dataframe tbody tr th:only-of-type {\n",
       "        vertical-align: middle;\n",
       "    }\n",
       "\n",
       "    .dataframe tbody tr th {\n",
       "        vertical-align: top;\n",
       "    }\n",
       "\n",
       "    .dataframe thead th {\n",
       "        text-align: right;\n",
       "    }\n",
       "</style>\n",
       "<table border=\"1\" class=\"dataframe\">\n",
       "  <thead>\n",
       "    <tr style=\"text-align: right;\">\n",
       "      <th></th>\n",
       "      <th>Token_len</th>\n",
       "      <th>Count_before_stem</th>\n",
       "      <th>Count_after_stem</th>\n",
       "      <th>change</th>\n",
       "      <th>per_change</th>\n",
       "    </tr>\n",
       "  </thead>\n",
       "  <tbody>\n",
       "    <tr>\n",
       "      <th>38</th>\n",
       "      <td>52</td>\n",
       "      <td>3</td>\n",
       "      <td>1.0</td>\n",
       "      <td>2.0</td>\n",
       "      <td>66.666667</td>\n",
       "    </tr>\n",
       "    <tr>\n",
       "      <th>37</th>\n",
       "      <td>31</td>\n",
       "      <td>3</td>\n",
       "      <td>1.0</td>\n",
       "      <td>2.0</td>\n",
       "      <td>66.666667</td>\n",
       "    </tr>\n",
       "    <tr>\n",
       "      <th>36</th>\n",
       "      <td>37</td>\n",
       "      <td>3</td>\n",
       "      <td>1.0</td>\n",
       "      <td>2.0</td>\n",
       "      <td>66.666667</td>\n",
       "    </tr>\n",
       "    <tr>\n",
       "      <th>8</th>\n",
       "      <td>11</td>\n",
       "      <td>764</td>\n",
       "      <td>288.0</td>\n",
       "      <td>476.0</td>\n",
       "      <td>62.303665</td>\n",
       "    </tr>\n",
       "    <tr>\n",
       "      <th>10</th>\n",
       "      <td>12</td>\n",
       "      <td>522</td>\n",
       "      <td>208.0</td>\n",
       "      <td>314.0</td>\n",
       "      <td>60.153257</td>\n",
       "    </tr>\n",
       "    <tr>\n",
       "      <th>11</th>\n",
       "      <td>13</td>\n",
       "      <td>335</td>\n",
       "      <td>139.0</td>\n",
       "      <td>196.0</td>\n",
       "      <td>58.507463</td>\n",
       "    </tr>\n",
       "    <tr>\n",
       "      <th>14</th>\n",
       "      <td>15</td>\n",
       "      <td>189</td>\n",
       "      <td>83.0</td>\n",
       "      <td>106.0</td>\n",
       "      <td>56.084656</td>\n",
       "    </tr>\n",
       "    <tr>\n",
       "      <th>7</th>\n",
       "      <td>10</td>\n",
       "      <td>1038</td>\n",
       "      <td>456.0</td>\n",
       "      <td>582.0</td>\n",
       "      <td>56.069364</td>\n",
       "    </tr>\n",
       "    <tr>\n",
       "      <th>18</th>\n",
       "      <td>19</td>\n",
       "      <td>25</td>\n",
       "      <td>12.0</td>\n",
       "      <td>13.0</td>\n",
       "      <td>52.000000</td>\n",
       "    </tr>\n",
       "    <tr>\n",
       "      <th>42</th>\n",
       "      <td>42</td>\n",
       "      <td>2</td>\n",
       "      <td>1.0</td>\n",
       "      <td>1.0</td>\n",
       "      <td>50.000000</td>\n",
       "    </tr>\n",
       "  </tbody>\n",
       "</table>\n",
       "</div>"
      ],
      "text/plain": [
       "    Token_len  Count_before_stem  Count_after_stem  change  per_change\n",
       "38         52                  3               1.0     2.0   66.666667\n",
       "37         31                  3               1.0     2.0   66.666667\n",
       "36         37                  3               1.0     2.0   66.666667\n",
       "8          11                764             288.0   476.0   62.303665\n",
       "10         12                522             208.0   314.0   60.153257\n",
       "11         13                335             139.0   196.0   58.507463\n",
       "14         15                189              83.0   106.0   56.084656\n",
       "7          10               1038             456.0   582.0   56.069364\n",
       "18         19                 25              12.0    13.0   52.000000\n",
       "42         42                  2               1.0     1.0   50.000000"
      ]
     },
     "execution_count": 20,
     "metadata": {},
     "output_type": "execute_result"
    }
   ],
   "source": [
    "len_comparison_df.sort_values('per_change', ascending = False).head(10)"
   ]
  },
  {
   "cell_type": "code",
   "execution_count": 21,
   "metadata": {},
   "outputs": [
    {
     "data": {
      "text/plain": [
       "Text(0.5, 1.0, 'Change in token length (absolute number)')"
      ]
     },
     "execution_count": 21,
     "metadata": {},
     "output_type": "execute_result"
    },
    {
     "data": {
      "image/png": "[encoded data removed]",
      "text/plain": [
       "<Figure size 432x288 with 1 Axes>"
      ]
     },
     "metadata": {
      "needs_background": "light"
     },
     "output_type": "display_data"
    }
   ],
   "source": [
    "plt.plot(len_comparison_df.Token_len, len_comparison_df.change)\n",
    "\n",
    "plt.xlim(0,30)\n",
    "plt.xlabel('Length of token (number of characters)')\n",
    "plt.ylabel('Change in token (absolute number)')\n",
    "plt.title('Change in token length (absolute number)')"
   ]
  },
  {
   "cell_type": "code",
   "execution_count": 22,
   "metadata": {},
   "outputs": [
    {
     "data": {
      "text/plain": [
       "Text(0.5, 1.0, 'Change in token length (% change)')"
      ]
     },
     "execution_count": 22,
     "metadata": {},
     "output_type": "execute_result"
    },
    {
     "data": {
      "image/png": "[encoded data removed]",
      "text/plain": [
       "<Figure size 432x288 with 1 Axes>"
      ]
     },
     "metadata": {
      "needs_background": "light"
     },
     "output_type": "display_data"
    }
   ],
   "source": [
    "plt.plot(len_comparison_df.Token_len, len_comparison_df.per_change)\n",
    "\n",
    "plt.xlim(0,30)\n",
    "plt.xlabel('Length of token (number of characters)')\n",
    "plt.ylabel('Change in token (% change)')\n",
    "plt.title('Change in token length (% change)')"
   ]
  },
  {
   "cell_type": "markdown",
   "metadata": {},
   "source": [
    "### Sentence segmentation\n",
    "\n",
    "Perform sentence segmentation on all documents in each domain. \n",
    "- Compare the distribution of the sentence length in the three domains. \n",
    "    - Here, the x-axis is the length of a sentence in number of words/tokens, and the y-axis is the number of sentences of such length. \n",
    "- Discuss your findings."
   ]
  },
  {
   "cell_type": "code",
   "execution_count": 23,
   "metadata": {
    "scrolled": true
   },
   "outputs": [],
   "source": [
    "df_raw['sentence_tokens'] = df_raw.Contents.apply(sent_tokenize)"
   ]
  },
  {
   "cell_type": "code",
   "execution_count": 24,
   "metadata": {
    "scrolled": true
   },
   "outputs": [
    {
     "name": "stdout",
     "output_type": "stream",
     "text": [
      "GENEVA : MSC continues to monitor and assess the developing situation in Israel to ensure the safety of its personnel and minimize disruption to customer supply chains.\n",
      "================== end of token 0 ==================\n",
      "Currently, Israel’s major ports continue to function and both road and rail are fully operational in and around the country.\n",
      "================== end of token 1 ==================\n",
      "Bookings continue to be accepted to and from Israel, including selected IMO goods subject to the new government restrictions.\n",
      "================== end of token 2 ==================\n",
      "To ensure continued flexibility and facilitation of our customers’ logistics operations, we have developed a suite of assistance for customers with cargo in Israel or bound for Israel:\n",
      "\n",
      "Detention and Demurrage (D&D) – For import containers discharged in ASH or HFA, MSC will stop the clock for the period between 8 October 2023 and 8 November 2023, which will be considered as free days*.\n",
      "================== end of token 3 ==================\n",
      "*Valid until further notice and will be reviewed according to the situation.\n",
      "================== end of token 4 ==================\n",
      "MSC will continue to analyze and evaluate events as they develop and will communicate all new information and any changes to our customers as they occur.\n",
      "================== end of token 5 ==================\n",
      "Our staff are continuing to work remotely to ensure continuity of our operations and customer service and we thank them for their ongoing commitment.\n",
      "================== end of token 6 ==================\n",
      "If you have any further questions or require assistance, please contact your local MSC representatives.\n",
      "================== end of token 7 ==================\n"
     ]
    }
   ],
   "source": [
    "for idx, token in enumerate(df_raw.sentence_tokens[6]):\n",
    "    print(token)\n",
    "    print(f'================== end of token {idx} ==================')"
   ]
  },
  {
   "cell_type": "code",
   "execution_count": 25,
   "metadata": {},
   "outputs": [
    {
     "data": {
      "text/html": [
       "<div>\n",
       "<style scoped>\n",
       "    .dataframe tbody tr th:only-of-type {\n",
       "        vertical-align: middle;\n",
       "    }\n",
       "\n",
       "    .dataframe tbody tr th {\n",
       "        vertical-align: top;\n",
       "    }\n",
       "\n",
       "    .dataframe thead th {\n",
       "        text-align: right;\n",
       "    }\n",
       "</style>\n",
       "<table border=\"1\" class=\"dataframe\">\n",
       "  <thead>\n",
       "    <tr style=\"text-align: right;\">\n",
       "      <th></th>\n",
       "      <th>Title</th>\n",
       "      <th>Contents</th>\n",
       "      <th>Source</th>\n",
       "      <th>token_words</th>\n",
       "      <th>no_punc</th>\n",
       "      <th>stemmed_text</th>\n",
       "      <th>sentence_tokens</th>\n",
       "    </tr>\n",
       "  </thead>\n",
       "  <tbody>\n",
       "    <tr>\n",
       "      <th>0</th>\n",
       "      <td>Meta, Google quit tech summit over organizer's...</td>\n",
       "      <td>WASHINGTON: Meta and Google have pulled out of...</td>\n",
       "      <td>Google_News</td>\n",
       "      <td>[WASHINGTON, :, Meta, and, Google, have, pulle...</td>\n",
       "      <td>[WASHINGTON, Meta, and, Google, have, pulled, ...</td>\n",
       "      <td>[washington, meta, and, googl, have, pull, out...</td>\n",
       "      <td>[WASHINGTON: Meta and Google have pulled out o...</td>\n",
       "    </tr>\n",
       "    <tr>\n",
       "      <th>1</th>\n",
       "      <td>srael-Gaza live updates: Father of freed US ho...</td>\n",
       "      <td>Thousands of people have died and thousands mo...</td>\n",
       "      <td>Google_News</td>\n",
       "      <td>[Thousands, of, people, have, died, and, thous...</td>\n",
       "      <td>[Thousands, of, people, have, died, and, thous...</td>\n",
       "      <td>[thousand, of, peopl, have, die, and, thousand...</td>\n",
       "      <td>[Thousands of people have died and thousands m...</td>\n",
       "    </tr>\n",
       "    <tr>\n",
       "      <th>2</th>\n",
       "      <td>Asean and GCC leaders condemn attacks on civil...</td>\n",
       "      <td>RIYADH - Leaders of Asean and the Gulf Coopera...</td>\n",
       "      <td>Google_News</td>\n",
       "      <td>[RIYADH, -, Leaders, of, Asean, and, the, Gulf...</td>\n",
       "      <td>[RIYADH, Leaders, of, Asean, and, the, Gulf, C...</td>\n",
       "      <td>[riyadh, leader, of, asean, and, the, gulf, co...</td>\n",
       "      <td>[RIYADH - Leaders of Asean and the Gulf Cooper...</td>\n",
       "    </tr>\n",
       "    <tr>\n",
       "      <th>3</th>\n",
       "      <td>Meta, Google quit tech summit over organizer's...</td>\n",
       "      <td>Meta and Google have pulled out of the Web Sum...</td>\n",
       "      <td>Google_News</td>\n",
       "      <td>[Meta, and, Google, have, pulled, out, of, the...</td>\n",
       "      <td>[Meta, and, Google, have, pulled, out, of, the...</td>\n",
       "      <td>[meta, and, googl, have, pull, out, of, the, w...</td>\n",
       "      <td>[Meta and Google have pulled out of the Web Su...</td>\n",
       "    </tr>\n",
       "    <tr>\n",
       "      <th>4</th>\n",
       "      <td>Live Updates | Current US assessment is Israel...</td>\n",
       "      <td>The office of Israeli Prime Minister Benjamin ...</td>\n",
       "      <td>Google_News</td>\n",
       "      <td>[The, office, of, Israeli, Prime, Minister, Be...</td>\n",
       "      <td>[The, office, of, Israeli, Prime, Minister, Be...</td>\n",
       "      <td>[the, offic, of, isra, prime, minist, benjamin...</td>\n",
       "      <td>[The office of Israeli Prime Minister Benjamin...</td>\n",
       "    </tr>\n",
       "  </tbody>\n",
       "</table>\n",
       "</div>"
      ],
      "text/plain": [
       "                                               Title  \\\n",
       "0  Meta, Google quit tech summit over organizer's...   \n",
       "1  srael-Gaza live updates: Father of freed US ho...   \n",
       "2  Asean and GCC leaders condemn attacks on civil...   \n",
       "3  Meta, Google quit tech summit over organizer's...   \n",
       "4  Live Updates | Current US assessment is Israel...   \n",
       "\n",
       "                                            Contents       Source  \\\n",
       "0  WASHINGTON: Meta and Google have pulled out of...  Google_News   \n",
       "1  Thousands of people have died and thousands mo...  Google_News   \n",
       "2  RIYADH - Leaders of Asean and the Gulf Coopera...  Google_News   \n",
       "3  Meta and Google have pulled out of the Web Sum...  Google_News   \n",
       "4  The office of Israeli Prime Minister Benjamin ...  Google_News   \n",
       "\n",
       "                                         token_words  \\\n",
       "0  [WASHINGTON, :, Meta, and, Google, have, pulle...   \n",
       "1  [Thousands, of, people, have, died, and, thous...   \n",
       "2  [RIYADH, -, Leaders, of, Asean, and, the, Gulf...   \n",
       "3  [Meta, and, Google, have, pulled, out, of, the...   \n",
       "4  [The, office, of, Israeli, Prime, Minister, Be...   \n",
       "\n",
       "                                             no_punc  \\\n",
       "0  [WASHINGTON, Meta, and, Google, have, pulled, ...   \n",
       "1  [Thousands, of, people, have, died, and, thous...   \n",
       "2  [RIYADH, Leaders, of, Asean, and, the, Gulf, C...   \n",
       "3  [Meta, and, Google, have, pulled, out, of, the...   \n",
       "4  [The, office, of, Israeli, Prime, Minister, Be...   \n",
       "\n",
       "                                        stemmed_text  \\\n",
       "0  [washington, meta, and, googl, have, pull, out...   \n",
       "1  [thousand, of, peopl, have, die, and, thousand...   \n",
       "2  [riyadh, leader, of, asean, and, the, gulf, co...   \n",
       "3  [meta, and, googl, have, pull, out, of, the, w...   \n",
       "4  [the, offic, of, isra, prime, minist, benjamin...   \n",
       "\n",
       "                                     sentence_tokens  \n",
       "0  [WASHINGTON: Meta and Google have pulled out o...  \n",
       "1  [Thousands of people have died and thousands m...  \n",
       "2  [RIYADH - Leaders of Asean and the Gulf Cooper...  \n",
       "3  [Meta and Google have pulled out of the Web Su...  \n",
       "4  [The office of Israeli Prime Minister Benjamin...  "
      ]
     },
     "execution_count": 25,
     "metadata": {},
     "output_type": "execute_result"
    }
   ],
   "source": [
    "df_raw.head()"
   ]
  },
  {
   "cell_type": "code",
   "execution_count": 26,
   "metadata": {},
   "outputs": [
    {
     "data": {
      "text/plain": [
       "['Preprint\\nEFFICIENT STREAMING LANGUAGE MODELS\\nWITH ATTENTION SINKS\\nGuangxuan Xiao1∗Yuandong Tian2Beidi Chen3Song Han1Mike Lewis2\\n1Massachusetts Institute of Technology\\n2Meta AI\\n3Carnegie Mellon University\\nhttps://github.com/mit-han-lab/streaming-llm\\nABSTRACT\\nDeploying Large Language Models (LLMs) in streaming applications such as\\nmulti-round dialogue, where long interactions are expected, is urgently needed but\\nposes two major challenges.',\n",
       " 'Firstly, during the decoding stage, caching previous\\ntokens’ Key and Value states (KV) consumes extensive memory.',\n",
       " 'Secondly, popular\\nLLMs cannot generalize to longer texts than the training sequence length.',\n",
       " 'Window\\nattention, where only the most recent KVs are cached, is a natural approach — but\\nwe show that it fails when the text length surpasses the cache size.',\n",
       " 'We observe\\nan interesting phenomenon, namely attention sink , that keeping the KV of initial\\ntokens will largely recover the performance of window attention.',\n",
       " 'In this paper, we\\nfirst demonstrate that the emergence of attention sink is due to the strong attention\\nscores towards initial tokens as a “sink” even if they are not semantically important.',\n",
       " 'Based on the above analysis, we introduce StreamingLLM, an efficient framework\\nthat enables LLMs trained with a finite length attention window to generalize to\\ninfinite sequence length without any fine-tuning.',\n",
       " 'We show that StreamingLLM can\\nenable Llama-2, MPT, Falcon, and Pythia to perform stable and efficient language\\nmodeling with up to 4 million tokens and more.',\n",
       " 'In addition, we discover that\\nadding a placeholder token as a dedicated attention sink during pre-training can\\nfurther improve streaming deployment.',\n",
       " 'In streaming settings, StreamingLLM\\noutperforms the sliding window recomputation baseline by up to 22.2 ×speedup.',\n",
       " 'Code and datasets are provided in the link.',\n",
       " '1 I NTRODUCTION\\nLarge Language Models (LLMs) (Radford et al., 2018; Brown et al., 2020; Zhang et al., 2022;\\nOpenAI, 2023; Touvron et al., 2023a;b) are becoming ubiquitous, powering many natural language\\nprocessing applications such as dialog systems (Schulman et al., 2022; Taori et al., 2023; Chiang et al.,\\n2023), document summarization (Goyal & Durrett, 2020; Zhang et al., 2023a), code completion (Chen\\net al., 2021; Rozière et al., 2023) and question answering (Kamalloo et al., 2023).',\n",
       " 'To unleash the\\nfull potential of pretrained LLMs, they should be able to efficiently and accurately perform long\\nsequence generation.',\n",
       " 'For example, an ideal ChatBot assistant can stably work over the content of\\nrecent day-long conversations.',\n",
       " 'However, it is very challenging for LLM to generalize to longer\\nsequence lengths than they have been pretrained on, e.g., 4K for Llama-2 Touvron et al.',\n",
       " '(2023b).',\n",
       " 'The reason is that LLMs are constrained by the attention window during pre-training.',\n",
       " 'Despite\\nsubstantial efforts to expand this window size (Chen et al., 2023; kaiokendev, 2023; Peng et al., 2023)\\nand improve training (Dao et al., 2022; Dao, 2023) and inference (Pope et al., 2022; Xiao et al., 2023;\\nAnagnostidis et al., 2023; Zhang et al., 2023b) efficiency for lengthy inputs, the acceptable sequence\\nlength remains intrinsically finite , which doesn’t allow persistent deployments.',\n",
       " 'In this paper, we first introduce the concept of LLM streaming applications and ask the question:\\nCan we deploy an LLM for infinite-length inputs without sacrificing efficiency and performance?',\n",
       " '∗Part of the work done during an internship at Meta AI.',\n",
       " '1arXiv:2309.17453v1  [cs.CL]  29 Sep 2023\\n\\n============================== End of Page 1 ==============================\\n\\nPreprint\\n(a) Dense Attention(b) Window Attention(d) StreamingLLM (ours)\\nAttention Sink⋯T cached tokens⋯L cached tokens⋯T-L evicted tokensCurrent Token(c) Sliding Window  w/ Re-computation\\nL re-computed tokens⋯previous tokens are truncated⋯L cached tokens⋯evicted tokensO(T2)O(TL)O(TL2)O(TL)PPL: 5158PPL: 5641PPL: 5.43PPL: 5.40\\nHas poor efficiency and performance on long text.Breaks when initial tokens are evicted.Has to re-compute cache for each incoming token.Can perform efficient and stable language modeling on long texts.',\n",
       " 'Figure 1: Illustration of StreamingLLM vs. existing methods.',\n",
       " 'The language model, pre-trained on\\ntexts of length L, predicts the Tth token ( T≫L).',\n",
       " '(a) Dense Attention has O(T2)time complexity\\nand an increasing cache size.',\n",
       " 'Its performance decreases when the text length exceeds the pre-training\\ntext length.',\n",
       " '(b) Window Attention caches the most recent Ltokens’ KV .',\n",
       " 'While efficient in inference,\\nperformance declines sharply once the starting tokens’ keys and values are evicted.',\n",
       " '(c) Sliding\\nWindow with Re-computation rebuilds the KV states from the Lrecent tokens for each new token.',\n",
       " 'While it performs well on long texts, its O(TL2)complexity, stemming from quadratic attention\\nin context re-computation, makes it considerably slow.',\n",
       " '(d) StreamingLLM keeps the attention sink\\n(several initial tokens) for stable attention computation, combined with the recent tokens.',\n",
       " 'It’s efficient\\nand offers stable performance on extended texts.',\n",
       " 'Perplexities are measured using the Llama-2-13B\\nmodel on the first book (65K tokens) in the PG-19 test set.',\n",
       " 'When applying LLMs for infinite input streams, two primary challenges arise:\\n1.During the decoding stage, Transformer-based LLMs cache the Key and Value states (KV)\\nof all previous tokens, as illustrated in Figure 1 (a), which can lead to excessive memory\\nusage and increasing decoding latency (Pope et al., 2022).',\n",
       " '2.Existing models have limited length extrapolation abilities, i.e., their performance de-\\ngrades (Press et al., 2022; Chen et al., 2023) when the sequence length goes beyond the\\nattention window size set during pre-training.',\n",
       " 'An intuitive approach, known as window attention (Beltagy et al., 2020) (Figure 1 b), maintains only\\na fixed-size sliding window on the KV states of most recent tokens.',\n",
       " 'Although it ensures constant\\nmemory usage and decoding speed after the cache is initially filled, the model collapses once the\\nsequence length exceeds the cache size, i.e., even just evicting the KV of the first token , as illustrated\\nin Figure 3.',\n",
       " 'Another strategy is the sliding window with re-computation (shown in Figure 1 c), which\\nrebuilds the KV states of recent tokens for each generated token.',\n",
       " 'While it offers strong performance,\\nthis approach is significantly slower due to the computation of quadratic attention within its window,\\nmaking this method impractical for real-world streaming applications.',\n",
       " 'To understand the failure of window attention, we find an interesting phenomenon of autoregressive\\nLLMs: a surprisingly large amount of attention score is allocated to the initial tokens, irrespective\\nof their relevance to the language modeling task, as visualized in Figure 2.',\n",
       " 'We term these tokens\\n“attention sinks \".',\n",
       " 'Despite their lack of semantic significance, they collect significant attention scores.',\n",
       " 'We attribute the reason to the Softmax operation, which requires attention scores to sum up to one\\nfor all contextual tokens.',\n",
       " 'Thus, even when the current query does not have a strong match in many\\nprevious tokens, the model still needs to allocate these unneeded attention values somewhere so it\\nsums up to one.',\n",
       " 'The reason behind initial tokens as sink tokens is intuitive: initial tokens are visible\\nto almost all subsequent tokens because of the autoregressive language modeling nature, making\\nthem more readily trained to serve as attention sinks.',\n",
       " 'Based on the above insights, we propose StreamingLLM, a simple and efficient framework that\\nenables LLMs trained with a finite attention window to work on text of infinite length without fine-\\ntuning.',\n",
       " 'StreamingLLM exploits the fact that attention sinks have high attention values, and preserving\\nthem can maintain the attention score distribution close to normal.',\n",
       " 'Therefore, StreamingLLM simply\\nkeeps the attention sink tokens’ KV (with just 4 initial tokens sufficing) together with the sliding\\nwindow’s KV to anchor the attention computation and stabilize the model’s performance.',\n",
       " 'With\\nStreamingLLM, models including Llama-2-[7, 13, 70]B, MPT-[7, 30]B, Falcon-[7, 40]B, and Pythia-\\n2\\n\\n============================== End of Page 2 ==============================\\n\\nPreprint\\nLayer 0 Head 0Layer 1 Head 0Layer 2 Head 0\\nLayer 23 Head 0Layer 31 Head 0Layer 16 Head 0Layer 9 Head 0\\nFigure 2: Visualization of the average attention logits in Llama-2-7B over 256 sentences, each with a length\\nof 16.',\n",
       " 'Observations include: (1) The attention maps in the first two layers (layers 0 and 1) exhibit the \"local\"\\npattern, with recent tokens receiving more attention.',\n",
       " '(2) Beyond the bottom two layers, the model heavily attends\\nto the initial token across all layers and heads.',\n",
       " '[2.9,6.9,12]B can reliably model 4 million tokens, and potentially even more.',\n",
       " 'Compared with the only\\nviable baseline, sliding window with recomputation, StreamingLLM achieves up to 22.2 ×speedup,\\nrealizing the streaming use of LLMs.',\n",
       " 'Finally, we confirm our attention sink hypothesis and demonstrate that language models can be\\npre-trained to require only a single attention sink token for streaming deployment.',\n",
       " 'Specifically, we\\nsuggest that an extra learnable token at the beginning of all training samples can serve as a designated\\nattention sink.',\n",
       " 'By pre-training 160-million parameter language models from scratch, we demonstrate\\nthat adding this single sink token preserves the model’s performance in streaming cases.',\n",
       " 'This stands in\\ncontrast to vanilla models, which necessitate the reintroduction of multiple initial tokens as attention\\nsinks to achieve the same performance level.',\n",
       " '2 R ELATED WORK\\nExtensive research has been done on applying LLMs to lengthy texts, with three main areas of focus:\\nLength Extrapolation ,Context Window Extension , and Improving LLMs’ Utilization of Long\\nText.',\n",
       " 'While seemingly related, it’s worth noting that progress in one direction doesn’t necessarily\\nlead to progress in the other.',\n",
       " 'For example, extending the context size of LLMs doesn’t improve the\\nmodel’s performance beyond the context size, and neither approach ensures effective use of the long\\ncontext.',\n",
       " 'Our StreamingLLM framework primarily lies in the first category, where LLMs are applied\\nto text significantly exceeding the pre-training window size, potentially even of infinite length.',\n",
       " 'We do\\nnot expand the attention window size of LLMs or enhance the model’s memory and usage on long\\ntexts.',\n",
       " 'The last two categories are orthogonal to our focus and could be integrated with our techniques.',\n",
       " 'Length extrapolation aims to enable language models trained on shorter texts to handle longer\\nones during testing.',\n",
       " 'A predominant avenue of research targets the development of relative position\\nencoding methods for Transformer models, enabling them to function beyond their training window.',\n",
       " 'One such initiative is Rotary Position Embeddings (RoPE) (Su et al., 2021), which transforms\\nthe queries and keys in every attention layer for relative position integration.',\n",
       " 'Despite its promise,\\nsubsequent research (Press et al., 2022; Chen et al., 2023) indicated its underperformance on text\\nthat exceeds the training window.',\n",
       " 'Another approach, ALiBi (Press et al., 2022), biases the query-key\\nattention scores based on their distance, thereby introducing relative positional information.',\n",
       " 'While\\nthis exhibited improved extrapolation, our tests on MPT models highlighted a breakdown when the\\ntext length was vastly greater than the training length.',\n",
       " 'Current methodologies, however, have yet to\\nachieve infinite length extrapolation, causing no existing LLMs to fit for streaming applications.',\n",
       " 'Context Window Extension centers on expanding the LLMs’ context window, enabling the process-\\ning of more tokens in one forward pass.',\n",
       " 'A primary line of work addresses the training efficiency\\nproblem.',\n",
       " 'Given the attention to computation’s quadratic complexity during training, developing\\na long-context LLM is both a computational and memory challenge.',\n",
       " 'Solutions have ranged from\\nsystem-focused optimizations like FlashAttention (Dao et al., 2022; Dao, 2023), which accelerates\\nattention computation and reduces memory footprint, to approximate attention methods (Zaheer\\net al., 2020; Beltagy et al., 2020; Wang et al., 2020; Kitaev et al., 2020) that trade model quality for\\nefficiency.',\n",
       " 'Recently, there has been a surge of work on extending pre-trained LLMs with RoPE (Chen\\net al., 2023; kaiokendev, 2023; bloc97, 2023; Peng et al., 2023), involving position interpolation and\\nfine-tuning.',\n",
       " 'However, all the aforementioned techniques only extend LLMs’ context window to a\\nlimited extent, which falls short of our paper’s primary concern of handling limitless inputs.',\n",
       " 'Improving LLMs’ Utilization of Long Text optimizes LLMs to better capture and employ the\\ncontent within the context rather than merely taking them as inputs.',\n",
       " 'As highlighted by Liu et al.',\n",
       " '3\\n\\n============================== End of Page 3 ==============================\\n\\nPreprint\\nDense AttentionWindow AttentionSliding Window \\nw/ Re-computationStreamingLLM\\nDense AttentionWindow AttentionStreamingLLM\\nFigure 3: Language modeling perplexity on texts with 20K tokens across various LLM.',\n",
       " 'Observations\\nreveal consistent trends: (1) Dense attention fails once the input length surpasses the pre-training\\nattention window size.',\n",
       " '(2) Window attention collapses once the input length exceeds the cache size,\\ni.e., the initial tokens are evicted.',\n",
       " '(3) StreamingLLM demonstrates stable performance, with its\\nperplexity nearly matching that of the sliding window with re-computation baseline.',\n",
       " 'and Li et al., success in the previously mentioned two directions does not necessarily translate to\\ncompetent utilization of lengthy contexts.',\n",
       " 'Addressing this effective usage of prolonged contexts\\nwithin LLMs is still a challenge.',\n",
       " 'Our work concentrates on stably harnessing the most recent tokens,\\nenabling the seamless streaming application of LLMs.',\n",
       " '3 S TREAMING LLM\\n3.1 T HEFAILURE OF WINDOW ATTENTION AND ATTENTION SINKS\\nWhile the window attention technique offers efficiency during inference, it results in an exceedingly\\nhigh language modeling perplexity.',\n",
       " 'Consequently, the model’s performance is unsuitable for deploy-\\nment in streaming applications.',\n",
       " 'In this section, we use the concept of attention sink to explain the\\nfailure of window attention, serving as the inspiration behind StreamingLLM.',\n",
       " 'Identifying the Point of Perplexity Surge.',\n",
       " 'Figure 3 shows the perplexity of language modeling on\\na 20K token text.',\n",
       " 'It is evident that perplexity spikes when the text length surpasses the cache size, led\\nby the exclusion of initial tokens.',\n",
       " 'This suggests that the initial tokens, regardless of their distance\\nfrom the tokens being predicted, are crucial for maintaining the stability of LLMs.',\n",
       " 'Why do LLMs break when removing initial tokens’ KV?',\n",
       " 'We visualize attention maps from\\nall layers and heads of the Llama-2-7B and models in Figure 2.',\n",
       " 'We find that, beyond the bottom\\ntwo layers, the model consistently focuses on the initial tokens across all layers and heads.',\n",
       " 'The\\nimplication is clear: removing these initial tokens’ KV will remove a considerable portion of the\\ndenominator in the SoftMax function (Equation 1) in attention computation.',\n",
       " 'This alteration leads to a\\nsignificant shift in the distribution of attention scores away from what would be expected in normal\\ninference settings.',\n",
       " 'SoftMax (x)i=exi\\nex1+PN\\nj=2exj, x 1≫xj, j∈2, .',\n",
       " '. . , N (1)\\nThere are two possible explanations for the importance of the initial tokens in language modeling:\\n(1) Either their semantics are crucial, or (2) the model learns a bias towards their absolute position.',\n",
       " 'To distinguish between these possibilities, we conduct experiments (Table 1), wherein the first four\\ntokens are substituted with the linebreak token “\\\\n\".',\n",
       " 'The observations indicate that the model still\\nsignificantly emphasizes these initial linebreak tokens.',\n",
       " 'Furthermore, reintroducing them restores\\nthe language modeling perplexity to levels comparable to having the original initial tokens.',\n",
       " 'This\\nsuggests that the absolute position of the starting tokens, rather than their semantic value, holds\\ngreater significance.',\n",
       " 'LLMs attend to Initial Tokens as Attention Sinks.',\n",
       " 'To explain why the model disproportionately\\nfocuses on initial tokens—regardless of their semantic relevance to language modeling, we introduce\\nthe concept of “ attention sink \".',\n",
       " 'The nature of the SoftMax function (Equation 1) prevents all attended\\ntokens from having zero values.',\n",
       " 'This requires aggregating some information from other tokens across\\nall heads in all layers, even if the current embedding has sufficient self-contained information for its\\nprediction.',\n",
       " 'Consequently, the model tends to dump unnecessary attention values to specific tokens.',\n",
       " 'A\\nsimilar observation has been made in the realm of quantization outliers (Xiao et al., 2023; Bondarenko\\net al., 2023), leading to the proposal of SoftMax-Off-by-One (Miller, 2023) as a potential remedy.',\n",
       " '4\\n\\n============================== End of Page 4 ==============================\\n\\nPreprint\\nTable 1: Window attention has poor per-\\nformance on long text.',\n",
       " 'The perplexity is\\nrestored when we reintroduce the initial\\nfour tokens alongside the recent 1020 to-\\nkens (4+1020).',\n",
       " 'Substituting the original\\nfour initial tokens with linebreak tokens\\n“\\\\n\" (4\"\\\\n\"+1020) achieves comparable per-\\nplexity restoration.',\n",
       " 'Cache config x+y de-\\nnotes adding x initial tokens with y recent\\ntokens.',\n",
       " 'Perplexities are measured on the\\nfirst book (65K tokens) in the PG19 test set.',\n",
       " 'Llama-2-13B PPL ( ↓)\\n0 + 1024 (Window) 5158.07\\n4 + 1020 5.40\\n4\"\\\\n\"+1020 5.60Table 2: Effects of reintroduced initial token numbers on\\nStreamingLLM.',\n",
       " '(1) Window attention (0+y) has a dras-\\ntic increase in perplexity.',\n",
       " '(2) Introducing one or two ini-\\ntial tokens usually doesn’t suffice to fully restore model\\nperplexity, indicating that the model doesn’t solely use\\nthe first token as the attention sink.',\n",
       " '(3) Introducing four\\ninitial tokens generally suffices; further additions have\\ndiminishing returns.',\n",
       " 'Cache config x+y denotes adding x\\ninitial tokens to y recent tokens.',\n",
       " 'Perplexities are evalu-\\nated on 400K tokens in the concatenated PG19 test set.',\n",
       " 'Cache Config 0+2048 1+2047 2+2046 4+2044 8+2040\\nFalcon-7B 17.90 12.12 12.12 12.12 12.12\\nMPT-7B 460.29 14.99 15.00 14.99 14.98\\nPythia-12B 21.62 11.95 12.09 12.09 12.02\\nCache Config 0+4096 1+4095 2+4094 4+4092 8+4088\\nLlama-2-7B 3359.95 11.88 10.51 9.59 9.54\\nWhy do various autoregressive LLMs, such as Llama-2, MPT, Falcon, and Pythia, consistently focus\\noninitial tokens as their attention sinks, rather than other tokens?',\n",
       " 'Our explanation is straightforward:\\nDue to the sequential nature of autoregressive language modeling, initial tokens are visible to all\\nsubsequent tokens, while later tokens are only visible to a limited set of subsequent tokens.',\n",
       " 'As a result,\\ninitial tokens are more easily trained to serve as attention sinks, capturing unnecessary attention.',\n",
       " 'We’ve noted that LLMs are typically trained to utilize multiple initial tokens as attention sinks rather\\nthan just one.',\n",
       " 'As illustrated in Figure 2, the introduction of four initial tokens, as attention sinks,\\nsuffices to restore the LLM’s performance.',\n",
       " 'In contrast, adding just one or two doesn’t achieve full\\nrecovery.',\n",
       " 'We believe this pattern emerges because these models didn’t include a consistent starting\\ntoken across all input samples during pre-training.',\n",
       " 'Although Llama-2 does prefix each paragraph\\nwith a “<s>\" token, it’s applied before text chunking, resulting in a mostly random token occupying\\nthe zeroth position.',\n",
       " 'This lack of a uniform starting token leads the model to use several initial tokens\\nas attention sinks.',\n",
       " 'We hypothesize that by incorporating a stable learnable token at the start of all\\ntraining samples, it could singularly act as a committed attention sink, eliminating the need for\\nmultiple initial tokens to ensure consistent streaming.',\n",
       " 'We will validate this hypothesis in Section 3.3.',\n",
       " '3.2 R OLLING KV C ACHE WITH ATTENTION SINKS\\n01234567Generating Token 13Generating Token 14Generating Token 15\\nAttention SinksRolling KV Cache012310111213140123101112131415Evicted Tokens01234567Generating Token 7012345678Generating Token 80123456789Evicted TokensRolling KV CacheGenerating Token 9\\nFigure 4: The KV cache of StreamingLLM.To enable LLM streaming in already trained LLMs, we\\npropose a straightforward method that can recover win-\\ndow attention’s perplexity without any model finetuning.',\n",
       " 'Alongside the current sliding window tokens, we reintro-\\nduce a few starting tokens’ KV in the attention computa-\\ntion.',\n",
       " 'The KV cache in StreamingLLM can be conceptually divided into two parts, as illustrated\\nin Figure 4: (1) Attention sinks (four initial tokens) stabilize the attention computation; 2) Rolling\\nKV Cache retains the most recent tokens, crucial for language modeling.',\n",
       " 'StreamingLLM’ design is\\nversatile and can be seamlessly incorporated into any autoregressive language model that employs\\nrelative positional encoding, such as RoPE (Su et al., 2021) and ALiBi (Press et al., 2022).',\n",
       " 'When determining the relative distance and adding positional information to tokens, StreamingLLM\\nfocuses on positions within the cache rather than those in the original text .',\n",
       " 'This distinction is crucial\\nfor StreamingLLM’s performance.',\n",
       " 'For instance, if the current cache has tokens [0, 1, 2, 3, 6, 7, 8]\\nand is in the process of decoding the 9th token, the positions assigned are [0, 1, 2, 3, 4, 5, 6, 7], rather\\nthan the positions in the original text, which would be [0, 1, 2, 3, 6, 7, 8, 9].',\n",
       " 'For encoding like RoPE, we cache the Keys of tokens prior to introducing the rotary transformation.',\n",
       " 'Then, we apply position transformation to the keys in the rolling cache at each decoding phase.',\n",
       " 'On the\\nother hand, integrating with ALiBi is more direct.',\n",
       " 'Here, the contiguous linear bias is applied instead\\nof a ’jumping’ bias to the attention scores.',\n",
       " 'This method of assigning positional embedding within the\\ncache is crucial to StreamingLLM’s functionality, ensuring that the model operates efficiently even\\nbeyond its pre-training attention window size.',\n",
       " '5\\n\\n============================== End of Page 5 ==============================\\n\\nPreprint\\n3.3 P RE-TRAINING LLM S WITH ATTENTION SINKS\\nTable 3: Comparison of vanilla attention with\\nprepending a zero token and a learnable sink token\\nduring pre-training.',\n",
       " 'To ensure stable streaming\\nperplexity, the vanilla model required several ini-\\ntial tokens.',\n",
       " 'While Zero Sink demonstrated a slight\\nimprovement, it still needed other initial tokens.',\n",
       " 'Conversely, the model trained with a learnable\\nSink Token showed stable streaming perplexity\\nwith only the sink token added.',\n",
       " 'Cache config x+y\\ndenotes adding xinitial tokens with yrecent to-\\nkens.',\n",
       " 'Perplexity is evaluated on the first sample in\\nthe PG19 test set.',\n",
       " 'Cache Config 0+1024 1+1023 2+1022 4+1020\\nVanilla 27.87 18.49 18.05 18.05\\nZero Sink 29214 19.90 18.27 18.01\\nLearnable Sink 1235 18.01 18.01 18.02As elaborated in Section 3.1, a significant reason\\nfor the model’s excessive attention to multiple\\ninitial tokens is the absence of a designated sink\\ntoken to offload excessive attention scores.',\n",
       " 'Due\\nto this, the model inadvertently designates glob-\\nally visible tokens, primarily the initial ones,\\nas attention sinks.',\n",
       " 'A potential remedy can be\\nthe intentional inclusion of a global trainable\\nattention sink token, denoted as a “Sink Token\",\\nwhich would serve as a repository for unneces-\\nsary attention scores.',\n",
       " 'Alternatively, replacing\\nthe conventional SoftMax function with a vari-\\nant like SoftMax-off-by-One (Miller, 2023),\\nSoftMax 1(x)i=exi\\n1 +PN\\nj=1exj, (2)\\nwhich does not require the attention scores on all contextual tokens to sum up to one, might also be\\neffective.',\n",
       " 'Note that this SoftMax alternative is equivalent to using a token with an all-zero Key and\\nValue features in the attention computation.',\n",
       " 'We denote this method as “Zero Sink\" to fit it consistently\\nin our framework.',\n",
       " 'For validation, we pre-train three language models with 160 million parameters from scratch under\\nidentical settings.',\n",
       " 'The first model utilizes the standard SoftMax attention (Vanilla), the second\\nreplaced the regular attention mechanism with SoftMax 1(Zero Sink), and one prepending a learnable\\nplaceholder token (Sink Token) in all training samples.',\n",
       " 'As shown in Table 3, while the zero sink\\nalleviates the attention sink problem to some extent, the model still relies on other initial tokens as\\nattention sinks.',\n",
       " 'Introducing a sink token is highly effective in stabilizing the attention mechanism.',\n",
       " 'Simply pairing this sink token with recent tokens sufficiently anchors the model’s performance, and\\nthe resulting evaluation perplexity is even marginally improved.',\n",
       " 'Given these findings, we recommend\\ntraining future LLMs with a sink token in all samples to optimize streaming deployment.',\n",
       " '4 E XPERIMENTS\\nWe evaluate StreamingLLM using four prominent recent model families: Llama-2 (Touvron et al.,\\n2023b), MPT (Team, 2023), PyThia (Biderman et al., 2023), and Falcon (Almazrouei et al., 2023).',\n",
       " 'Notably, Llama-2, Falcon, and Pythia incorporate RoPE (Su et al., 2021), whereas MPT employs\\nALiBi (Press et al., 2022) — two of the most influential position encoding techniques in recent\\nresearch.',\n",
       " 'Our diverse model selection ensures the validity and robustness of our findings.',\n",
       " 'We bench-\\nmark StreamingLLM against established baselines such as dense attention, window attention, and the\\nsliding window approach with re-computation.',\n",
       " 'In all subsequent experiments with StreamingLLM,\\nwe default to using four initial tokens as attention sinks unless stated otherwise.',\n",
       " '4.1 L ANGUAGE MODELING ON LONG TEXTS ACROSS LLM F AMILIES AND SCALES\\nWe firstly evaluate StreamingLLM’s language modeling perplexity using the concatenated PG19 (Rae\\net al., 2020) test set, which contains 100 long books.',\n",
       " 'For Llama-2 models, the cache size is set at\\n2048, while for Falcon, Pythia, and MPT models, it’s set at 1024.',\n",
       " 'This is half the pre-training window\\nsize chosen to enhance visualization clarity.',\n",
       " 'Figure 3 illustrates that StreamingLLM can match the oracle baseline (sliding window with re-\\ncomputation) in terms of perplexity on texts spanning 20K tokens.',\n",
       " 'Meanwhile, the dense attention\\ntechnique fails when the input length exceeds its pre-training window, and the window attention\\ntechnique struggles when the input length surpasses the cache size, leading to the eviction of the initial\\ntokens.',\n",
       " 'In Figure 5, we further substantiate that StreamingLLM can reliably handle exceptionally\\nextended texts, encompassing more than 4 million tokens, across a spectrum of model families and\\nscales.',\n",
       " 'This includes Llama-2-[7,13,70]B, Falcon-[7,40]B, Pythia-[2.8,6.9,12]B, and MPT-[7,30]B.',\n",
       " '6\\n\\n============================== End of Page 6 ==============================\\n\\nPreprint\\nDense AttentionWindow AttentionSliding Window \\nw/ Re-computationStreamingLLM\\nDense AttentionWindow AttentionStreamingLLM\\nFigure 5: Language modeling perplexity of StreamingLLM for super long texts with 4 million tokens\\nacross various LLM families and model scales.',\n",
       " 'The perplexity remains stable throughout.',\n",
       " 'We use the\\nconcatenated test set of PG19 (100 books) to perform language modeling, with perplexity fluctuations\\nattributable to the transition between books.',\n",
       " '4.2 R ESULTS OF PRE-TRAINING WITH A SINKTOKEN\\nTo validate our suggestion that introducing a sink token to all pre-training samples improves stream-\\ning LLMs, we trained two language models, each with 160 million parameters, under identical\\nconditions.',\n",
       " 'While one model adhered to the original training settings, the other incorporated a sink\\ntoken at the start of every training sample.',\n",
       " 'Our experiments employed the Pythia-160M (Bider-\\nman et al., 2023) codebase and followed its training recipe.',\n",
       " 'We train the models on an 8xA6000\\nNVIDIA GPU server using the deduplicated Pile (Gao et al., 2020) dataset.',\n",
       " 'Apart from reducing\\nthe training batch size to 256, we retained all Pythia training configurations, including learning rate\\nschedules, model initialization, and dataset permutations.',\n",
       " 'Both models were trained for 143,000 steps.',\n",
       " 'Figure 6: Pre-training loss\\ncurves of models w/ and w/o sink\\ntokens.',\n",
       " 'Two models have a simi-\\nlar convergence trend.Table 4: Zero-shot accuracy (in %) across 7 NLP benchmarks,\\nincluding ARC-[Challenge, Easy], HellaSwag, LAMBADA, Open-\\nbookQA, PIQA, and Winogrande.',\n",
       " 'The inclusion of a sink token\\nduring pre-training doesn’t harm the model performance.',\n",
       " 'Methods ARC-c ARC-e HS LBD OBQA PIQA WG\\nVanilla 18.6 45.2 29.4 39.6 16.0 62.2 50.1\\n+Sink Token 19.6 45.6 29.8 39.9 16.6 62.6 50.8\\nConvergence and Normal Model Performance.',\n",
       " 'Including a sink token during pre-training has no\\nnegative impact on model convergence and subsequent performance on a range of NLP benchmarks.',\n",
       " 'As depicted in Figure 6, models trained with a sink token exhibit similar convergence dynamics\\ncompared to their vanilla counterparts.',\n",
       " 'We evaluate the two models on seven diverse NLP bench-\\nmarks, including ARC-[Challenge, Easy] (Clark et al., 2018), HellaSwag (Zellers et al., 2019),\\nLAMBADA (Paperno et al., 2016), OpenbookQA (Mihaylov et al., 2018), PIQA (Bisk et al., 2020),\\nand Winogrande (Sakaguchi et al., 2019).',\n",
       " 'As shown in Table 4, the model pre-trained with a sink\\ntoken performs similarly to that trained using the vanilla approach.',\n",
       " 'Streaming Performance.',\n",
       " 'As illustrated in Table 3, the streaming perplexities differ between\\nmodels trained using traditional methods and those augmented with a sink token.',\n",
       " 'Remarkably,\\nthe vanilla model requires the addition of multiple tokens as attention sinks to maintain stable\\nstreaming perplexity.',\n",
       " 'In contrast, the model trained with a sink token achieves satisfactory streaming\\nperformance using just the sink token.',\n",
       " 'Below is a record of lines I want you to remember.',\n",
       " 'The REGISTER_CONTENT in line 0 is <8806> [omitting 9 lines…] The REGISTER_CONTENT in line 10 is <24879> [omitting 8 lines…] The REGISTER_CONTENT in line 20 is <45603> Query: The REGISTER_CONTENT in line 0 is The REGISTER_CONTENT in line 21 is <29189> [omitting 8 lines…] The REGISTER_CONTENT in line 30 is <1668> Query: The REGISTER_CONTENT in line 10 is The REGISTER_CONTENT in line 31 is <42569> [omitting 8 lines…] The REGISTER_CONTENT in line 40 is <34579> Query: The REGISTER_CONTENT in line 20 is [omitting remaining 5467 lines…]Input Content\\nDesired Output[“<8806>”, “<24879>”, “<45603>”, …]\\nFigure 8: The first sample in StreamEval.Attention Visualization.',\n",
       " 'Figure 7 contrasts atten-\\ntion maps for models pre-trained with and without a\\nsink token.',\n",
       " 'The model without the sink token, similar\\nto Llama-2-7B (Figure 2), shows early-layer local\\nattention and deeper-layer focus on initial tokens.',\n",
       " 'In contrast, models trained with a sink token con-\\nsistently concentrate on the sink across layers and\\nheads, indicating an effective attention offloading\\nmechanism.',\n",
       " 'This strong focus on the sink, with re-\\nduced attention to other initial tokens, explains the\\nsink token’s efficacy in enhancing model’s streaming\\nperformance.',\n",
       " '7\\n\\n============================== End of Page 7 ==============================\\n\\nPreprint\\nPre-Trained without Sink TokenPre-Trained with Sink Token\\nLayer 0 Head 0Layer 2 Head 0Layer 10 Head 0Layer 0 Head 0Layer 2 Head 0Layer 10 Head 0\\nFigure 7: Visualization of average attention logits over 256 sentences, each 16 tokens long, comparing models\\npre-trained with (left) and without (right) a sink token.',\n",
       " 'Both maps show the same layers and heads.',\n",
       " 'Key\\nobservations: (1) Without a sink token, models show local attention in lower layers and increased attention\\nto initial tokens in deeper layers.',\n",
       " '(2) With a sink token, there is clear attention directed at it across all layers,\\neffectively collecting redundant attention.',\n",
       " '(3) With the presence of the sink token, less attention is given to other\\ninitial tokens, supporting the benefit of designating the sink token to enhance the streaming performance.',\n",
       " 'Table 5: Accuracy (in %) on the ARC-[Easy, Challenge] datasets.',\n",
       " 'Questions were concatenated and answered\\nin a streaming manner to mimic a real-world chat setting.',\n",
       " 'The dense baseline fails due to Out-of-Memory\\n(OOM) errors.',\n",
       " 'Window attention has poor accuracy.',\n",
       " 'StreamingLLM has comparable results with the one-shot\\nsample-by-sample baseline.',\n",
       " 'Window attention and StreamingLLM use cache sizes of 1024.',\n",
       " 'Model Llama-2-7B-Chat Llama-2-13B-Chat Llama-2-70B-Chat\\nDataset Arc-E Arc-C Arc-E Arc-C Arc-E Arc-C\\nOne-shot 71.25 53.16 78.16 63.31 91.29 78.50\\nDense OOM\\nWindow 3.58 1.39 0.25 0.34 0.12 0.32\\nStreamingLLM 71.34 55.03 80.89 65.61 91.37 80.20\\n4.3 R ESULTS ON STREAMING QUESTION ANSWERING WITH INSTRUCTION -TUNED MODELS\\nTo show StreamingLLM’s real-world applicability, we emulate multi-round question-answering using\\ninstruction-tuned LLMs, commonly used in real-world scenarios.',\n",
       " 'We first concatenate all question-answer pairs from the ARC-[Challenge, Easy] datasets, feed the\\ncontinuous stream to Llama-2-[7,13,70]B-Chat models, and assess model completions at each answer\\nposition using an exact match criterion.',\n",
       " 'As table 5 indicates, dense attention results in Out-of-Memory\\n(OOM) errors, showing it unsuitable for this setting.',\n",
       " 'While the window attention method works\\nefficiently, it exhibits low accuracy due to random outputs when the input length exceeds the cache\\nsize.',\n",
       " 'Conversely, StreamingLLM excels by efficiently handling the streaming format, aligning with\\nthe one-shot, sample-by-sample baseline accuracy.',\n",
       " 'Highlighting a more fitting scenario for StreamingLLM, we introduce a dataset, StreamEval, inspired\\nby the LongEval (Li et al., 2023) benchmark.',\n",
       " 'As depicted in Figure 8, diverging from LongEval’s\\nsingle query over a long-span setup, we query the model every 10 lines of new information.',\n",
       " 'Each\\nquery’s answer is consistently 20 lines prior, reflecting real-world instances where questions typically\\npertain to recent information.',\n",
       " 'As illustrated in Figure 9, LLMs employing StreamingLLM maintain\\nreasonable accuracy even as input lengths approach 120K tokens.',\n",
       " 'In contrast, both dense and window\\nattention fail at the pre-training text length and the KV cache size, respectively.',\n",
       " 'Additionally, we\\nutilize two context-extended models, LongChat-7b-v1.5-32k (Li et al., 2023) and Llama-2-7B-32K-\\nInstruct (Together, 2023), to show that StreamingLLM can complement context extension techniques.',\n",
       " 'Within StreamingLLM, context extension means broadening the maximum cache size of streaming\\nLLMs, enabling the capture of broader local information.',\n",
       " '4.4 A BLATION STUDIES\\nNumbers of Initial Tokens.',\n",
       " 'In Table 2, we ablate the effect of adding varying numbers of initial\\ntokens with recent tokens on the streaming perplexity.',\n",
       " 'The results show the insufficiency of introduc-\\ning merely one or two initial tokens, whereas a threshold of four initial tokens appears enough, with\\nsubsequent additions contributing marginal effects.',\n",
       " 'This result justifies our choice of introducing 4\\ninitial tokens as attention sinks in StreamingLLM.',\n",
       " '8\\n\\n============================== End of Page 8 ==============================\\n\\nPreprint\\nDense AttentionWindow AttentionSliding Window \\nw/ Re-computationStreamingLLM\\nDense AttentionWindow AttentionStreamingLLM\\nFigure 9: Performance on the StreamEval benchmark.',\n",
       " 'Accuracies are averaged over 100 samples.',\n",
       " 'Latency (ms)040080012001600256512102420484096\\n65\\n45\\n35\\n31\\n31\\n1411\\n523\\n223\\n103\\n63Sliding Window with Re-computationStreamingLLMMemory (GB)071421256512102420484096\\n19\\n16\\n14\\n13\\n13\\n21\\n16\\n14\\n13\\n13Latency (ms)0750150022503000256512102420484096\\n106\\n75\\n60\\n52\\n48\\n2355\\n860\\n361\\n169\\n99Memory (GB)010192938256512102420484096\\n34\\n29\\n27\\n26\\n25\\n36\\n29\\n26\\n25\\n25Llama-2-7BLlama-2-13B\\nFigure 10: Comparison of per-token decoding latency and memory usage between the sliding window\\napproach with re-computation baseline and StreamingLLM, plotted against the cache size (attention\\nwindow size) on the X-axis.',\n",
       " 'StreamingLLM delivers a remarkable speedup of up to 22.2 ×per token\\nand retains a memory footprint similar to the re-computation baseline.',\n",
       " 'Cache Sizes.',\n",
       " 'In Table 6, we evaluate cache size’s impact on StreamingLLM’s perplex-\\nity.',\n",
       " 'Contrary to intuition, increasing the cache size doesn’t consistently lower the lan-\\nguage modeling perplexity.',\n",
       " 'This inconsistency shows a potential limitation where these mod-\\nels might not maximize the utility of the entire context they receive.',\n",
       " 'Future research ef-\\nforts should target enhancing these models’ capabilities to utilize extensive contexts better.',\n",
       " 'Table 6: Effects of cache size on\\nStreamingLLM’s performance.',\n",
       " 'Increasing\\nthe cache size in StreamingLLM doesn’t con-\\nsistently yield a decrease in perplexity across\\nall models, suggesting these models may\\nnot be fully exploiting the provided context.',\n",
       " 'Cache config x+ydenotes adding xinitial\\ntokens with yrecent tokens.',\n",
       " 'Perplexity is\\nevaluated on 400K tokens in the concatenated\\nPG19 test set.',\n",
       " 'Cache 4+252 4+508 4+1020 4+2044\\nFalcon-7B 13.61 12.84 12.34 12.84\\nMPT-7B 14.12 14.25 14.33 14.99\\nPythia-12B 13.17 12.52 12.08 12.09\\nCache 4+508 4+1020 4+2044 4+4092\\nLlama-2-7B 9.73 9.32 9.08 9.594.5 E FFICENCY RESULTS\\nWe benchmark its decoding latency and memory us-\\nage against the sliding window with re-computation,\\nwhich is the only baseline with acceptable per-\\nformance.',\n",
       " 'Both methods are implemented using\\nthe Huggingface Transformers library (Wolf et al.,\\n2020) and tested on a single NVIDIA A6000 GPU\\nusing the Llama-2-7B and Llama-2-13B models.',\n",
       " 'As depicted in Figure 10, as the cache size in-\\ncreases, StreamingLLM’s decoding speed demon-\\nstrates a linear growth.',\n",
       " 'The sliding window with\\nre-computation baseline has a quadratic rise in de-\\ncoding latency.',\n",
       " 'Thus, StreamingLLM achieves an\\nimpressive speedup, reaching up to 22.2 ×per token.',\n",
       " 'Despite its reduced latency, StreamingLLM sustains a\\nmemory footprint consistent with the re-computation\\nbaseline.',\n",
       " '5 C ONCLUSION\\nDeploying LLMs in streaming applications is urgently needed but comes with challenges due to\\nefficiency limitations and reduced performance with longer texts.',\n",
       " 'Window attention provides a partial\\nsolution, but its performance plummets when initial tokens are excluded.',\n",
       " 'Recognizing the role of\\nthese tokens as “attention sinks\", we introduced StreamingLLM —a simple and efficient framework\\nthat enables LLMs to handle unlimited texts without fine-tuning.',\n",
       " 'By adding attention sinks with\\nrecent tokens, StreamingLLM can efficiently model texts of up to 4 million tokens.',\n",
       " 'We further\\nshow that pre-training models with a dedicated sink token can improve the streaming performance.',\n",
       " 'StreamingLLM firstly decouples the LLM’s pre-training window size and its actual text generation\\nlength, paving the way for the streaming deployment of LLMs.',\n",
       " '9\\n\\n============================== End of Page 9 ==============================\\n\\nPreprint\\nREFERENCES\\nEbtesam Almazrouei, Hamza Alobeidli, Abdulaziz Alshamsi, Alessandro Cappelli, Ruxandra Co-\\njocaru, Merouane Debbah, Etienne Goffinet, Daniel Heslow, Julien Launay, Quentin Malartic,\\nBadreddine Noune, Baptiste Pannier, and Guilherme Penedo.',\n",
       " 'Falcon-40B: an open large language\\nmodel with state-of-the-art performance.',\n",
       " '2023.',\n",
       " 'Sotiris Anagnostidis, Dario Pavllo, Luca Biggio, Lorenzo Noci, Aurelien Lucchi, and Thomas\\nHofmann.',\n",
       " 'Dynamic context pruning for efficient and interpretable autoregressive transformers,\\n2023.',\n",
       " 'Iz Beltagy, Matthew E. Peters, and Arman Cohan.',\n",
       " 'Longformer: The long-document transformer,\\n2020. arXiv:2004.05150.',\n",
       " 'Stella Biderman, Hailey Schoelkopf, Quentin Anthony, Herbie Bradley, Kyle O’Brien, Eric Hallahan,\\nMohammad Aflah Khan, Shivanshu Purohit, USVSN Sai Prashanth, Edward Raff, Aviya Skowron,\\nLintang Sutawika, and Oskar van der Wal.',\n",
       " 'Pythia: A suite for analyzing large language models\\nacross training and scaling, 2023.',\n",
       " 'Yonatan Bisk, Rowan Zellers, Ronan Le Bras, Jianfeng Gao, and Yejin Choi.',\n",
       " 'Piqa: Reasoning\\nabout physical commonsense in natural language.',\n",
       " 'In Thirty-Fourth AAAI Conference on Artificial\\nIntelligence , 2020.\\nbloc97.',\n",
       " 'NTK-Aware Scaled RoPE allows LLaMA models to have extended (8k+) context size\\nwithout any fine-tuning and minimal perplexity degradation., 2023.',\n",
       " 'URL https://www.reddit.com/\\nr/LocalLLaMA/comments/14lz7j5/ntkaware_scaled_rope_allows_llama_models_to_have/.',\n",
       " 'Yelysei Bondarenko, Markus Nagel, and Tijmen Blankevoort.',\n",
       " 'Quantizable transformers: Removing\\noutliers by helping attention heads do nothing, 2023.',\n",
       " 'Tom Brown, Benjamin Mann, Nick Ryder, Melanie Subbiah, Jared D Kaplan, Prafulla Dhariwal,\\nArvind Neelakantan, Pranav Shyam, Girish Sastry, Amanda Askell, et al.',\n",
       " 'Language models are\\nfew-shot learners.',\n",
       " 'Advances in neural information processing systems , 33:1877–1901, 2020.',\n",
       " 'Mark Chen, Jerry Tworek, Heewoo Jun, Qiming Yuan, Henrique Ponde de Oliveira Pinto, Jared\\nKaplan, Harri Edwards, Yuri Burda, Nicholas Joseph, Greg Brockman, Alex Ray, Raul Puri,\\nGretchen Krueger, Michael Petrov, Heidy Khlaaf, Girish Sastry, Pamela Mishkin, Brooke Chan,\\nScott Gray, Nick Ryder, Mikhail Pavlov, Alethea Power, Lukasz Kaiser, Mohammad Bavarian,\\nClemens Winter, Philippe Tillet, Felipe Petroski Such, Dave Cummings, Matthias Plappert, Fotios\\nChantzis, Elizabeth Barnes, Ariel Herbert-V oss, William Hebgen Guss, Alex Nichol, Alex Paino,\\nNikolas Tezak, Jie Tang, Igor Babuschkin, Suchir Balaji, Shantanu Jain, William Saunders,\\nChristopher Hesse, Andrew N. Carr, Jan Leike, Josh Achiam, Vedant Misra, Evan Morikawa,\\nAlec Radford, Matthew Knight, Miles Brundage, Mira Murati, Katie Mayer, Peter Welinder, Bob\\nMcGrew, Dario Amodei, Sam McCandlish, Ilya Sutskever, and Wojciech Zaremba.',\n",
       " 'Evaluating\\nlarge language models trained on code, 2021.',\n",
       " 'Shouyuan Chen, Sherman Wong, Liangjian Chen, and Yuandong Tian.',\n",
       " 'Extending context window of\\nlarge language models via positional interpolation, 2023. arXiv: 2306.15595.',\n",
       " 'Wei-Lin Chiang, Zhuohan Li, Zi Lin, Ying Sheng, Zhanghao Wu, Hao Zhang, Lianmin Zheng,\\nSiyuan Zhuang, Yonghao Zhuang, Joseph E. Gonzalez, Ion Stoica, and Eric P. Xing.',\n",
       " 'Vicuna:\\nAn open-source chatbot impressing gpt-4 with 90%* chatgpt quality, March 2023.',\n",
       " 'URL https:\\n//lmsys.org/blog/2023-03-30-vicuna/.',\n",
       " 'Peter Clark, Isaac Cowhey, Oren Etzioni, Tushar Khot, Ashish Sabharwal, Carissa Schoenick, and\\nOyvind Tafjord.',\n",
       " 'Think you have solved question answering?',\n",
       " 'try arc, the ai2 reasoning challenge.',\n",
       " 'arXiv:1803.05457v1 , 2018.',\n",
       " 'Tri Dao.',\n",
       " 'FlashAttention-2: Faster attention with better parallelism and work partitioning.',\n",
       " '2023.',\n",
       " 'Tri Dao, Daniel Y . Fu, Stefano Ermon, Atri Rudra, and Christopher Ré.',\n",
       " 'FlashAttention: Fast and\\nmemory-efficient exact attention with IO-awareness, 2022. arXiv:2205.14135.',\n",
       " '10\\n\\n============================== End of Page 10 ==============================\\n\\nPreprint\\nLeo Gao, Stella Biderman, Sid Black, Laurence Golding, Travis Hoppe, Charles Foster, Jason Phang,\\nHorace He, Anish Thite, Noa Nabeshima, Shawn Presser, and Connor Leahy.',\n",
       " 'The Pile: An 800gb\\ndataset of diverse text for language modeling.',\n",
       " 'arXiv preprint arXiv:2101.00027 , 2020.',\n",
       " 'Tanya Goyal and Greg Durrett.',\n",
       " 'Evaluating factuality in generation with dependency-level entailment.',\n",
       " 'InFindings of the Association for Computational Linguistics: EMNLP 2020 , Online, 2020.',\n",
       " 'Association for Computational Linguistics.',\n",
       " 'kaiokendev.',\n",
       " 'Things I’m learning while training superhot., 2023.',\n",
       " 'URL https://kaiokendev.github.io/\\ntil#extending-context-to-8k.',\n",
       " 'Ehsan Kamalloo, Nouha Dziri, Charles L. A. Clarke, and Davood Rafiei.',\n",
       " 'Evaluating open-domain\\nquestion answering in the era of large language models, 2023.',\n",
       " 'Nikita Kitaev, Lukasz Kaiser, and Anselm Levskaya.',\n",
       " 'Reformer: The efficient transformer.',\n",
       " 'In 8th\\nInternational Conference on Learning Representations, ICLR 2020 .',\n",
       " 'OpenReview.net, April 2020.',\n",
       " 'Dacheng Li, Rulin Shao, Anze Xie, Ying Sheng, Lianmin Zheng, Joseph E. Gonzalez, Ion Stoica,\\nXuezhe Ma, , and Hao Zhang.',\n",
       " 'How long can open-source llms truly promise on context length?,\\nJune 2023.',\n",
       " 'URL https://lmsys.org/blog/2023-06-29-longchat.',\n",
       " 'Nelson F. Liu, Kevin Lin, John Hewitt, Ashwin Paranjape, Michele Bevilacqua, Fabio Petroni, and\\nPercy Liang.',\n",
       " 'Lost in the middle: How language models use long contexts, 2023.',\n",
       " 'Todor Mihaylov, Peter Clark, Tushar Khot, and Ashish Sabharwal.',\n",
       " 'Can a suit of armor conduct\\nelectricity?',\n",
       " 'a new dataset for open book question answering.',\n",
       " 'In EMNLP , 2018.',\n",
       " 'Evan Miller.',\n",
       " 'Attention is off by one, 2023.',\n",
       " 'URL https://www.evanmiller.org/attention-is-off-by-one.',\n",
       " 'html.',\n",
       " 'OpenAI.',\n",
       " 'Gpt-4 technical report, 2023.',\n",
       " 'Denis Paperno, Germán Kruszewski, Angeliki Lazaridou, Ngoc Quan Pham, Raffaella Bernardi,\\nSandro Pezzelle, Marco Baroni, Gemma Boleda, and Raquel Fernández.',\n",
       " 'The LAMBADA dataset:\\nWord prediction requiring a broad discourse context.',\n",
       " 'In Proceedings of the 54th Annual Meeting\\nof the Association for Computational Linguistics (Volume 1: Long Papers) , pp.',\n",
       " '1525–1534, Berlin,\\nGermany, August 2016.',\n",
       " 'Association for Computational Linguistics.',\n",
       " 'doi: 10.18653/v1/P16-1144.',\n",
       " 'URL https://aclanthology.org/P16-1144.',\n",
       " 'Bowen Peng, Jeffrey Quesnelle, Honglu Fan, and Enrico Shippole.',\n",
       " 'Yarn: Efficient context window\\nextension of large language models, 2023.',\n",
       " 'Reiner Pope, Sholto Douglas, Aakanksha Chowdhery, Jacob Devlin, James Bradbury, Anselm\\nLevskaya, Jonathan Heek, Kefan Xiao, Shivani Agrawal, and Jeff Dean.',\n",
       " 'Efficiently scaling\\ntransformer inference.',\n",
       " 'arXiv preprint arXiv:2211.05102 , 2022.',\n",
       " 'Ofir Press, Noah Smith, and Mike Lewis.',\n",
       " 'Train short, test long: Attention with linear biases enables\\ninput length extrapolation.',\n",
       " 'In International Conference on Learning Representations , 2022.',\n",
       " 'URL\\nhttps://openreview.net/forum?id=R8sQPpGCv0.',\n",
       " 'Alec Radford, Karthik Narasimhan, Tim Salimans, Ilya Sutskever, et al.',\n",
       " 'Improving language\\nunderstanding by generative pre-training.',\n",
       " '2018.',\n",
       " 'Jack W. Rae, Anna Potapenko, Siddhant M. Jayakumar, Chloe Hillier, and Timothy P. Lillicrap.',\n",
       " 'Compressive transformers for long-range sequence modelling.',\n",
       " 'In International Conference on\\nLearning Representations , 2020.',\n",
       " 'Baptiste Rozière, Jonas Gehring, Fabian Gloeckle, Sten Sootla, Itai Gat, Xiaoqing Ellen Tan, Yossi\\nAdi, Jingyu Liu, Tal Remez, Jérémy Rapin, Artyom Kozhevnikov, Ivan Evtimov, Joanna Bitton,\\nManish Bhatt, Cristian Canton Ferrer, Aaron Grattafiori, Wenhan Xiong, Alexandre Défossez, Jade\\nCopet, Faisal Azhar, Hugo Touvron, Louis Martin, Nicolas Usunier, Thomas Scialom, and Gabriel\\nSynnaeve.',\n",
       " 'Code Llama: Open foundation models for code, 2023.',\n",
       " '11\\n\\n============================== End of Page 11 ==============================\\n\\nPreprint\\nKeisuke Sakaguchi, Ronan Le Bras, Chandra Bhagavatula, and Yejin Choi.',\n",
       " 'Winogrande: An\\nadversarial winograd schema challenge at scale.',\n",
       " 'arXiv preprint arXiv:1907.10641 , 2019.',\n",
       " 'John Schulman, Barret Zoph, Christina Kim, Jacob Hilton, Jacob Menick, Jiayi Weng, Juan Fe-\\nlipe Ceron Uribe, Liam Fedus, Luke Metz, Michael Pokorny, et al.',\n",
       " 'Chatgpt: Optimizing language\\nmodels for dialogue.',\n",
       " 'OpenAI blog , 2022.',\n",
       " 'Jianlin Su, Yu Lu, Shengfeng Pan, Ahmed Murtadha, Bo Wen, and Yunfeng Liu.',\n",
       " 'Roformer: Enhanced\\ntransformer with rotary position embedding.',\n",
       " 'arXiv preprint arXiv:2104.09864 , 2021.',\n",
       " 'Rohan Taori, Ishaan Gulrajani, Tianyi Zhang, Yann Dubois, Xuechen Li, Carlos Guestrin, Percy\\nLiang, and Tatsunori B. Hashimoto.',\n",
       " 'Stanford alpaca: An instruction-following llama model.',\n",
       " 'https://github.com/tatsu-lab/stanford_alpaca, 2023.',\n",
       " 'MosaicML NLP Team.',\n",
       " 'Introducing mpt-7b: A new standard for open-source, commercially usable\\nllms, 2023.',\n",
       " 'URL www.mosaicml.com/blog/mpt-7b.',\n",
       " 'Accessed: 2023-05-05.',\n",
       " 'Together.',\n",
       " 'Llama-2-7b-32k-instruct — and fine-tuning for llama-2 models with together api, June\\n2023.',\n",
       " 'URL https://together.ai/blog/llama-2-7b-32k-instruct.',\n",
       " 'Hugo Touvron, Thibaut Lavril, Gautier Izacard, Xavier Martinet, Marie-Anne Lachaux, Timothée\\nLacroix, Baptiste Rozière, Naman Goyal, Eric Hambro, Faisal Azhar, et al.',\n",
       " 'Llama: Open and\\nefficient foundation language models.',\n",
       " 'arXiv preprint arXiv:2302.13971 , 2023a.',\n",
       " 'Hugo Touvron, Louis Martin, Kevin Stone, Peter Albert, Amjad Almahairi, Yasmine Babaei, Nikolay\\nBashlykov, Soumya Batra, Prajjwal Bhargava, Shruti Bhosale, et al.',\n",
       " 'Llama 2: Open foundation\\nand fine-tuned chat models.',\n",
       " 'arXiv preprint arXiv:2307.09288 , 2023b.',\n",
       " 'Sinong Wang, Belinda Z Li, Madian Khabsa, Han Fang, and Hao Ma.',\n",
       " 'Linformer: Self-attention with\\nlinear complexity.',\n",
       " '2020.',\n",
       " 'Thomas Wolf, Lysandre Debut, Victor Sanh, Julien Chaumond, Clement Delangue, Anthony Moi,\\nPierric Cistac, Tim Rault, Rémi Louf, Morgan Funtowicz, Joe Davison, Sam Shleifer, Patrick von\\nPlaten, Clara Ma, Yacine Jernite, Julien Plu, Canwen Xu, Teven Le Scao, Sylvain Gugger, Mariama\\nDrame, Quentin Lhoest, and Alexander M. Rush.',\n",
       " 'Huggingface’s transformers: State-of-the-art\\nnatural language processing, 2020.',\n",
       " 'Guangxuan Xiao, Ji Lin, Mickael Seznec, Hao Wu, Julien Demouth, and Song Han.',\n",
       " 'SmoothQuant:\\nAccurate and efficient post-training quantization for large language models.',\n",
       " 'In Proceedings of the\\n40th International Conference on Machine Learning , 2023.',\n",
       " 'Manzil Zaheer, Guru Guruganesh, Kumar Avinava Dubey, Joshua Ainslie, Chris Alberti, Santiago\\nOntañón, Philip Pham, Anirudh Ravula, Qifan Wang, Li Yang, and Amr Ahmed.',\n",
       " 'Big bird:\\nTransformers for longer sequences.',\n",
       " 'In Hugo Larochelle, Marc’Aurelio Ranzato, Raia Hadsell,\\nMaria-Florina Balcan, and Hsuan-Tien Lin (eds.',\n",
       " '), Advances in Neural Information Processing\\nSystems 33: Annual Conference on Neural Information Processing Systems 2020, NeurIPS 2020 .',\n",
       " 'Curran Associates, Inc., 2020.',\n",
       " 'Rowan Zellers, Ari Holtzman, Yonatan Bisk, Ali Farhadi, and Yejin Choi.',\n",
       " 'Hellaswag: Can a machine\\nreally finish your sentence?',\n",
       " 'CoRR , abs/1905.07830, 2019.',\n",
       " 'URL http://arxiv.org/abs/1905.07830.',\n",
       " 'Susan Zhang, Stephen Roller, Naman Goyal, Mikel Artetxe, Moya Chen, Shuohui Chen, Christopher\\nDewan, Mona Diab, Xian Li, Xi Victoria Lin, Todor Mihaylov, Myle Ott, Sam Shleifer, Kurt\\nShuster, Daniel Simig, Punit Singh Koura, Anjali Sridhar, Tianlu Wang, and Luke Zettlemoyer.',\n",
       " 'Opt: Open pre-trained transformer language models, 2022.',\n",
       " 'Tianyi Zhang, Faisal Ladhak, Esin Durmus, Percy Liang, Kathleen McKeown, and Tatsunori B.\\nHashimoto.',\n",
       " 'Benchmarking large language models for news summarization, 2023a.',\n",
       " 'Zhenyu Zhang, Ying Sheng, Tianyi Zhou, Tianlong Chen, Lianmin Zheng, Ruisi Cai, Zhao Song,\\nYuandong Tian, Christopher Ré, Clark Barrett, Zhangyang Wang, and Beidi Chen.',\n",
       " 'H 2o: Heavy-\\nhitter oracle for efficient generative inference of large language models, 2023b.',\n",
       " '12\\n\\n============================== End of Page 12 ==============================']"
      ]
     },
     "execution_count": 26,
     "metadata": {},
     "output_type": "execute_result"
    }
   ],
   "source": [
    "list(df_raw.loc[df_raw.Source == 'PDF', 'sentence_tokens'][23])"
   ]
  },
  {
   "cell_type": "code",
   "execution_count": 27,
   "metadata": {},
   "outputs": [
    {
     "data": {
      "text/plain": [
       "['In the name of the Flowers, the Kobe, and the Holy Phreak\\n\\n\\nOur Father, who art in heaven this day.',\n",
       " \"We pray a Coup d'état of our sweet NA.\",\n",
       " 'We have Palafaker and APA, Summit too!',\n",
       " 'Please, this year, let us have a World finals debut.',\n",
       " \"Let BDS scratch their heads as they blunder\\n\\n\\nBless us with throws as the East stares in wonder\\n\\n\\nWe pray for NRG and their underdog buff\\n\\n\\nHelp GGS's veterans with their mental so tough\\n\\n\\nWe pray for Cloud9, the copium cure\\n\\nTL's Pyosik has returned for a victory tour\\n\\n\\nGive APA the strength to become a god killer\\n\\n\\nThrough play-ins or groups, as they smash any pillar\\n\\n\\nFor its with NRG, TL, GGS, & C9\\n\\n\\nThis year will be different for our boys of NA\\n\\n\\nReddit, please say it with me.\",\n",
       " 'We pray.',\n",
       " 'NAmen']"
      ]
     },
     "execution_count": 27,
     "metadata": {},
     "output_type": "execute_result"
    }
   ],
   "source": [
    "list(df_raw.loc[df_raw.Source == 'Reddit']['sentence_tokens'][11])"
   ]
  },
  {
   "cell_type": "code",
   "execution_count": 28,
   "metadata": {},
   "outputs": [],
   "source": [
    "# returns median sentence len in # of tokens\n",
    "def tokenize(sentence):\n",
    "    len_ls = []\n",
    "    for i in range(len(sentence)):\n",
    "        # tokenize and remove punctuations\n",
    "        tokens = word_tokenize(sentence[i])\n",
    "        new_tokens = no_punc(tokens)\n",
    "        len_ls.append(len(new_tokens))\n",
    "    \n",
    "    return round(statistics.median(len_ls))\n",
    "\n",
    "# tokenize(df_raw.sentence_tokens[0][0])"
   ]
  },
  {
   "cell_type": "code",
   "execution_count": 29,
   "metadata": {},
   "outputs": [],
   "source": [
    "df_raw['median_sent_len'] = df_raw.sentence_tokens.apply(tokenize)"
   ]
  },
  {
   "cell_type": "code",
   "execution_count": 30,
   "metadata": {
    "scrolled": false
   },
   "outputs": [
    {
     "data": {
      "text/plain": [
       "Text(0.5, 1.0, 'Distribution of sentence length (number of tokens)')"
      ]
     },
     "execution_count": 30,
     "metadata": {},
     "output_type": "execute_result"
    },
    {
     "data": {
      "image/png": "[encoded data removed]",
      "text/plain": [
       "<Figure size 720x576 with 1 Axes>"
      ]
     },
     "metadata": {
      "needs_background": "light"
     },
     "output_type": "display_data"
    }
   ],
   "source": [
    "plt.figure(figsize=(10,8))\n",
    "\n",
    "sns.kdeplot(data=df_raw, x='median_sent_len', hue='Source', alpha = 0.5, fill = True)\n",
    "plt.xlabel('Length of sentence (number of tokens)')\n",
    "plt.ylabel('Number of tokens')\n",
    "plt.title('Distribution of sentence length (number of tokens)')"
   ]
  },
  {
   "cell_type": "markdown",
   "metadata": {},
   "source": [
    "### POS tagging\n",
    "\n",
    "Randomly select 3 sentences from each dataset, and apply POS tagging. Discuss the POS tagging results. Are the results as expected? Can the POS tagger well handle the domain specific terms?"
   ]
  },
  {
   "cell_type": "code",
   "execution_count": 31,
   "metadata": {
    "scrolled": true
   },
   "outputs": [
    {
     "name": "stdout",
     "output_type": "stream",
     "text": [
      "Google_News\n",
      "rand_doc: 3\n",
      "rand_sen: 6\n",
      "Israel says around 1,500 Hamas fighters were killed in clashes before its army regained control of the area under attack.\n",
      "==========\n",
      "Google_News\n",
      "rand_doc: 5\n",
      "rand_sen: 6\n",
      "The police on Saturday said they were \"aware of a social media post showing a man holding onto a sign relating to the Israel-Hamas conflict outside the Speakers’ Corner, and investigations are ongoing\".\n",
      "==========\n",
      "Google_News\n",
      "rand_doc: 7\n",
      "rand_sen: 13\n",
      "Supporting oppressed people is human.\n",
      "==========\n",
      "Reddit\n",
      "rand_doc: 9\n",
      "rand_sen: 2\n",
      "Best time of the year to like League.\n",
      "==========\n",
      "Reddit\n",
      "rand_doc: 2\n",
      "rand_sen: 26\n",
      "At his request, BDS Coaching staff paid thousands of Euro to a pre-school teacher to give Sheo lessons about object permanence.\n",
      "==========\n",
      "Reddit\n",
      "rand_doc: 3\n",
      "rand_sen: 17\n",
      "We were given the key by the casters over and over again to decypher the message.\n",
      "==========\n",
      "PDF\n",
      "rand_doc: 3\n",
      "rand_sen: 213\n",
      "While the window attention method works\n",
      "efficiently, it exhibits low accuracy due to random outputs when the input length exceeds the cache\n",
      "size.\n",
      "==========\n",
      "PDF\n",
      "rand_doc: 2\n",
      "rand_sen: 196\n",
      "As\n",
      "we observe adjacent games contain similar clues, we use 20 games with indices 1;6;\u0001\u0001\u0001;91;96for\n",
      "testing, and games 136;141;146;151;156for prompting.\n",
      "==========\n",
      "PDF\n",
      "rand_doc: 7\n",
      "rand_sen: 284\n",
      "L. Chen, K. Lu, A. Rajeswaran, K. Lee, A. Grover, M. Laskin, P. Abbeel, A. Srinivas, and I. Mordatch.\n",
      "==========\n"
     ]
    }
   ],
   "source": [
    "# Randomly sample from each dataset\n",
    "pos_dic = {'text' : [] , \n",
    "           'doc_no': [], \n",
    "           'sent_no': []}\n",
    "\n",
    "random.seed(111)\n",
    "source_cat = list(df_raw.Source.unique())\n",
    "\n",
    "for cat in source_cat:\n",
    "    data_1 = df_raw.loc[df_raw.Source == cat].reset_index(drop = True)\n",
    "    \n",
    "    max_article_count = data_1.shape[0] # get max no. doc for category\n",
    "    rand_doc_no_ls = [random.randint(0, max_article_count-1) for _ in range(3)] \n",
    "    \n",
    "    for rand_doc_no in rand_doc_no_ls:\n",
    "        data = data_1.loc[rand_doc_no, 'sentence_tokens']\n",
    "\n",
    "        max_doc_sentence = len(data) # max sentence for doc\n",
    "        rand_sent_no = random.randint(0, max_doc_sentence-1) # Which sentence\n",
    "\n",
    "        text = data[rand_sent_no]\n",
    "        \n",
    "        pos_dic['text'].append(text)\n",
    "        pos_dic['doc_no'].append(rand_doc_no)\n",
    "        pos_dic['sent_no'].append(rand_sent_no)\n",
    "        \n",
    "        print(cat)\n",
    "        print(f'rand_doc: {rand_doc_no}')\n",
    "        print(f'rand_sen: {rand_sent_no}')\n",
    "        print(text)\n",
    "        print('==========')"
   ]
  },
  {
   "cell_type": "code",
   "execution_count": 32,
   "metadata": {
    "scrolled": true
   },
   "outputs": [],
   "source": [
    "pos_df = pd.DataFrame(pos_dic)\n",
    "pos_df['pos_tagging'] = pos_df.text.apply(lambda x: pos_tag(word_tokenize(x)))"
   ]
  },
  {
   "cell_type": "code",
   "execution_count": 33,
   "metadata": {
    "scrolled": true
   },
   "outputs": [
    {
     "name": "stdout",
     "output_type": "stream",
     "text": [
      "[('The', 'DT'), ('police', 'NN'), ('on', 'IN'), ('Saturday', 'NNP'), ('said', 'VBD'), ('they', 'PRP'), ('were', 'VBD'), ('``', '``'), ('aware', 'JJ'), ('of', 'IN'), ('a', 'DT'), ('social', 'JJ'), ('media', 'NNS'), ('post', 'NN'), ('showing', 'VBG'), ('a', 'DT'), ('man', 'NN'), ('holding', 'VBG'), ('onto', 'IN'), ('a', 'DT'), ('sign', 'NN'), ('relating', 'VBG'), ('to', 'TO'), ('the', 'DT'), ('Israel-Hamas', 'NNP'), ('conflict', 'NN'), ('outside', 'IN'), ('the', 'DT'), ('Speakers', 'NNP'), ('’', 'NNP'), ('Corner', 'NNP'), (',', ','), ('and', 'CC'), ('investigations', 'NNS'), ('are', 'VBP'), ('ongoing', 'VBG'), (\"''\", \"''\"), ('.', '.')]\n"
     ]
    }
   ],
   "source": [
    "print(pos_df.pos_tagging[1])"
   ]
  },
  {
   "cell_type": "code",
   "execution_count": 34,
   "metadata": {
    "scrolled": false
   },
   "outputs": [
    {
     "name": "stdout",
     "output_type": "stream",
     "text": [
      "[('Israel', 'NNP'), ('says', 'VBZ'), ('around', 'IN'), ('1,500', 'CD'), ('Hamas', 'NNP'), ('fighters', 'NNS'), ('were', 'VBD'), ('killed', 'VBN'), ('in', 'IN'), ('clashes', 'NNS'), ('before', 'IN'), ('its', 'PRP$'), ('army', 'NN'), ('regained', 'VBD'), ('control', 'NN'), ('of', 'IN'), ('the', 'DT'), ('area', 'NN'), ('under', 'IN'), ('attack', 'NN'), ('.', '.')]\n",
      "===============\n",
      "[('The', 'DT'), ('police', 'NN'), ('on', 'IN'), ('Saturday', 'NNP'), ('said', 'VBD'), ('they', 'PRP'), ('were', 'VBD'), ('``', '``'), ('aware', 'JJ'), ('of', 'IN'), ('a', 'DT'), ('social', 'JJ'), ('media', 'NNS'), ('post', 'NN'), ('showing', 'VBG'), ('a', 'DT'), ('man', 'NN'), ('holding', 'VBG'), ('onto', 'IN'), ('a', 'DT'), ('sign', 'NN'), ('relating', 'VBG'), ('to', 'TO'), ('the', 'DT'), ('Israel-Hamas', 'NNP'), ('conflict', 'NN'), ('outside', 'IN'), ('the', 'DT'), ('Speakers', 'NNP'), ('’', 'NNP'), ('Corner', 'NNP'), (',', ','), ('and', 'CC'), ('investigations', 'NNS'), ('are', 'VBP'), ('ongoing', 'VBG'), (\"''\", \"''\"), ('.', '.')]\n",
      "===============\n",
      "[('Supporting', 'VBG'), ('oppressed', 'JJ'), ('people', 'NNS'), ('is', 'VBZ'), ('human', 'JJ'), ('.', '.')]\n",
      "===============\n",
      "[('Best', 'JJS'), ('time', 'NN'), ('of', 'IN'), ('the', 'DT'), ('year', 'NN'), ('to', 'TO'), ('like', 'IN'), ('League', 'NNP'), ('.', '.')]\n",
      "===============\n",
      "[('At', 'IN'), ('his', 'PRP$'), ('request', 'NN'), (',', ','), ('BDS', 'NNP'), ('Coaching', 'NNP'), ('staff', 'NN'), ('paid', 'VBD'), ('thousands', 'NNS'), ('of', 'IN'), ('Euro', 'NNP'), ('to', 'TO'), ('a', 'DT'), ('pre-school', 'JJ'), ('teacher', 'NN'), ('to', 'TO'), ('give', 'VB'), ('Sheo', 'NNP'), ('lessons', 'NNS'), ('about', 'IN'), ('object', 'JJ'), ('permanence', 'NN'), ('.', '.')]\n",
      "===============\n",
      "[('We', 'PRP'), ('were', 'VBD'), ('given', 'VBN'), ('the', 'DT'), ('key', 'NN'), ('by', 'IN'), ('the', 'DT'), ('casters', 'NNS'), ('over', 'IN'), ('and', 'CC'), ('over', 'RB'), ('again', 'RB'), ('to', 'TO'), ('decypher', 'VB'), ('the', 'DT'), ('message', 'NN'), ('.', '.')]\n",
      "===============\n",
      "[('While', 'IN'), ('the', 'DT'), ('window', 'NN'), ('attention', 'NN'), ('method', 'NN'), ('works', 'VBZ'), ('efficiently', 'RB'), (',', ','), ('it', 'PRP'), ('exhibits', 'VBZ'), ('low', 'JJ'), ('accuracy', 'NN'), ('due', 'JJ'), ('to', 'TO'), ('random', 'VB'), ('outputs', 'NNS'), ('when', 'WRB'), ('the', 'DT'), ('input', 'NN'), ('length', 'NN'), ('exceeds', 'VBZ'), ('the', 'DT'), ('cache', 'NN'), ('size', 'NN'), ('.', '.')]\n",
      "===============\n",
      "[('As', 'IN'), ('we', 'PRP'), ('observe', 'VBP'), ('adjacent', 'JJ'), ('games', 'NNS'), ('contain', 'VBP'), ('similar', 'JJ'), ('clues', 'NNS'), (',', ','), ('we', 'PRP'), ('use', 'VBP'), ('20', 'CD'), ('games', 'NNS'), ('with', 'IN'), ('indices', 'NNS'), ('1', 'CD'), (';', ':'), ('6', 'CD'), (';', ':'), ('\\x01\\x01\\x01', 'NNP'), (';', ':'), ('91', 'CD'), (';', ':'), ('96for', 'CD'), ('testing', 'NN'), (',', ','), ('and', 'CC'), ('games', 'NNS'), ('136', 'CD'), (';', ':'), ('141', 'CD'), (';', ':'), ('146', 'CD'), (';', ':'), ('151', 'CD'), (';', ':'), ('156for', 'CD'), ('prompting', 'NN'), ('.', '.')]\n",
      "===============\n",
      "[('L.', 'NNP'), ('Chen', 'NNP'), (',', ','), ('K.', 'NNP'), ('Lu', 'NNP'), (',', ','), ('A.', 'NNP'), ('Rajeswaran', 'NNP'), (',', ','), ('K.', 'NNP'), ('Lee', 'NNP'), (',', ','), ('A.', 'NNP'), ('Grover', 'NNP'), (',', ','), ('M.', 'NNP'), ('Laskin', 'NNP'), (',', ','), ('P.', 'NNP'), ('Abbeel', 'NNP'), (',', ','), ('A.', 'NNP'), ('Srinivas', 'NNP'), (',', ','), ('and', 'CC'), ('I.', 'NNP'), ('Mordatch', 'NNP'), ('.', '.')]\n",
      "===============\n"
     ]
    }
   ],
   "source": [
    "for i in range(pos_df.shape[0]):\n",
    "    print(pos_df.pos_tagging[i])\n",
    "    print('===============')"
   ]
  },
  {
   "cell_type": "code",
   "execution_count": null,
   "metadata": {},
   "outputs": [],
   "source": []
  },
  {
   "cell_type": "code",
   "execution_count": 42,
   "metadata": {},
   "outputs": [],
   "source": [
    "# pos_df.to_csv('POS_Tagging.csv')"
   ]
  },
  {
   "cell_type": "code",
   "execution_count": null,
   "metadata": {},
   "outputs": [],
   "source": []
  },
  {
   "cell_type": "code",
   "execution_count": null,
   "metadata": {},
   "outputs": [],
   "source": []
  }
 ],
 "metadata": {
  "kernelspec": {
   "display_name": "deeplearning",
   "language": "python",
   "name": "deeplearning"
  },
  "language_info": {
   "codemirror_mode": {
    "name": "ipython",
    "version": 3
   },
   "file_extension": ".py",
   "mimetype": "text/x-python",
   "name": "python",
   "nbconvert_exporter": "python",
   "pygments_lexer": "ipython3",
   "version": "3.7.9"
  }
 },
 "nbformat": 4,
 "nbformat_minor": 4
}
